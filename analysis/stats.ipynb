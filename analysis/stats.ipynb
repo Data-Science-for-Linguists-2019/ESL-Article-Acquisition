{
 "cells": [
  {
   "cell_type": "markdown",
   "metadata": {},
   "source": [
    "### Importing and set-up"
   ]
  },
  {
   "cell_type": "code",
   "execution_count": 1,
   "metadata": {},
   "outputs": [
    {
     "name": "stdout",
     "output_type": "stream",
     "text": [
      "Pretty printing has been turned OFF\n"
     ]
    }
   ],
   "source": [
    "import pandas as pd\n",
    "import numpy as np\n",
    "\n",
    "from IPython.core.interactiveshell import InteractiveShell\n",
    "InteractiveShell.ast_node_interactivity = \"all\"\n",
    "\n",
    "# import seaborn\n",
    "import seaborn as sns\n",
    "import matplotlib.pyplot as plt\n",
    "from scipy import stats\n",
    "\n",
    "%pprint            # to turn off pretty printing"
   ]
  },
  {
   "cell_type": "code",
   "execution_count": 2,
   "metadata": {},
   "outputs": [
    {
     "name": "stderr",
     "output_type": "stream",
     "text": [
      "/anaconda3/lib/python3.7/site-packages/ipykernel_launcher.py:1: FutureWarning: from_csv is deprecated. Please use read_csv(...) instead. Note that some of the default arguments are different, so please refer to the documentation for from_csv when changing your function calls\n",
      "  \"\"\"Entry point for launching an IPython kernel.\n",
      "/anaconda3/lib/python3.7/site-packages/ipykernel_launcher.py:2: FutureWarning: from_csv is deprecated. Please use read_csv(...) instead. Note that some of the default arguments are different, so please refer to the documentation for from_csv when changing your function calls\n",
      "  \n"
     ]
    }
   ],
   "source": [
    "balc = pd.DataFrame.from_csv('../data/balc_targets.csv', index_col=[0])\n",
    "pelic = pd.DataFrame.from_csv('../private/pelic_targets.csv', index_col=[0])"
   ]
  },
  {
   "cell_type": "markdown",
   "metadata": {},
   "source": [
    "### Descriptive"
   ]
  },
  {
   "cell_type": "code",
   "execution_count": 3,
   "metadata": {},
   "outputs": [
    {
     "data": {
      "text/html": [
       "<div>\n",
       "<style scoped>\n",
       "    .dataframe tbody tr th:only-of-type {\n",
       "        vertical-align: middle;\n",
       "    }\n",
       "\n",
       "    .dataframe tbody tr th {\n",
       "        vertical-align: top;\n",
       "    }\n",
       "\n",
       "    .dataframe thead tr th {\n",
       "        text-align: left;\n",
       "    }\n",
       "\n",
       "    .dataframe thead tr:last-of-type th {\n",
       "        text-align: right;\n",
       "    }\n",
       "</style>\n",
       "<table border=\"1\" class=\"dataframe\">\n",
       "  <thead>\n",
       "    <tr>\n",
       "      <th></th>\n",
       "      <th colspan=\"8\" halign=\"left\">token_count</th>\n",
       "      <th colspan=\"8\" halign=\"left\">Guiraud</th>\n",
       "    </tr>\n",
       "    <tr>\n",
       "      <th></th>\n",
       "      <th>count</th>\n",
       "      <th>mean</th>\n",
       "      <th>std</th>\n",
       "      <th>min</th>\n",
       "      <th>25%</th>\n",
       "      <th>50%</th>\n",
       "      <th>75%</th>\n",
       "      <th>max</th>\n",
       "      <th>count</th>\n",
       "      <th>mean</th>\n",
       "      <th>std</th>\n",
       "      <th>min</th>\n",
       "      <th>25%</th>\n",
       "      <th>50%</th>\n",
       "      <th>75%</th>\n",
       "      <th>max</th>\n",
       "    </tr>\n",
       "    <tr>\n",
       "      <th>Level</th>\n",
       "      <th></th>\n",
       "      <th></th>\n",
       "      <th></th>\n",
       "      <th></th>\n",
       "      <th></th>\n",
       "      <th></th>\n",
       "      <th></th>\n",
       "      <th></th>\n",
       "      <th></th>\n",
       "      <th></th>\n",
       "      <th></th>\n",
       "      <th></th>\n",
       "      <th></th>\n",
       "      <th></th>\n",
       "      <th></th>\n",
       "      <th></th>\n",
       "    </tr>\n",
       "  </thead>\n",
       "  <tbody>\n",
       "    <tr>\n",
       "      <th>3</th>\n",
       "      <td>10.0</td>\n",
       "      <td>151.7</td>\n",
       "      <td>64.187313</td>\n",
       "      <td>78.0</td>\n",
       "      <td>102.25</td>\n",
       "      <td>144.0</td>\n",
       "      <td>167.00</td>\n",
       "      <td>264.0</td>\n",
       "      <td>10.0</td>\n",
       "      <td>6.163016</td>\n",
       "      <td>1.109401</td>\n",
       "      <td>4.858987</td>\n",
       "      <td>5.306816</td>\n",
       "      <td>5.996125</td>\n",
       "      <td>7.194436</td>\n",
       "      <td>7.877855</td>\n",
       "    </tr>\n",
       "    <tr>\n",
       "      <th>4</th>\n",
       "      <td>10.0</td>\n",
       "      <td>211.3</td>\n",
       "      <td>41.411351</td>\n",
       "      <td>138.0</td>\n",
       "      <td>185.75</td>\n",
       "      <td>209.0</td>\n",
       "      <td>238.00</td>\n",
       "      <td>286.0</td>\n",
       "      <td>10.0</td>\n",
       "      <td>6.811704</td>\n",
       "      <td>1.021188</td>\n",
       "      <td>5.344792</td>\n",
       "      <td>6.127009</td>\n",
       "      <td>6.680361</td>\n",
       "      <td>7.663461</td>\n",
       "      <td>8.455767</td>\n",
       "    </tr>\n",
       "    <tr>\n",
       "      <th>5</th>\n",
       "      <td>10.0</td>\n",
       "      <td>251.6</td>\n",
       "      <td>70.062195</td>\n",
       "      <td>172.0</td>\n",
       "      <td>188.75</td>\n",
       "      <td>255.0</td>\n",
       "      <td>282.25</td>\n",
       "      <td>397.0</td>\n",
       "      <td>10.0</td>\n",
       "      <td>7.484633</td>\n",
       "      <td>0.928882</td>\n",
       "      <td>6.186455</td>\n",
       "      <td>6.807033</td>\n",
       "      <td>7.507225</td>\n",
       "      <td>7.826307</td>\n",
       "      <td>8.944468</td>\n",
       "    </tr>\n",
       "    <tr>\n",
       "      <th>6</th>\n",
       "      <td>10.0</td>\n",
       "      <td>229.4</td>\n",
       "      <td>40.467271</td>\n",
       "      <td>183.0</td>\n",
       "      <td>200.75</td>\n",
       "      <td>220.5</td>\n",
       "      <td>243.00</td>\n",
       "      <td>303.0</td>\n",
       "      <td>10.0</td>\n",
       "      <td>8.029801</td>\n",
       "      <td>0.465230</td>\n",
       "      <td>7.529412</td>\n",
       "      <td>7.798222</td>\n",
       "      <td>7.981108</td>\n",
       "      <td>8.169718</td>\n",
       "      <td>9.152086</td>\n",
       "    </tr>\n",
       "  </tbody>\n",
       "</table>\n",
       "</div>"
      ],
      "text/plain": [
       "      token_count                                                         \\\n",
       "            count   mean        std    min     25%    50%     75%    max   \n",
       "Level                                                                      \n",
       "3            10.0  151.7  64.187313   78.0  102.25  144.0  167.00  264.0   \n",
       "4            10.0  211.3  41.411351  138.0  185.75  209.0  238.00  286.0   \n",
       "5            10.0  251.6  70.062195  172.0  188.75  255.0  282.25  397.0   \n",
       "6            10.0  229.4  40.467271  183.0  200.75  220.5  243.00  303.0   \n",
       "\n",
       "      Guiraud                                                              \\\n",
       "        count      mean       std       min       25%       50%       75%   \n",
       "Level                                                                       \n",
       "3        10.0  6.163016  1.109401  4.858987  5.306816  5.996125  7.194436   \n",
       "4        10.0  6.811704  1.021188  5.344792  6.127009  6.680361  7.663461   \n",
       "5        10.0  7.484633  0.928882  6.186455  6.807033  7.507225  7.826307   \n",
       "6        10.0  8.029801  0.465230  7.529412  7.798222  7.981108  8.169718   \n",
       "\n",
       "                 \n",
       "            max  \n",
       "Level            \n",
       "3      7.877855  \n",
       "4      8.455767  \n",
       "5      8.944468  \n",
       "6      9.152086  "
      ]
     },
     "execution_count": 3,
     "metadata": {},
     "output_type": "execute_result"
    }
   ],
   "source": [
    "balc.groupby('Level')['token_count', 'Guiraud'].describe()"
   ]
  },
  {
   "cell_type": "code",
   "execution_count": 4,
   "metadata": {},
   "outputs": [
    {
     "data": {
      "text/html": [
       "<div>\n",
       "<style scoped>\n",
       "    .dataframe tbody tr th:only-of-type {\n",
       "        vertical-align: middle;\n",
       "    }\n",
       "\n",
       "    .dataframe tbody tr th {\n",
       "        vertical-align: top;\n",
       "    }\n",
       "\n",
       "    .dataframe thead tr th {\n",
       "        text-align: left;\n",
       "    }\n",
       "\n",
       "    .dataframe thead tr:last-of-type th {\n",
       "        text-align: right;\n",
       "    }\n",
       "</style>\n",
       "<table border=\"1\" class=\"dataframe\">\n",
       "  <thead>\n",
       "    <tr>\n",
       "      <th></th>\n",
       "      <th></th>\n",
       "      <th colspan=\"8\" halign=\"left\">toks_re_len</th>\n",
       "      <th colspan=\"8\" halign=\"left\">Guiraud</th>\n",
       "    </tr>\n",
       "    <tr>\n",
       "      <th></th>\n",
       "      <th></th>\n",
       "      <th>count</th>\n",
       "      <th>mean</th>\n",
       "      <th>std</th>\n",
       "      <th>min</th>\n",
       "      <th>25%</th>\n",
       "      <th>50%</th>\n",
       "      <th>75%</th>\n",
       "      <th>max</th>\n",
       "      <th>count</th>\n",
       "      <th>mean</th>\n",
       "      <th>std</th>\n",
       "      <th>min</th>\n",
       "      <th>25%</th>\n",
       "      <th>50%</th>\n",
       "      <th>75%</th>\n",
       "      <th>max</th>\n",
       "    </tr>\n",
       "    <tr>\n",
       "      <th>level_id</th>\n",
       "      <th>native_language</th>\n",
       "      <th></th>\n",
       "      <th></th>\n",
       "      <th></th>\n",
       "      <th></th>\n",
       "      <th></th>\n",
       "      <th></th>\n",
       "      <th></th>\n",
       "      <th></th>\n",
       "      <th></th>\n",
       "      <th></th>\n",
       "      <th></th>\n",
       "      <th></th>\n",
       "      <th></th>\n",
       "      <th></th>\n",
       "      <th></th>\n",
       "      <th></th>\n",
       "    </tr>\n",
       "  </thead>\n",
       "  <tbody>\n",
       "    <tr>\n",
       "      <th rowspan=\"3\" valign=\"top\">3</th>\n",
       "      <th>Arabic</th>\n",
       "      <td>10.0</td>\n",
       "      <td>173.0</td>\n",
       "      <td>103.825709</td>\n",
       "      <td>10.0</td>\n",
       "      <td>107.75</td>\n",
       "      <td>167.0</td>\n",
       "      <td>208.25</td>\n",
       "      <td>356.0</td>\n",
       "      <td>10.0</td>\n",
       "      <td>6.410718</td>\n",
       "      <td>1.841603</td>\n",
       "      <td>3.162278</td>\n",
       "      <td>4.989269</td>\n",
       "      <td>6.692213</td>\n",
       "      <td>7.795469</td>\n",
       "      <td>9.009982</td>\n",
       "    </tr>\n",
       "    <tr>\n",
       "      <th>Korean</th>\n",
       "      <td>10.0</td>\n",
       "      <td>171.9</td>\n",
       "      <td>58.856605</td>\n",
       "      <td>100.0</td>\n",
       "      <td>127.50</td>\n",
       "      <td>156.5</td>\n",
       "      <td>207.00</td>\n",
       "      <td>280.0</td>\n",
       "      <td>10.0</td>\n",
       "      <td>6.780253</td>\n",
       "      <td>1.681038</td>\n",
       "      <td>3.502303</td>\n",
       "      <td>5.884419</td>\n",
       "      <td>6.769231</td>\n",
       "      <td>7.943260</td>\n",
       "      <td>9.203260</td>\n",
       "    </tr>\n",
       "    <tr>\n",
       "      <th>Spanish</th>\n",
       "      <td>10.0</td>\n",
       "      <td>159.6</td>\n",
       "      <td>78.785503</td>\n",
       "      <td>69.0</td>\n",
       "      <td>116.75</td>\n",
       "      <td>160.0</td>\n",
       "      <td>171.00</td>\n",
       "      <td>355.0</td>\n",
       "      <td>10.0</td>\n",
       "      <td>6.093174</td>\n",
       "      <td>0.596275</td>\n",
       "      <td>5.160468</td>\n",
       "      <td>5.808045</td>\n",
       "      <td>5.964809</td>\n",
       "      <td>6.427172</td>\n",
       "      <td>7.295815</td>\n",
       "    </tr>\n",
       "    <tr>\n",
       "      <th rowspan=\"3\" valign=\"top\">4</th>\n",
       "      <th>Arabic</th>\n",
       "      <td>10.0</td>\n",
       "      <td>205.6</td>\n",
       "      <td>132.624114</td>\n",
       "      <td>13.0</td>\n",
       "      <td>86.75</td>\n",
       "      <td>223.5</td>\n",
       "      <td>309.75</td>\n",
       "      <td>384.0</td>\n",
       "      <td>10.0</td>\n",
       "      <td>7.055018</td>\n",
       "      <td>2.018816</td>\n",
       "      <td>3.605551</td>\n",
       "      <td>5.420555</td>\n",
       "      <td>7.629763</td>\n",
       "      <td>8.064704</td>\n",
       "      <td>10.190197</td>\n",
       "    </tr>\n",
       "    <tr>\n",
       "      <th>Korean</th>\n",
       "      <td>10.0</td>\n",
       "      <td>226.1</td>\n",
       "      <td>98.635637</td>\n",
       "      <td>46.0</td>\n",
       "      <td>169.75</td>\n",
       "      <td>206.5</td>\n",
       "      <td>319.75</td>\n",
       "      <td>356.0</td>\n",
       "      <td>10.0</td>\n",
       "      <td>7.752922</td>\n",
       "      <td>1.260174</td>\n",
       "      <td>5.602794</td>\n",
       "      <td>7.125573</td>\n",
       "      <td>7.798156</td>\n",
       "      <td>8.761087</td>\n",
       "      <td>9.486981</td>\n",
       "    </tr>\n",
       "    <tr>\n",
       "      <th>Spanish</th>\n",
       "      <td>10.0</td>\n",
       "      <td>220.5</td>\n",
       "      <td>134.122871</td>\n",
       "      <td>59.0</td>\n",
       "      <td>98.50</td>\n",
       "      <td>189.0</td>\n",
       "      <td>342.50</td>\n",
       "      <td>398.0</td>\n",
       "      <td>10.0</td>\n",
       "      <td>7.435105</td>\n",
       "      <td>1.939005</td>\n",
       "      <td>5.077368</td>\n",
       "      <td>6.107491</td>\n",
       "      <td>6.931256</td>\n",
       "      <td>9.082138</td>\n",
       "      <td>10.536023</td>\n",
       "    </tr>\n",
       "    <tr>\n",
       "      <th rowspan=\"3\" valign=\"top\">5</th>\n",
       "      <th>Arabic</th>\n",
       "      <td>10.0</td>\n",
       "      <td>258.2</td>\n",
       "      <td>128.273839</td>\n",
       "      <td>20.0</td>\n",
       "      <td>160.25</td>\n",
       "      <td>284.5</td>\n",
       "      <td>370.75</td>\n",
       "      <td>390.0</td>\n",
       "      <td>10.0</td>\n",
       "      <td>7.138747</td>\n",
       "      <td>1.646513</td>\n",
       "      <td>4.248529</td>\n",
       "      <td>5.888579</td>\n",
       "      <td>7.525306</td>\n",
       "      <td>8.581431</td>\n",
       "      <td>8.870455</td>\n",
       "    </tr>\n",
       "    <tr>\n",
       "      <th>Korean</th>\n",
       "      <td>10.0</td>\n",
       "      <td>144.5</td>\n",
       "      <td>103.596707</td>\n",
       "      <td>28.0</td>\n",
       "      <td>68.00</td>\n",
       "      <td>140.0</td>\n",
       "      <td>180.25</td>\n",
       "      <td>374.0</td>\n",
       "      <td>10.0</td>\n",
       "      <td>6.803422</td>\n",
       "      <td>1.714505</td>\n",
       "      <td>4.274374</td>\n",
       "      <td>5.384871</td>\n",
       "      <td>7.081285</td>\n",
       "      <td>7.685704</td>\n",
       "      <td>9.499716</td>\n",
       "    </tr>\n",
       "    <tr>\n",
       "      <th>Spanish</th>\n",
       "      <td>10.0</td>\n",
       "      <td>290.0</td>\n",
       "      <td>113.430351</td>\n",
       "      <td>33.0</td>\n",
       "      <td>270.75</td>\n",
       "      <td>330.0</td>\n",
       "      <td>361.50</td>\n",
       "      <td>397.0</td>\n",
       "      <td>10.0</td>\n",
       "      <td>7.891529</td>\n",
       "      <td>1.291962</td>\n",
       "      <td>5.048252</td>\n",
       "      <td>7.536954</td>\n",
       "      <td>8.304324</td>\n",
       "      <td>8.613962</td>\n",
       "      <td>9.712147</td>\n",
       "    </tr>\n",
       "  </tbody>\n",
       "</table>\n",
       "</div>"
      ],
      "text/plain": [
       "                         toks_re_len                                           \\\n",
       "                               count   mean         std    min     25%    50%   \n",
       "level_id native_language                                                        \n",
       "3        Arabic                 10.0  173.0  103.825709   10.0  107.75  167.0   \n",
       "         Korean                 10.0  171.9   58.856605  100.0  127.50  156.5   \n",
       "         Spanish                10.0  159.6   78.785503   69.0  116.75  160.0   \n",
       "4        Arabic                 10.0  205.6  132.624114   13.0   86.75  223.5   \n",
       "         Korean                 10.0  226.1   98.635637   46.0  169.75  206.5   \n",
       "         Spanish                10.0  220.5  134.122871   59.0   98.50  189.0   \n",
       "5        Arabic                 10.0  258.2  128.273839   20.0  160.25  284.5   \n",
       "         Korean                 10.0  144.5  103.596707   28.0   68.00  140.0   \n",
       "         Spanish                10.0  290.0  113.430351   33.0  270.75  330.0   \n",
       "\n",
       "                                        Guiraud                                \\\n",
       "                             75%    max   count      mean       std       min   \n",
       "level_id native_language                                                        \n",
       "3        Arabic           208.25  356.0    10.0  6.410718  1.841603  3.162278   \n",
       "         Korean           207.00  280.0    10.0  6.780253  1.681038  3.502303   \n",
       "         Spanish          171.00  355.0    10.0  6.093174  0.596275  5.160468   \n",
       "4        Arabic           309.75  384.0    10.0  7.055018  2.018816  3.605551   \n",
       "         Korean           319.75  356.0    10.0  7.752922  1.260174  5.602794   \n",
       "         Spanish          342.50  398.0    10.0  7.435105  1.939005  5.077368   \n",
       "5        Arabic           370.75  390.0    10.0  7.138747  1.646513  4.248529   \n",
       "         Korean           180.25  374.0    10.0  6.803422  1.714505  4.274374   \n",
       "         Spanish          361.50  397.0    10.0  7.891529  1.291962  5.048252   \n",
       "\n",
       "                                                                   \n",
       "                               25%       50%       75%        max  \n",
       "level_id native_language                                           \n",
       "3        Arabic           4.989269  6.692213  7.795469   9.009982  \n",
       "         Korean           5.884419  6.769231  7.943260   9.203260  \n",
       "         Spanish          5.808045  5.964809  6.427172   7.295815  \n",
       "4        Arabic           5.420555  7.629763  8.064704  10.190197  \n",
       "         Korean           7.125573  7.798156  8.761087   9.486981  \n",
       "         Spanish          6.107491  6.931256  9.082138  10.536023  \n",
       "5        Arabic           5.888579  7.525306  8.581431   8.870455  \n",
       "         Korean           5.384871  7.081285  7.685704   9.499716  \n",
       "         Spanish          7.536954  8.304324  8.613962   9.712147  "
      ]
     },
     "execution_count": 4,
     "metadata": {},
     "output_type": "execute_result"
    }
   ],
   "source": [
    "pelic.groupby(['level_id', 'native_language'])['toks_re_len', 'Guiraud'].describe()"
   ]
  },
  {
   "cell_type": "markdown",
   "metadata": {},
   "source": [
    "### Visualization"
   ]
  },
  {
   "cell_type": "markdown",
   "metadata": {},
   "source": [
    "#### BALC"
   ]
  },
  {
   "cell_type": "code",
   "execution_count": 5,
   "metadata": {
    "scrolled": true
   },
   "outputs": [
    {
     "data": {
      "text/plain": [
       "Text(0.5, 1.0, 'Token Count by Level (BALC samples)')"
      ]
     },
     "execution_count": 5,
     "metadata": {},
     "output_type": "execute_result"
    },
    {
     "data": {
      "image/png": "[encoded data removed]",
      "text/plain": [
       "<Figure size 576x576 with 1 Axes>"
      ]
     },
     "metadata": {
      "needs_background": "light"
     },
     "output_type": "display_data"
    }
   ],
   "source": [
    "fig = sns.catplot(x='Level', y='token_count', kind='box', data=balc, height=8)\n",
    "plt.title('Token Count by Level (BALC samples)')\n",
    "fig.savefig('../images/samples_balc_tokct.png')"
   ]
  },
  {
   "cell_type": "code",
   "execution_count": 6,
   "metadata": {},
   "outputs": [
    {
     "data": {
      "text/plain": [
       "Text(0.5, 1.0, \"Guiraud's R  by Level (BALC samples)\")"
      ]
     },
     "execution_count": 6,
     "metadata": {},
     "output_type": "execute_result"
    },
    {
     "data": {
      "image/png": "[encoded data removed]",
      "text/plain": [
       "<Figure size 576x576 with 1 Axes>"
      ]
     },
     "metadata": {
      "needs_background": "light"
     },
     "output_type": "display_data"
    }
   ],
   "source": [
    "fig = sns.catplot(x='Level', y='Guiraud', kind='box', data=balc, height=8)\n",
    "plt.title('Guiraud\\'s R  by Level (BALC samples)')\n",
    "fig.savefig('../images/samples_balc_guiraudr.png')"
   ]
  },
  {
   "cell_type": "markdown",
   "metadata": {},
   "source": [
    "#### PELIC"
   ]
  },
  {
   "cell_type": "code",
   "execution_count": 7,
   "metadata": {},
   "outputs": [
    {
     "data": {
      "text/plain": [
       "Text(0.5, 1.0, 'Token Count by Level and L1 (PELIC samples)')"
      ]
     },
     "execution_count": 7,
     "metadata": {},
     "output_type": "execute_result"
    },
    {
     "data": {
      "image/png": "[encoded data removed]",
      "text/plain": [
       "<Figure size 667x576 with 1 Axes>"
      ]
     },
     "metadata": {
      "needs_background": "light"
     },
     "output_type": "display_data"
    }
   ],
   "source": [
    "# breaking down by L1\n",
    "fig = sns.catplot(x='level_id', y='toks_re_len', kind='box', data=pelic, height=8, hue='native_language')\n",
    "plt.title('Token Count by Level and L1 (PELIC samples)')\n",
    "fig.savefig('../images/samples_pelic_tokct.png')"
   ]
  },
  {
   "cell_type": "code",
   "execution_count": 8,
   "metadata": {},
   "outputs": [
    {
     "data": {
      "text/plain": [
       "Text(0.5, 1.0, \"Guiraud's R by Level and L1 (PELIC samples)\")"
      ]
     },
     "execution_count": 8,
     "metadata": {},
     "output_type": "execute_result"
    },
    {
     "data": {
      "image/png": "[encoded data removed]",
      "text/plain": [
       "<Figure size 667x576 with 1 Axes>"
      ]
     },
     "metadata": {
      "needs_background": "light"
     },
     "output_type": "display_data"
    }
   ],
   "source": [
    "# by level and L1\n",
    "fig = sns.catplot(x='level_id', y='Guiraud', kind='box', data=pelic, height=8, hue='native_language')\n",
    "plt.title('Guiraud\\'s R by Level and L1 (PELIC samples)')\n",
    "fig.savefig('../images/samples_pelic_guiraudr.png')"
   ]
  }
 ],
 "metadata": {
  "kernelspec": {
   "display_name": "Python 3",
   "language": "python",
   "name": "python3"
  },
  "language_info": {
   "codemirror_mode": {
    "name": "ipython",
    "version": 3
   },
   "file_extension": ".py",
   "mimetype": "text/x-python",
   "name": "python",
   "nbconvert_exporter": "python",
   "pygments_lexer": "ipython3",
   "version": "3.7.2"
  }
 },
 "nbformat": 4,
 "nbformat_minor": 2
}
