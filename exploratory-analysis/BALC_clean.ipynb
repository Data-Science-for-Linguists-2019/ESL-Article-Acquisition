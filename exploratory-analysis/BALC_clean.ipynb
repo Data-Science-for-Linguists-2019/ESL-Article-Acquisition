{
 "cells": [
  {
   "cell_type": "markdown",
   "metadata": {},
   "source": [
    "# BALC cleaning \n",
    "## Subset: CEPA files \n",
    "\n",
    "2019.02.08 — 2019.02.21\n",
    "\n",
    "## Summary of code\n",
    "- Created a corpus dictionary with the file name, original text, and perceived level of proficiency\n",
    "- Initial set up of cepa_df based off the corpus dictionary, which included\n",
    "    - Filenames\n",
    "    - Original Text\n",
    "- Cleaning up the text for cepa_df by making:\n",
    "    - A \"Normalized\" Text with standardized tagging (if applicable)\n",
    "    - A \"Revised\" Essay, which removes student correction tags and removes crossed out text\n",
    "- Building up cepa_df with: \n",
    "    - Tokenized essays (built off of the revised essay)\n",
    "    - Token counts\n",
    "    - TTR count\n",
    "- Making sure everything read in correctly\n",
    "- Visualizing a bit of data about the various levels (token_count, TTR)"
   ]
  },
  {
   "cell_type": "markdown",
   "metadata": {},
   "source": [
    "### Initial set-up"
   ]
  },
  {
   "cell_type": "code",
   "execution_count": 1,
   "metadata": {},
   "outputs": [
    {
     "name": "stdout",
     "output_type": "stream",
     "text": [
      "Pretty printing has been turned OFF\n"
     ]
    }
   ],
   "source": [
    "import pandas as pd\n",
    "import numpy as np\n",
    "import pickle\n",
    "import nltk\n",
    "import glob\n",
    "import re\n",
    "\n",
    "from IPython.core.interactiveshell import InteractiveShell\n",
    "InteractiveShell.ast_node_interactivity = \"all\"\n",
    "\n",
    "%pprint            # to turn off pretty printing"
   ]
  },
  {
   "cell_type": "code",
   "execution_count": 2,
   "metadata": {
    "scrolled": true
   },
   "outputs": [
    {
     "data": {
      "text/plain": [
       "['../private/BUiD Arab Learner Corpus v.1/total/CEPA 3 200607296.txt', '../private/BUiD Arab Learner Corpus v.1/total/CEPA 4 200607457.txt', '../private/BUiD Arab Learner Corpus v.1/total/CEPA 5 200600487.txt', '../private/BUiD Arab Learner Corpus v.1/total/CEPA 4 200608016.txt', '../private/BUiD Arab Learner Corpus v.1/total/CEPA 1 200611825.txt']"
      ]
     },
     "execution_count": 2,
     "metadata": {},
     "output_type": "execute_result"
    }
   ],
   "source": [
    "cor_dir = \"../private/BUiD Arab Learner Corpus v.1/total/\"\n",
    "corpus = glob.glob(cor_dir+'*.txt')\n",
    "corpus[:5]"
   ]
  },
  {
   "cell_type": "markdown",
   "metadata": {},
   "source": [
    "There are some duplicates in the total folder, which I'm using for the corpus root. However, I was able to locate the correctly labeled files (`clean_files`) in the CEPA Images folder, where all the original handwritten essays are located. Therefore, during my exploration of the corpus, I picked the duplicated (`bad_files`) as well as the clean files. I'll be using these two variables to point in the correct direction, so that we don't have essays incorrectly labeled."
   ]
  },
  {
   "cell_type": "code",
   "execution_count": 3,
   "metadata": {
    "scrolled": true
   },
   "outputs": [
    {
     "data": {
      "text/plain": [
       "['200607856', '200607880', '200607857', '200607777', '200607875', '200607861', '200607902', '200607910', '200612324', '200611115', '200621158', '200619773']"
      ]
     },
     "execution_count": 3,
     "metadata": {},
     "output_type": "execute_result"
    },
    {
     "data": {
      "text/plain": [
       "['../private/BUiD Arab Learner Corpus v.1/CEPA Images/2/200607777.jpg', '../private/BUiD Arab Learner Corpus v.1/CEPA Images/2/200607856.jpg', '../private/BUiD Arab Learner Corpus v.1/CEPA Images/2/200607880.jpg', '../private/BUiD Arab Learner Corpus v.1/CEPA Images/2/200607857.jpg', '../private/BUiD Arab Learner Corpus v.1/CEPA Images/2/200612324.jpg', '../private/BUiD Arab Learner Corpus v.1/CEPA Images/2/200607902.jpg', '../private/BUiD Arab Learner Corpus v.1/CEPA Images/2/200607861.jpg', '../private/BUiD Arab Learner Corpus v.1/CEPA Images/2/200607875.jpg', '../private/BUiD Arab Learner Corpus v.1/CEPA Images/2/200607910.jpg', '../private/BUiD Arab Learner Corpus v.1/CEPA Images/3/200611115.jpg', '../private/BUiD Arab Learner Corpus v.1/CEPA Images/6/200621158.jpg', '../private/BUiD Arab Learner Corpus v.1/CEPA Images/6/200619773.jpg']"
      ]
     },
     "execution_count": 3,
     "metadata": {},
     "output_type": "execute_result"
    }
   ],
   "source": [
    "# Opening the pickle files that have the problem files and clean files\n",
    "f_in = open(\"duplicated_files.pickle\",\"rb\")\n",
    "bad_files = pickle.load(f_in)\n",
    "f_in.close()\n",
    "\n",
    "f_in = open(\"clean_files.pickle\",\"rb\")\n",
    "clean_files = pickle.load(f_in)\n",
    "f_in.close()\n",
    "\n",
    "bad_files\n",
    "clean_files"
   ]
  },
  {
   "cell_type": "code",
   "execution_count": 4,
   "metadata": {
    "scrolled": true
   },
   "outputs": [
    {
     "name": "stdout",
     "output_type": "stream",
     "text": [
      "use: ../private/BUiD Arab Learner Corpus v.1/CEPA Images/2/200607777.jpg\n",
      "use: ../private/BUiD Arab Learner Corpus v.1/CEPA Images/2/200607856.jpg\n",
      "use: ../private/BUiD Arab Learner Corpus v.1/CEPA Images/2/200607880.jpg\n",
      "use: ../private/BUiD Arab Learner Corpus v.1/CEPA Images/2/200607857.jpg\n",
      "use: ../private/BUiD Arab Learner Corpus v.1/CEPA Images/2/200612324.jpg\n",
      "use: ../private/BUiD Arab Learner Corpus v.1/CEPA Images/2/200607902.jpg\n",
      "use: ../private/BUiD Arab Learner Corpus v.1/CEPA Images/2/200607861.jpg\n",
      "use: ../private/BUiD Arab Learner Corpus v.1/CEPA Images/2/200607875.jpg\n",
      "use: ../private/BUiD Arab Learner Corpus v.1/CEPA Images/2/200607910.jpg\n",
      "use: ../private/BUiD Arab Learner Corpus v.1/CEPA Images/3/200611115.jpg\n",
      "use: ../private/BUiD Arab Learner Corpus v.1/CEPA Images/6/200621158.jpg\n",
      "use: ../private/BUiD Arab Learner Corpus v.1/CEPA Images/6/200619773.jpg\n"
     ]
    }
   ],
   "source": [
    "# Making sure the code will pull the correct file for the duplicated files -- we're reading from /total/, but we can get the nececssary information from these filenames\n",
    "for item in clean_files:\n",
    "    if any(search in item for search in bad_files):\n",
    "        print(\"use:\", item)"
   ]
  },
  {
   "cell_type": "code",
   "execution_count": 5,
   "metadata": {},
   "outputs": [
    {
     "data": {
      "text/plain": [
       "1652"
      ]
     },
     "execution_count": 5,
     "metadata": {},
     "output_type": "execute_result"
    }
   ],
   "source": [
    "# setting up a cepa dict\n",
    "corpus = glob.glob(cor_dir+'*.txt')\n",
    "corpus_dict = {}\n",
    "for file in corpus:\n",
    "    start = file.rindex('/')+1\n",
    "    name = file[start:-4]\n",
    "    x = re.findall(r'^((C|c).*?\\d{3,}( -)?)', name)   # I'm really only interested in the cepa files for now\n",
    "    if len(x) > 0:\n",
    "            x = x[0][0].split()\n",
    "            if x[-1] not in bad_files:  # duplicated files - ignoring them for now, will put in a separate dict and concatenate\n",
    "                f = open(file, encoding='utf-8-sig')   # fixes \\ufeff code at beginning of strings\n",
    "                txt = f.read()\n",
    "                f.close()\n",
    "                corpus_dict[x[-1]] = {\"Level\": x[1], \"Text\": txt}\n",
    "len(corpus_dict.keys())"
   ]
  },
  {
   "cell_type": "code",
   "execution_count": 6,
   "metadata": {},
   "outputs": [
    {
     "data": {
      "text/plain": [
       "{'Level': '1', 'Text': '\\t\\t\\t\\tCEPA 1 200601970\\n\\n\\n\\nYou have just had the perfect holiday you went Yaman There go <o>my  father and my brather. You</o> saw and did hadr<o>a</o> mot and sanaa moll. It was so wonderful m<o>y</o> famely\\n'}"
      ]
     },
     "execution_count": 6,
     "metadata": {},
     "output_type": "execute_result"
    }
   ],
   "source": [
    "corpus_dict[\"200601970\"]"
   ]
  },
  {
   "cell_type": "code",
   "execution_count": 7,
   "metadata": {
    "scrolled": true
   },
   "outputs": [
    {
     "data": {
      "text/plain": [
       "'5'"
      ]
     },
     "execution_count": 7,
     "metadata": {},
     "output_type": "execute_result"
    }
   ],
   "source": [
    "corpus_dict[\"200600215\"][\"Level\"]"
   ]
  },
  {
   "cell_type": "code",
   "execution_count": 8,
   "metadata": {},
   "outputs": [
    {
     "data": {
      "text/plain": [
       "{'Level': '1', 'Text': '\\t\\t\\t\\tCEPA 1 200600677\\n\\n\\n\\nshe have just ha<o>d</o> the perfect. went go to the Da<o>bia</o>. Dabia is the dviring, and is vere <o>Fantastc</o> went my Frinds and Famly. He will go in the Ibn batota, and swimming. The swimming Dabia saw vere Fantastc and dviring. and it’s going in the <o>cin</o>ema Dabia. \\n'}"
      ]
     },
     "execution_count": 8,
     "metadata": {},
     "output_type": "execute_result"
    }
   ],
   "source": [
    "corpus_dict[\"200600677\"]"
   ]
  },
  {
   "cell_type": "code",
   "execution_count": 9,
   "metadata": {},
   "outputs": [
    {
     "name": "stdout",
     "output_type": "stream",
     "text": [
      "['2', '200607777'] ../private/BUiD Arab Learner Corpus v.1/total/CEPA 2 200607777.txt\n",
      "['2', '200607856'] ../private/BUiD Arab Learner Corpus v.1/total/CEPA 2 200607856.txt\n",
      "['2', '200607880'] ../private/BUiD Arab Learner Corpus v.1/total/CEPA 2 200607880.txt\n",
      "['2', '200607857'] ../private/BUiD Arab Learner Corpus v.1/total/CEPA 2 200607857.txt\n",
      "['2', '200612324'] ../private/BUiD Arab Learner Corpus v.1/total/CEPA 2 200612324.txt\n",
      "['2', '200607902'] ../private/BUiD Arab Learner Corpus v.1/total/CEPA 2 200607902.txt\n",
      "['2', '200607861'] ../private/BUiD Arab Learner Corpus v.1/total/CEPA 2 200607861.txt\n",
      "['2', '200607875'] ../private/BUiD Arab Learner Corpus v.1/total/CEPA 2 200607875.txt\n",
      "['2', '200607910'] ../private/BUiD Arab Learner Corpus v.1/total/CEPA 2 200607910.txt\n",
      "['3', '200611115'] ../private/BUiD Arab Learner Corpus v.1/total/CEPA 3 200611115.txt\n",
      "['6', '200621158'] ../private/BUiD Arab Learner Corpus v.1/total/CEPA 6 200621158.txt\n",
      "['6', '200619773'] ../private/BUiD Arab Learner Corpus v.1/total/CEPA 6 200619773.txt\n"
     ]
    },
    {
     "data": {
      "text/plain": [
       "12"
      ]
     },
     "execution_count": 9,
     "metadata": {},
     "output_type": "execute_result"
    },
    {
     "data": {
      "text/plain": [
       "'\\t\\t\\t\\tCEPA 2 200607777\\n\\n\\n\\nThe perfet holiday in UAE. You went suren cantres to one holiday. went with you me sister and mather. I’m see in Abu Dhabie “shate alraha” is a very nice sea and I went “Al maryna moll”. alfter is going to AlAin. it very nice, I went “  Mouten of hafied” and “mobazar AlKadra”. In Dubai went to the “meina salam” and “almaha” is a nice hotiel in Dubai. In RAK is go in masafi and see the water of masafi. wheth alfugaira isvery nise cantry because is have more of mouten”\\nThe ajnan amalguin is avery smoler than save cantres. it was so wonderful because I’m going xxx with father and sister. went to sven emarit. I’m very happey to see emarat in  one holiday.\\n'"
      ]
     },
     "execution_count": 9,
     "metadata": {},
     "output_type": "execute_result"
    }
   ],
   "source": [
    "# This is for the bad files. There should be twelve of them!\n",
    "mini = {}\n",
    "for item in clean_files:\n",
    "    if any(search in item for search in bad_files):\n",
    "        x = re.findall(r'\\d/\\d+', item)   # gets the level (/\\d/) and the file (\\d+) information\n",
    "        x = x[0]\n",
    "        x = x.split('/')\n",
    "        fn = cor_dir+\"CEPA \"+str(x[0])+\" \"+str(x[1])+\".txt\"\n",
    "        print(x, fn)\n",
    "        f = open(fn, encoding='utf-8-sig')\n",
    "        txt = f.read()\n",
    "        f.close()\n",
    "        mini[x[1]] = {\"Level\": x[0], \"Text\": txt}\n",
    "len(mini.keys())\n",
    "mini['200607777'][\"Text\"]"
   ]
  },
  {
   "cell_type": "code",
   "execution_count": 10,
   "metadata": {},
   "outputs": [
    {
     "data": {
      "text/plain": [
       "1664"
      ]
     },
     "execution_count": 10,
     "metadata": {},
     "output_type": "execute_result"
    }
   ],
   "source": [
    "# Concatenating corpus_dict and mini, making sure they have the right amount of keys\n",
    "z = {**corpus_dict, **mini}\n",
    "len(z.keys())"
   ]
  },
  {
   "cell_type": "code",
   "execution_count": 11,
   "metadata": {},
   "outputs": [
    {
     "data": {
      "text/plain": [
       "(1652, 1)"
      ]
     },
     "execution_count": 11,
     "metadata": {},
     "output_type": "execute_result"
    },
    {
     "data": {
      "text/html": [
       "<div>\n",
       "<style scoped>\n",
       "    .dataframe tbody tr th:only-of-type {\n",
       "        vertical-align: middle;\n",
       "    }\n",
       "\n",
       "    .dataframe tbody tr th {\n",
       "        vertical-align: top;\n",
       "    }\n",
       "\n",
       "    .dataframe thead th {\n",
       "        text-align: right;\n",
       "    }\n",
       "</style>\n",
       "<table border=\"1\" class=\"dataframe\">\n",
       "  <thead>\n",
       "    <tr style=\"text-align: right;\">\n",
       "      <th></th>\n",
       "      <th>Filename</th>\n",
       "    </tr>\n",
       "  </thead>\n",
       "  <tbody>\n",
       "    <tr>\n",
       "      <th>0</th>\n",
       "      <td>200607296</td>\n",
       "    </tr>\n",
       "    <tr>\n",
       "      <th>1</th>\n",
       "      <td>200607457</td>\n",
       "    </tr>\n",
       "    <tr>\n",
       "      <th>2</th>\n",
       "      <td>200600487</td>\n",
       "    </tr>\n",
       "    <tr>\n",
       "      <th>3</th>\n",
       "      <td>200608016</td>\n",
       "    </tr>\n",
       "    <tr>\n",
       "      <th>4</th>\n",
       "      <td>200611825</td>\n",
       "    </tr>\n",
       "  </tbody>\n",
       "</table>\n",
       "</div>"
      ],
      "text/plain": [
       "    Filename\n",
       "0  200607296\n",
       "1  200607457\n",
       "2  200600487\n",
       "3  200608016\n",
       "4  200611825"
      ]
     },
     "execution_count": 11,
     "metadata": {},
     "output_type": "execute_result"
    }
   ],
   "source": [
    "# Setting up the df\n",
    "cepa_df = pd.DataFrame(list(corpus_dict.keys()), columns={\"Filename\"})\n",
    "cepa_df.shape\n",
    "cepa_df.head()"
   ]
  },
  {
   "cell_type": "code",
   "execution_count": 12,
   "metadata": {},
   "outputs": [],
   "source": [
    "# UDFs to get the level and the original text\n",
    "def get_level(file):\n",
    "    return z[file][\"Level\"]\n",
    "\n",
    "def get_text(file):\n",
    "    return z[file][\"Text\"]"
   ]
  },
  {
   "cell_type": "code",
   "execution_count": 13,
   "metadata": {},
   "outputs": [
    {
     "data": {
      "text/html": [
       "<div>\n",
       "<style scoped>\n",
       "    .dataframe tbody tr th:only-of-type {\n",
       "        vertical-align: middle;\n",
       "    }\n",
       "\n",
       "    .dataframe tbody tr th {\n",
       "        vertical-align: top;\n",
       "    }\n",
       "\n",
       "    .dataframe thead th {\n",
       "        text-align: right;\n",
       "    }\n",
       "</style>\n",
       "<table border=\"1\" class=\"dataframe\">\n",
       "  <thead>\n",
       "    <tr style=\"text-align: right;\">\n",
       "      <th></th>\n",
       "      <th>Filename</th>\n",
       "      <th>Level</th>\n",
       "      <th>Original_Text</th>\n",
       "    </tr>\n",
       "  </thead>\n",
       "  <tbody>\n",
       "    <tr>\n",
       "      <th>0</th>\n",
       "      <td>200607296</td>\n",
       "      <td>3</td>\n",
       "      <td>\\t\\t\\t\\tCEPA 3 200607296\\n\\n\\n\\nNow I tell you...</td>\n",
       "    </tr>\n",
       "    <tr>\n",
       "      <th>1</th>\n",
       "      <td>200607457</td>\n",
       "      <td>4</td>\n",
       "      <td>\\t\\t\\t\\tCEPA 4 200607457\\n\\n\\n\\n              ...</td>\n",
       "    </tr>\n",
       "    <tr>\n",
       "      <th>2</th>\n",
       "      <td>200600487</td>\n",
       "      <td>5</td>\n",
       "      <td>\\t\\t\\t\\tCEPA 5 200600487\\n\\n\\n\\n\\nEvery body i...</td>\n",
       "    </tr>\n",
       "    <tr>\n",
       "      <th>3</th>\n",
       "      <td>200608016</td>\n",
       "      <td>4</td>\n",
       "      <td>\\t\\t\\t\\tCEPA 4 200608016\\n\\n\\n\\nEvery body hav...</td>\n",
       "    </tr>\n",
       "    <tr>\n",
       "      <th>4</th>\n",
       "      <td>200611825</td>\n",
       "      <td>1</td>\n",
       "      <td>\\t\\t\\t\\tCEPA 1 200611825\\n\\n\\n\\nyou go in the ...</td>\n",
       "    </tr>\n",
       "  </tbody>\n",
       "</table>\n",
       "</div>"
      ],
      "text/plain": [
       "    Filename Level                                      Original_Text\n",
       "0  200607296     3  \\t\\t\\t\\tCEPA 3 200607296\\n\\n\\n\\nNow I tell you...\n",
       "1  200607457     4  \\t\\t\\t\\tCEPA 4 200607457\\n\\n\\n\\n              ...\n",
       "2  200600487     5  \\t\\t\\t\\tCEPA 5 200600487\\n\\n\\n\\n\\nEvery body i...\n",
       "3  200608016     4  \\t\\t\\t\\tCEPA 4 200608016\\n\\n\\n\\nEvery body hav...\n",
       "4  200611825     1  \\t\\t\\t\\tCEPA 1 200611825\\n\\n\\n\\nyou go in the ..."
      ]
     },
     "execution_count": 13,
     "metadata": {},
     "output_type": "execute_result"
    }
   ],
   "source": [
    "cepa_df[\"Level\"] = cepa_df.Filename.apply(get_level)\n",
    "cepa_df[\"Original_Text\"] = cepa_df.Filename.apply(get_text)\n",
    "cepa_df.head()"
   ]
  },
  {
   "cell_type": "markdown",
   "metadata": {},
   "source": [
    "#### Cleaning data up\n",
    "- Remove excessive whitespace\n",
    "- Remove things like curly quotes \n",
    "- Standardize tagging\n",
    "    - `<o>...</o>` -> `_`\n",
    "    - `<i>...</i>` -> `^`"
   ]
  },
  {
   "cell_type": "code",
   "execution_count": 14,
   "metadata": {},
   "outputs": [],
   "source": [
    "# Making UDFs to clean up data a bit\n",
    "def clean_text(txt):\n",
    "    \"\"\"Removes excessive whitespace, backticks, and curly quotes from a text.\"\"\"\n",
    "    txt = re.sub(r'[\\n\\t ]+', ' ', txt)\n",
    "    txt = re.sub(r'^`', '', txt)\n",
    "    txt = txt.replace('“','\"').replace('”','\"').replace(\"’\", \"'\")\n",
    "    txt = txt.strip()\n",
    "    return txt\n",
    "\n",
    "def retag(essay):\n",
    "    \"\"\"Replaces tags for student emphasis (<o>, </o>)with '_' and removes any unecessary spaces between emphasized \n",
    "    letters in words. Replaces tags for student insertions (<i>, </i>) with ^ and removes any unecessary spaces \n",
    "    between letters in inserted words. Closes any student tags that were left open by researchers.\"\"\"\n",
    "    essay = re.sub(r'\\<i +', '<i>', essay)\n",
    "    essay = re.sub(r'<x +', '<x>', essay)\n",
    "    essay = re.sub(r'<o +', '<o>', essay)\n",
    "    essay = re.sub(r'<o>(\\s)?', '_', essay)\n",
    "    essay = re.sub(r'(\\s)?<\\/o>', '_', essay)\n",
    "    essay = re.sub(r'<i>(\\s)?', '^', essay)\n",
    "    essay = re.sub(r'(\\s)?<\\/i>', '^', essay)\n",
    "    essay = re.sub(r' >', ' ', essay)\n",
    "#    essay = re.sub(r'__', '_ _', essay)\n",
    "    return essay\n",
    "\n",
    "def un_head(txt):\n",
    "    \"\"\"Removes headers from text that include the file name, as well as student's names, grades, schools, etc.\"\"\"\n",
    "    cepa = re.compile(r'^C(EPA|EPa|epa)')      # removes cepa headers\n",
    "    if cepa.search(txt):\n",
    "        txt = re.sub(r'CEPA.*?\\d{2,}( ?-)?', '', txt, flags=re.I)   # there was one file that was CEPA ! filename\n",
    "    return txt\n",
    "\n",
    "def normalize_essay(txt):\n",
    "    txt = clean_text(txt)\n",
    "    txt = retag(txt)\n",
    "    txt = un_head(txt)\n",
    "    txt = txt.strip()\n",
    "    return txt"
   ]
  },
  {
   "cell_type": "markdown",
   "metadata": {},
   "source": [
    "Now let's check the UDFs out to make sure they work!"
   ]
  },
  {
   "cell_type": "code",
   "execution_count": 15,
   "metadata": {},
   "outputs": [
    {
     "data": {
      "text/plain": [
       "'\\t\\t\\t\\tCEPA 1 2006625\\n\\n\\n\\nwhat the activity is to ideas and to Play foot ball in the clamp and see to manh in T.V of foot ball Games Iam we play move foor ball in the zoo with may fired XXX I paly in the\\nFradey <o>a</o>t 4 coclek is too storing of tham am and to ray ferar<o>d</o>e  in the Zoo as behtFele sprts in any am and I go may fired to see foot ball in clarp in LAwqL Calmp Iam more afeh see footpall amy fired and go to the coFe see foot ball an gierk to cof and wentes and go to may clamp see may pephel play fotb<o>a</o>ll im clamp and me I kan paly more Gams in the comfotre Games\\nin cold places they culive by living with humans.\\n'"
      ]
     },
     "execution_count": 15,
     "metadata": {},
     "output_type": "execute_result"
    }
   ],
   "source": [
    "# Original file\n",
    "cepa_df.Original_Text[137]"
   ]
  },
  {
   "cell_type": "code",
   "execution_count": 16,
   "metadata": {},
   "outputs": [
    {
     "data": {
      "text/plain": [
       "'CEPA 1 2006625 what the activity is to ideas and to Play foot ball in the clamp and see to manh in T.V of foot ball Games Iam we play move foor ball in the zoo with may fired XXX I paly in the Fradey <o>a</o>t 4 coclek is too storing of tham am and to ray ferar<o>d</o>e in the Zoo as behtFele sprts in any am and I go may fired to see foot ball in clarp in LAwqL Calmp Iam more afeh see footpall amy fired and go to the coFe see foot ball an gierk to cof and wentes and go to may clamp see may pephel play fotb<o>a</o>ll im clamp and me I kan paly more Gams in the comfotre Games in cold places they culive by living with humans.'"
      ]
     },
     "execution_count": 16,
     "metadata": {},
     "output_type": "execute_result"
    }
   ],
   "source": [
    "# Cleaning it\n",
    "clean_text(cepa_df.Original_Text[137])"
   ]
  },
  {
   "cell_type": "code",
   "execution_count": 17,
   "metadata": {},
   "outputs": [
    {
     "data": {
      "text/plain": [
       "' what the activity is to ideas and to Play foot ball in the clamp and see to manh in T.V of foot ball Games Iam we play move foor ball in the zoo with may fired XXX I paly in the Fradey <o>a</o>t 4 coclek is too storing of tham am and to ray ferar<o>d</o>e in the Zoo as behtFele sprts in any am and I go may fired to see foot ball in clarp in LAwqL Calmp Iam more afeh see footpall amy fired and go to the coFe see foot ball an gierk to cof and wentes and go to may clamp see may pephel play fotb<o>a</o>ll im clamp and me I kan paly more Gams in the comfotre Games in cold places they culive by living with humans.'"
      ]
     },
     "execution_count": 17,
     "metadata": {},
     "output_type": "execute_result"
    }
   ],
   "source": [
    "# Un-heading the cleaned file\n",
    "un_head(clean_text(cepa_df.Original_Text[137]))"
   ]
  },
  {
   "cell_type": "markdown",
   "metadata": {},
   "source": [
    "Now let's check `normalize()`. It goes a step farther by retagging the HTML codes. This was giving me a lot of trouble earlier! Sometimes it will link words that shouldn't be linked (e.g. \"\\_to_do\" instead of \"\\_to_ do\"."
   ]
  },
  {
   "cell_type": "code",
   "execution_count": 18,
   "metadata": {},
   "outputs": [
    {
     "data": {
      "text/plain": [
       "'Topic _A_ I will writing this a Prerf in far_mer_ in AlAin, who you were of father and mother and ster You did Planing foot dall . happened to watah camall and ive it was so had XXX Donka you like it so much'"
      ]
     },
     "execution_count": 18,
     "metadata": {},
     "output_type": "execute_result"
    }
   ],
   "source": [
    "normalize_essay(cepa_df.Original_Text[15])"
   ]
  },
  {
   "cell_type": "code",
   "execution_count": 19,
   "metadata": {},
   "outputs": [
    {
     "data": {
      "text/plain": [
       "'what the activity is to ideas and to Play foot ball in the clamp and see to manh in T.V of foot ball Games Iam we play move foor ball in the zoo with may fired XXX I paly in the Fradey _a_t 4 coclek is too storing of tham am and to ray ferar_d_e in the Zoo as behtFele sprts in any am and I go may fired to see foot ball in clarp in LAwqL Calmp Iam more afeh see footpall amy fired and go to the coFe see foot ball an gierk to cof and wentes and go to may clamp see may pephel play fotb_a_ll im clamp and me I kan paly more Gams in the comfotre Games in cold places they culive by living with humans.'"
      ]
     },
     "execution_count": 19,
     "metadata": {},
     "output_type": "execute_result"
    }
   ],
   "source": [
    "normalize_essay(cepa_df.Original_Text[137])"
   ]
  },
  {
   "cell_type": "markdown",
   "metadata": {},
   "source": [
    "### Expanding on cepa_df\n",
    "- Normalizing essays with UDFs created in previous section\n",
    "- Making \"Revised_essay\", which removes all tagging\n",
    "- Tokenize\n",
    "- Token counts\n",
    "- TTR"
   ]
  },
  {
   "cell_type": "code",
   "execution_count": 20,
   "metadata": {},
   "outputs": [
    {
     "data": {
      "text/html": [
       "<div>\n",
       "<style scoped>\n",
       "    .dataframe tbody tr th:only-of-type {\n",
       "        vertical-align: middle;\n",
       "    }\n",
       "\n",
       "    .dataframe tbody tr th {\n",
       "        vertical-align: top;\n",
       "    }\n",
       "\n",
       "    .dataframe thead th {\n",
       "        text-align: right;\n",
       "    }\n",
       "</style>\n",
       "<table border=\"1\" class=\"dataframe\">\n",
       "  <thead>\n",
       "    <tr style=\"text-align: right;\">\n",
       "      <th></th>\n",
       "      <th>Filename</th>\n",
       "      <th>Level</th>\n",
       "      <th>Original_Text</th>\n",
       "      <th>Normalized_Essay</th>\n",
       "    </tr>\n",
       "  </thead>\n",
       "  <tbody>\n",
       "    <tr>\n",
       "      <th>0</th>\n",
       "      <td>200607296</td>\n",
       "      <td>3</td>\n",
       "      <td>\\t\\t\\t\\tCEPA 3 200607296\\n\\n\\n\\nNow I tell you...</td>\n",
       "      <td>Now I tell you why my worst holiday ever in th...</td>\n",
       "    </tr>\n",
       "    <tr>\n",
       "      <th>1</th>\n",
       "      <td>200607457</td>\n",
       "      <td>4</td>\n",
       "      <td>\\t\\t\\t\\tCEPA 4 200607457\\n\\n\\n\\n              ...</td>\n",
       "      <td>My worst holiday Last year I have just had the...</td>\n",
       "    </tr>\n",
       "    <tr>\n",
       "      <th>2</th>\n",
       "      <td>200600487</td>\n",
       "      <td>5</td>\n",
       "      <td>\\t\\t\\t\\tCEPA 5 200600487\\n\\n\\n\\n\\nEvery body i...</td>\n",
       "      <td>Every body in this life have a favourite posse...</td>\n",
       "    </tr>\n",
       "    <tr>\n",
       "      <th>3</th>\n",
       "      <td>200608016</td>\n",
       "      <td>4</td>\n",
       "      <td>\\t\\t\\t\\tCEPA 4 200608016\\n\\n\\n\\nEvery body hav...</td>\n",
       "      <td>Every body have a lot ofpossessions in this li...</td>\n",
       "    </tr>\n",
       "    <tr>\n",
       "      <th>4</th>\n",
       "      <td>200611825</td>\n",
       "      <td>1</td>\n",
       "      <td>\\t\\t\\t\\tCEPA 1 200611825\\n\\n\\n\\nyou go in the ...</td>\n",
       "      <td>you go in the oman just had the perfect holida...</td>\n",
       "    </tr>\n",
       "  </tbody>\n",
       "</table>\n",
       "</div>"
      ],
      "text/plain": [
       "    Filename Level                                      Original_Text  \\\n",
       "0  200607296     3  \\t\\t\\t\\tCEPA 3 200607296\\n\\n\\n\\nNow I tell you...   \n",
       "1  200607457     4  \\t\\t\\t\\tCEPA 4 200607457\\n\\n\\n\\n              ...   \n",
       "2  200600487     5  \\t\\t\\t\\tCEPA 5 200600487\\n\\n\\n\\n\\nEvery body i...   \n",
       "3  200608016     4  \\t\\t\\t\\tCEPA 4 200608016\\n\\n\\n\\nEvery body hav...   \n",
       "4  200611825     1  \\t\\t\\t\\tCEPA 1 200611825\\n\\n\\n\\nyou go in the ...   \n",
       "\n",
       "                                    Normalized_Essay  \n",
       "0  Now I tell you why my worst holiday ever in th...  \n",
       "1  My worst holiday Last year I have just had the...  \n",
       "2  Every body in this life have a favourite posse...  \n",
       "3  Every body have a lot ofpossessions in this li...  \n",
       "4  you go in the oman just had the perfect holida...  "
      ]
     },
     "execution_count": 20,
     "metadata": {},
     "output_type": "execute_result"
    }
   ],
   "source": [
    "cepa_df['Normalized_Essay'] = cepa_df.Original_Text.apply(normalize_essay)\n",
    "cepa_df.head()"
   ]
  },
  {
   "cell_type": "code",
   "execution_count": 21,
   "metadata": {
    "scrolled": true
   },
   "outputs": [
    {
     "data": {
      "text/html": [
       "<div>\n",
       "<style scoped>\n",
       "    .dataframe tbody tr th:only-of-type {\n",
       "        vertical-align: middle;\n",
       "    }\n",
       "\n",
       "    .dataframe tbody tr th {\n",
       "        vertical-align: top;\n",
       "    }\n",
       "\n",
       "    .dataframe thead th {\n",
       "        text-align: right;\n",
       "    }\n",
       "</style>\n",
       "<table border=\"1\" class=\"dataframe\">\n",
       "  <thead>\n",
       "    <tr style=\"text-align: right;\">\n",
       "      <th></th>\n",
       "      <th>Filename</th>\n",
       "      <th>Level</th>\n",
       "      <th>Original_Text</th>\n",
       "      <th>Normalized_Essay</th>\n",
       "    </tr>\n",
       "  </thead>\n",
       "  <tbody>\n",
       "    <tr>\n",
       "      <th>0</th>\n",
       "      <td>200607296</td>\n",
       "      <td>3</td>\n",
       "      <td>\\t\\t\\t\\tCEPA 3 200607296\\n\\n\\n\\nNow I tell you...</td>\n",
       "      <td>Now I tell you why my worst holiday ever in th...</td>\n",
       "    </tr>\n",
       "    <tr>\n",
       "      <th>1</th>\n",
       "      <td>200607457</td>\n",
       "      <td>4</td>\n",
       "      <td>\\t\\t\\t\\tCEPA 4 200607457\\n\\n\\n\\n              ...</td>\n",
       "      <td>My worst holiday Last year I have just had the...</td>\n",
       "    </tr>\n",
       "    <tr>\n",
       "      <th>3</th>\n",
       "      <td>200608016</td>\n",
       "      <td>4</td>\n",
       "      <td>\\t\\t\\t\\tCEPA 4 200608016\\n\\n\\n\\nEvery body hav...</td>\n",
       "      <td>Every body have a lot ofpossessions in this li...</td>\n",
       "    </tr>\n",
       "    <tr>\n",
       "      <th>9</th>\n",
       "      <td>200611351</td>\n",
       "      <td>3</td>\n",
       "      <td>\\t\\t\\t\\tCEPA 3 200611351\\n\\n\\n\\nAl_ain mall is...</td>\n",
       "      <td>Al_ain mall is the most beautiful place. First...</td>\n",
       "    </tr>\n",
       "    <tr>\n",
       "      <th>15</th>\n",
       "      <td>200603206</td>\n",
       "      <td>1</td>\n",
       "      <td>\\n\\t\\t\\t\\tCEPA 1 200603206\\n\\n\\n\\n        Topi...</td>\n",
       "      <td>Topic _A_ I will writing this a Prerf in far_m...</td>\n",
       "    </tr>\n",
       "    <tr>\n",
       "      <th>16</th>\n",
       "      <td>200611379</td>\n",
       "      <td>3</td>\n",
       "      <td>\\t\\t\\t\\tCEPA 3 200611379\\n\\n\\n\\n\\nI spend my w...</td>\n",
       "      <td>I spend my weekend in Dubai. I go with my fami...</td>\n",
       "    </tr>\n",
       "    <tr>\n",
       "      <th>18</th>\n",
       "      <td>200611190</td>\n",
       "      <td>3</td>\n",
       "      <td>\\t\\t\\t\\tCEPA 3 200611190\\n\\n\\n\\nThere are many...</td>\n",
       "      <td>There are many things make the worst holiday f...</td>\n",
       "    </tr>\n",
       "    <tr>\n",
       "      <th>19</th>\n",
       "      <td>200606353</td>\n",
       "      <td>2</td>\n",
       "      <td>\\t\\t\\t\\tCEPA 2 200606353\\n\\n\\n\\nI m Love the U...</td>\n",
       "      <td>I m Love the UAE the UAE I am very very Love t...</td>\n",
       "    </tr>\n",
       "    <tr>\n",
       "      <th>23</th>\n",
       "      <td>200601400</td>\n",
       "      <td>2</td>\n",
       "      <td>\\t\\t\\t\\tCEPA 2 200601400\\n\\n\\n\\nI have just ha...</td>\n",
       "      <td>I have just had the worst holiday ever . The h...</td>\n",
       "    </tr>\n",
       "    <tr>\n",
       "      <th>24</th>\n",
       "      <td>200601414</td>\n",
       "      <td>2</td>\n",
       "      <td>\\t\\t\\t\\tCEPA 2 200601414\\n\\n\\n\\n&lt;o&gt;I am go to ...</td>\n",
       "      <td>_I am go to the_sumar holabuy in The Oman in t...</td>\n",
       "    </tr>\n",
       "    <tr>\n",
       "      <th>30</th>\n",
       "      <td>200601954</td>\n",
       "      <td>1</td>\n",
       "      <td>\\t\\t\\t\\tCEPA 1 200601954\\n\\n\\n\\nI am go with m...</td>\n",
       "      <td>I am go with may friene_d_ to Oman. I am go wX...</td>\n",
       "    </tr>\n",
       "    <tr>\n",
       "      <th>32</th>\n",
       "      <td>200607721</td>\n",
       "      <td>4</td>\n",
       "      <td>\\t\\t\\t\\tCEPA 4 200607721\\n\\n\\n\\nIn the last ho...</td>\n",
       "      <td>In the last holid_a_y my family and my uncles ...</td>\n",
       "    </tr>\n",
       "    <tr>\n",
       "      <th>52</th>\n",
       "      <td>200600121</td>\n",
       "      <td>1</td>\n",
       "      <td>\\t\\t\\t\\tCEPA 1 200600121\\n\\n\\n\\nI’m going and ...</td>\n",
       "      <td>I'm going and _zoom_ there _with_ fimi_l_ you ...</td>\n",
       "    </tr>\n",
       "    <tr>\n",
       "      <th>59</th>\n",
       "      <td>200606833</td>\n",
       "      <td>4</td>\n",
       "      <td>\\t\\t\\t\\tCEPA 4 200606833\\n\\n\\n\\nI went the Ome...</td>\n",
       "      <td>I went the Omen. Because is wonderful and a go...</td>\n",
       "    </tr>\n",
       "    <tr>\n",
       "      <th>60</th>\n",
       "      <td>200611556</td>\n",
       "      <td>3</td>\n",
       "      <td>\\t\\t\\t\\tCEPA 3 200611556\\n\\n\\n\\nI spend my hol...</td>\n",
       "      <td>I spend my holiday is Sauid Arabia. I want wit...</td>\n",
       "    </tr>\n",
       "    <tr>\n",
       "      <th>62</th>\n",
       "      <td>200607306</td>\n",
       "      <td>2</td>\n",
       "      <td>\\t\\t\\t\\tCEPA 2 200607306\\n\\n\\n\\nI waite trevel...</td>\n",
       "      <td>I waite trevel wath my famliy to AlAin to see ...</td>\n",
       "    </tr>\n",
       "    <tr>\n",
       "      <th>65</th>\n",
       "      <td>200606756</td>\n",
       "      <td>2</td>\n",
       "      <td>\\t\\t\\t\\tCEPA 2 200606756\\n\\n\\n\\nTopic B : We g...</td>\n",
       "      <td>Topic B : We go with my family by car in a ^Al...</td>\n",
       "    </tr>\n",
       "    <tr>\n",
       "      <th>69</th>\n",
       "      <td>200605920</td>\n",
       "      <td>2</td>\n",
       "      <td>\\t\\t\\t\\tCEPA 2 200605920\\n\\n\\n\\nMy live in the...</td>\n",
       "      <td>My live in the Shajohe, A house is very beauti...</td>\n",
       "    </tr>\n",
       "    <tr>\n",
       "      <th>71</th>\n",
       "      <td>200605692</td>\n",
       "      <td>4</td>\n",
       "      <td>\\t\\t\\t\\tCEPA 4 200605692\\n\\n\\n\\nEvery body kno...</td>\n",
       "      <td>Every body know that the summer holiday is the...</td>\n",
       "    </tr>\n",
       "    <tr>\n",
       "      <th>79</th>\n",
       "      <td>200611608</td>\n",
       "      <td>3</td>\n",
       "      <td>\\t\\t\\t\\tCEPA 3 200611608\\n\\n\\n\\nLast weekend I...</td>\n",
       "      <td>Last weekend Im went to Dudai with my Frinds i...</td>\n",
       "    </tr>\n",
       "    <tr>\n",
       "      <th>82</th>\n",
       "      <td>200611835</td>\n",
       "      <td>2</td>\n",
       "      <td>\\t\\t\\t\\tCEPA 2 200611835\\n\\n\\n\\nIs vary bast f...</td>\n",
       "      <td>Is vary bast filme you have seen recentry. The...</td>\n",
       "    </tr>\n",
       "    <tr>\n",
       "      <th>83</th>\n",
       "      <td>200605673</td>\n",
       "      <td>2</td>\n",
       "      <td>\\t\\t\\t\\tCEPA 2 200605673\\n\\n\\n\\n        Sport....</td>\n",
       "      <td>Sport.... The Sport is very important in peopl...</td>\n",
       "    </tr>\n",
       "    <tr>\n",
       "      <th>84</th>\n",
       "      <td>200601415</td>\n",
       "      <td>2</td>\n",
       "      <td>\\t\\t\\t\\tCEPA 2 200601415\\n\\n\\n\\nlast week &lt;o&gt;i...</td>\n",
       "      <td>last week _in the End i_t is verey bad the hol...</td>\n",
       "    </tr>\n",
       "    <tr>\n",
       "      <th>86</th>\n",
       "      <td>200612469</td>\n",
       "      <td>2</td>\n",
       "      <td>\\t\\t\\t\\tCEPA 2 200612469\\n\\n\\n\\nI writ thise t...</td>\n",
       "      <td>I writ thise topic about Imagin you have just ...</td>\n",
       "    </tr>\n",
       "    <tr>\n",
       "      <th>88</th>\n",
       "      <td>200605115</td>\n",
       "      <td>2</td>\n",
       "      <td>\\t\\t\\t\\tCEPA 2 200605115\\n\\n\\n\\nThe last holid...</td>\n",
       "      <td>The last holiday Imagine went you _have_ just ...</td>\n",
       "    </tr>\n",
       "    <tr>\n",
       "      <th>92</th>\n",
       "      <td>200607898</td>\n",
       "      <td>4</td>\n",
       "      <td>\\t\\t\\t\\tCEPA 4 200607898\\n\\n\\n\\nIn the last su...</td>\n",
       "      <td>In the last summar I have spent awery wonderfu...</td>\n",
       "    </tr>\n",
       "    <tr>\n",
       "      <th>97</th>\n",
       "      <td>200607268</td>\n",
       "      <td>3</td>\n",
       "      <td>\\t\\t\\t\\tCEPA 3 200607268\\n\\n\\n\\nIn the summer ...</td>\n",
       "      <td>In the summer 2004 I went to bahrain with my f...</td>\n",
       "    </tr>\n",
       "    <tr>\n",
       "      <th>104</th>\n",
       "      <td>200610880</td>\n",
       "      <td>4</td>\n",
       "      <td>\\t\\t\\t\\tCEPA 4 200610880\\n\\n\\n\\n\\n\\nIn  the ho...</td>\n",
       "      <td>In the holiday , My family decided go to the b...</td>\n",
       "    </tr>\n",
       "    <tr>\n",
       "      <th>113</th>\n",
       "      <td>200611385</td>\n",
       "      <td>3</td>\n",
       "      <td>\\t\\t\\t\\tCEPA 3 200611385\\n\\n\\n\\nIn summer holi...</td>\n",
       "      <td>In summer holiday I went with my fami_lly_ to ...</td>\n",
       "    </tr>\n",
       "    <tr>\n",
       "      <th>114</th>\n",
       "      <td>200607326</td>\n",
       "      <td>4</td>\n",
       "      <td>\\t\\t\\t\\tCEPA 4 200607326\\n\\n\\n\\nLast summer &lt;x...</td>\n",
       "      <td>Last summer &lt;x&gt;I weih&lt;/x&gt; I went to Syria with...</td>\n",
       "    </tr>\n",
       "    <tr>\n",
       "      <th>...</th>\n",
       "      <td>...</td>\n",
       "      <td>...</td>\n",
       "      <td>...</td>\n",
       "      <td>...</td>\n",
       "    </tr>\n",
       "    <tr>\n",
       "      <th>1517</th>\n",
       "      <td>200607854</td>\n",
       "      <td>4</td>\n",
       "      <td>\\t\\t\\t\\tCEPA 4 200607854\\n\\n\\n\\nIn the last ye...</td>\n",
       "      <td>In the last year I have jast had the worst hol...</td>\n",
       "    </tr>\n",
       "    <tr>\n",
       "      <th>1519</th>\n",
       "      <td>200607840</td>\n",
       "      <td>4</td>\n",
       "      <td>\\t\\t\\t\\tCEPA 4 200607840\\n\\n\\n\\nReally I love ...</td>\n",
       "      <td>Really I love the Indian films because it took...</td>\n",
       "    </tr>\n",
       "    <tr>\n",
       "      <th>1524</th>\n",
       "      <td>200606375</td>\n",
       "      <td>2</td>\n",
       "      <td>\\t\\t\\t\\tCEPA 2 200606375\\n\\n\\n\\nthe most beau&lt;...</td>\n",
       "      <td>the most beau_u&lt;/otiful pla&lt;x&gt;c&lt;/x&gt;e you know ...</td>\n",
       "    </tr>\n",
       "    <tr>\n",
       "      <th>1536</th>\n",
       "      <td>200602894</td>\n",
       "      <td>1</td>\n",
       "      <td>\\t\\t\\t\\tCepa 1 200602894\\n\\n\\n\\nYou went In Om...</td>\n",
       "      <td>You went In Oman you have just has the perfect...</td>\n",
       "    </tr>\n",
       "    <tr>\n",
       "      <th>1541</th>\n",
       "      <td>200607303</td>\n",
       "      <td>4</td>\n",
       "      <td>\\t\\t\\t\\tCEPA 4 200607303\\n\\n\\n\\nThe main reaso...</td>\n",
       "      <td>The main reason that people travel in holidaye...</td>\n",
       "    </tr>\n",
       "    <tr>\n",
       "      <th>1542</th>\n",
       "      <td>200606605</td>\n",
       "      <td>2</td>\n",
       "      <td>\\t\\t\\t\\tCEPA 2 200606605\\n\\n\\n\\nI love play fo...</td>\n",
       "      <td>I love play football . I play with my friend ....</td>\n",
       "    </tr>\n",
       "    <tr>\n",
       "      <th>1546</th>\n",
       "      <td>200608018</td>\n",
       "      <td>4</td>\n",
       "      <td>\\t\\t\\t\\tCEPA 4 200608018\\n\\n\\n\\nThere are many...</td>\n",
       "      <td>There are many favourite thing`s in my Life bu...</td>\n",
       "    </tr>\n",
       "    <tr>\n",
       "      <th>1556</th>\n",
       "      <td>200609733</td>\n",
       "      <td>1</td>\n",
       "      <td>\\t\\t\\t\\tCEPA 1 200609733\\n\\n\\n\\n&lt;o&gt;Sea in UAE ...</td>\n",
       "      <td>_Sea in UAE I like the sea I look the fish and...</td>\n",
       "    </tr>\n",
       "    <tr>\n",
       "      <th>1559</th>\n",
       "      <td>200611836</td>\n",
       "      <td>3</td>\n",
       "      <td>\\t\\t\\t\\tCEPA 3 200611836\\n\\n\\n\\n\\t\\t\\t\\tThe wo...</td>\n",
       "      <td>The worst holiday Imagine my holiday in the Ho...</td>\n",
       "    </tr>\n",
       "    <tr>\n",
       "      <th>1563</th>\n",
       "      <td>200612442</td>\n",
       "      <td>3</td>\n",
       "      <td>\\t\\t\\t\\tCEPA 3 200612442\\n\\n\\n\\nLast xxx week ...</td>\n",
       "      <td>Last xxx week I am see a good movie or film. I...</td>\n",
       "    </tr>\n",
       "    <tr>\n",
       "      <th>1566</th>\n",
       "      <td>200607842</td>\n",
       "      <td>4</td>\n",
       "      <td>\\t\\t\\t\\tCEPA 4 200607842\\n\\n\\n\\n&lt;o&gt;T&lt;/o&gt;hese  ...</td>\n",
       "      <td>_T_hese holiday is worst holiday I spend it . ...</td>\n",
       "    </tr>\n",
       "    <tr>\n",
       "      <th>1572</th>\n",
       "      <td>200601958</td>\n",
       "      <td>1</td>\n",
       "      <td>\\t\\t\\t\\tCEPA 1 200601958\\n\\n\\n\\nMy car the my ...</td>\n",
       "      <td>My car the my car is ver_y_ fast the name my c...</td>\n",
       "    </tr>\n",
       "    <tr>\n",
       "      <th>1573</th>\n",
       "      <td>200601970</td>\n",
       "      <td>1</td>\n",
       "      <td>\\t\\t\\t\\tCEPA 1 200601970\\n\\n\\n\\nYou have just ...</td>\n",
       "      <td>You have just had the perfect holiday you went...</td>\n",
       "    </tr>\n",
       "    <tr>\n",
       "      <th>1577</th>\n",
       "      <td>200600313</td>\n",
       "      <td>1</td>\n",
       "      <td>\\t\\t\\t\\tCEPA 1 200600313\\n\\n\\n\\nI me give a lo...</td>\n",
       "      <td>I me give a lot than Iam gin_e_ you have just ...</td>\n",
       "    </tr>\n",
       "    <tr>\n",
       "      <th>1581</th>\n",
       "      <td>200606782</td>\n",
       "      <td>3</td>\n",
       "      <td>CEPA 3 200606782\\n\\n\\n\\n\\nI go withe m...</td>\n",
       "      <td>I go withe my Frineds to USA and i go to hilto...</td>\n",
       "    </tr>\n",
       "    <tr>\n",
       "      <th>1582</th>\n",
       "      <td>200612085</td>\n",
       "      <td>3</td>\n",
       "      <td>\\t\\t\\t\\tCEPA 3 200612085\\n\\n\\n\\n\\nMy perfect h...</td>\n",
       "      <td>My perfect holiday was in Last year. It was in...</td>\n",
       "    </tr>\n",
       "    <tr>\n",
       "      <th>1583</th>\n",
       "      <td>200606796</td>\n",
       "      <td>3</td>\n",
       "      <td>\\t\\t\\t\\tCEPA 3 200606796\\n\\n\\n\\nThe weekend in...</td>\n",
       "      <td>The weekend in the summer I am go to visit , I...</td>\n",
       "    </tr>\n",
       "    <tr>\n",
       "      <th>1589</th>\n",
       "      <td>200600677</td>\n",
       "      <td>1</td>\n",
       "      <td>\\t\\t\\t\\tCEPA 1 200600677\\n\\n\\n\\nshe have just ...</td>\n",
       "      <td>she have just ha_d_ the perfect. went go to th...</td>\n",
       "    </tr>\n",
       "    <tr>\n",
       "      <th>1592</th>\n",
       "      <td>200604411</td>\n",
       "      <td>1</td>\n",
       "      <td>\\t\\t\\t\\tCEPA 1 200604411\\n\\n\\n\\nThe ar&lt;o&gt;e&lt;/o&gt;...</td>\n",
       "      <td>The ar_e_ simr it flmatd . the you went smie ....</td>\n",
       "    </tr>\n",
       "    <tr>\n",
       "      <th>1598</th>\n",
       "      <td>200607310</td>\n",
       "      <td>3</td>\n",
       "      <td>\\t\\t\\t\\tCEPA 3 200607310\\n\\n\\n\\nIn one day I w...</td>\n",
       "      <td>In one day I was in holiday . The holiday was ...</td>\n",
       "    </tr>\n",
       "    <tr>\n",
       "      <th>1604</th>\n",
       "      <td>200605068</td>\n",
       "      <td>1</td>\n",
       "      <td>`\\t\\t\\t\\tCEPA 1 200605068\\n\\n\\n\\nOn The Samir ...</td>\n",
       "      <td>On The Samir i go fo The sliame will i sea fal...</td>\n",
       "    </tr>\n",
       "    <tr>\n",
       "      <th>1611</th>\n",
       "      <td>200605846</td>\n",
       "      <td>4</td>\n",
       "      <td>\\t\\t\\t\\tCEPA 4 200605846\\n\\n\\n\\n              ...</td>\n",
       "      <td>The most beautiful place I was choose this top...</td>\n",
       "    </tr>\n",
       "    <tr>\n",
       "      <th>1617</th>\n",
       "      <td>200601971</td>\n",
       "      <td>1</td>\n",
       "      <td>\\t\\t\\t\\tCEPA  1 200601971\\n\\n\\n\\nwhere you wen...</td>\n",
       "      <td>where you went in the we XXX. xxx in The zoo w...</td>\n",
       "    </tr>\n",
       "    <tr>\n",
       "      <th>1628</th>\n",
       "      <td>200605336</td>\n",
       "      <td>1</td>\n",
       "      <td>\\t\\t\\t\\tCEPA 1 200605336\\n\\n\\nThe go in Sharja...</td>\n",
       "      <td>The go in Sharja sate to help you could descri...</td>\n",
       "    </tr>\n",
       "    <tr>\n",
       "      <th>1630</th>\n",
       "      <td>20067753</td>\n",
       "      <td>3</td>\n",
       "      <td>\\t\\t\\t\\tCEPA 3 20067753\\n\\n\\n\\nIn sutardy I wi...</td>\n",
       "      <td>In sutardy I will perfact happy holiday,..I we...</td>\n",
       "    </tr>\n",
       "    <tr>\n",
       "      <th>1635</th>\n",
       "      <td>200600299</td>\n",
       "      <td>1</td>\n",
       "      <td>\\t\\t\\t\\tCEPA 1 200600299\\n\\n\\n\\nI magine you h...</td>\n",
       "      <td>I magine you hav_e_ just the P_er_fect holiday...</td>\n",
       "    </tr>\n",
       "    <tr>\n",
       "      <th>1639</th>\n",
       "      <td>200610505</td>\n",
       "      <td>1</td>\n",
       "      <td>\\t\\t\\t\\tCEPA 1 200610505\\n\\n\\n\\nWhere you went...</td>\n",
       "      <td>Where you went, who you went there with, what ...</td>\n",
       "    </tr>\n",
       "    <tr>\n",
       "      <th>1647</th>\n",
       "      <td>200608033</td>\n",
       "      <td>4</td>\n",
       "      <td>\\t\\t\\t\\tCEPA 4 200608033\\n\\n\\n\\n\\t\\t\\t\\tThe wo...</td>\n",
       "      <td>The worst holiday The worst holiday in my hole...</td>\n",
       "    </tr>\n",
       "    <tr>\n",
       "      <th>1648</th>\n",
       "      <td>200606606</td>\n",
       "      <td>2</td>\n",
       "      <td>\\t\\t\\t\\tCEPA 2 200606606\\n\\n\\n\\n        Topic ...</td>\n",
       "      <td>Topic A In the summer I went with my f&lt;x&gt;ri&lt;/x...</td>\n",
       "    </tr>\n",
       "    <tr>\n",
       "      <th>1649</th>\n",
       "      <td>200608027</td>\n",
       "      <td>4</td>\n",
       "      <td>\\t\\t\\t\\tCEPA 4 200608027\\n\\n\\n\\n\\t\\t\\t\\tThe pe...</td>\n",
       "      <td>The perfect holiday Summer holiday is the best...</td>\n",
       "    </tr>\n",
       "  </tbody>\n",
       "</table>\n",
       "<p>434 rows × 4 columns</p>\n",
       "</div>"
      ],
      "text/plain": [
       "       Filename Level                                      Original_Text  \\\n",
       "0     200607296     3  \\t\\t\\t\\tCEPA 3 200607296\\n\\n\\n\\nNow I tell you...   \n",
       "1     200607457     4  \\t\\t\\t\\tCEPA 4 200607457\\n\\n\\n\\n              ...   \n",
       "3     200608016     4  \\t\\t\\t\\tCEPA 4 200608016\\n\\n\\n\\nEvery body hav...   \n",
       "9     200611351     3  \\t\\t\\t\\tCEPA 3 200611351\\n\\n\\n\\nAl_ain mall is...   \n",
       "15    200603206     1  \\n\\t\\t\\t\\tCEPA 1 200603206\\n\\n\\n\\n        Topi...   \n",
       "16    200611379     3  \\t\\t\\t\\tCEPA 3 200611379\\n\\n\\n\\n\\nI spend my w...   \n",
       "18    200611190     3  \\t\\t\\t\\tCEPA 3 200611190\\n\\n\\n\\nThere are many...   \n",
       "19    200606353     2  \\t\\t\\t\\tCEPA 2 200606353\\n\\n\\n\\nI m Love the U...   \n",
       "23    200601400     2  \\t\\t\\t\\tCEPA 2 200601400\\n\\n\\n\\nI have just ha...   \n",
       "24    200601414     2  \\t\\t\\t\\tCEPA 2 200601414\\n\\n\\n\\n<o>I am go to ...   \n",
       "30    200601954     1  \\t\\t\\t\\tCEPA 1 200601954\\n\\n\\n\\nI am go with m...   \n",
       "32    200607721     4  \\t\\t\\t\\tCEPA 4 200607721\\n\\n\\n\\nIn the last ho...   \n",
       "52    200600121     1  \\t\\t\\t\\tCEPA 1 200600121\\n\\n\\n\\nI’m going and ...   \n",
       "59    200606833     4  \\t\\t\\t\\tCEPA 4 200606833\\n\\n\\n\\nI went the Ome...   \n",
       "60    200611556     3  \\t\\t\\t\\tCEPA 3 200611556\\n\\n\\n\\nI spend my hol...   \n",
       "62    200607306     2  \\t\\t\\t\\tCEPA 2 200607306\\n\\n\\n\\nI waite trevel...   \n",
       "65    200606756     2  \\t\\t\\t\\tCEPA 2 200606756\\n\\n\\n\\nTopic B : We g...   \n",
       "69    200605920     2  \\t\\t\\t\\tCEPA 2 200605920\\n\\n\\n\\nMy live in the...   \n",
       "71    200605692     4  \\t\\t\\t\\tCEPA 4 200605692\\n\\n\\n\\nEvery body kno...   \n",
       "79    200611608     3  \\t\\t\\t\\tCEPA 3 200611608\\n\\n\\n\\nLast weekend I...   \n",
       "82    200611835     2  \\t\\t\\t\\tCEPA 2 200611835\\n\\n\\n\\nIs vary bast f...   \n",
       "83    200605673     2  \\t\\t\\t\\tCEPA 2 200605673\\n\\n\\n\\n        Sport....   \n",
       "84    200601415     2  \\t\\t\\t\\tCEPA 2 200601415\\n\\n\\n\\nlast week <o>i...   \n",
       "86    200612469     2  \\t\\t\\t\\tCEPA 2 200612469\\n\\n\\n\\nI writ thise t...   \n",
       "88    200605115     2  \\t\\t\\t\\tCEPA 2 200605115\\n\\n\\n\\nThe last holid...   \n",
       "92    200607898     4  \\t\\t\\t\\tCEPA 4 200607898\\n\\n\\n\\nIn the last su...   \n",
       "97    200607268     3  \\t\\t\\t\\tCEPA 3 200607268\\n\\n\\n\\nIn the summer ...   \n",
       "104   200610880     4  \\t\\t\\t\\tCEPA 4 200610880\\n\\n\\n\\n\\n\\nIn  the ho...   \n",
       "113   200611385     3  \\t\\t\\t\\tCEPA 3 200611385\\n\\n\\n\\nIn summer holi...   \n",
       "114   200607326     4  \\t\\t\\t\\tCEPA 4 200607326\\n\\n\\n\\nLast summer <x...   \n",
       "...         ...   ...                                                ...   \n",
       "1517  200607854     4  \\t\\t\\t\\tCEPA 4 200607854\\n\\n\\n\\nIn the last ye...   \n",
       "1519  200607840     4  \\t\\t\\t\\tCEPA 4 200607840\\n\\n\\n\\nReally I love ...   \n",
       "1524  200606375     2  \\t\\t\\t\\tCEPA 2 200606375\\n\\n\\n\\nthe most beau<...   \n",
       "1536  200602894     1  \\t\\t\\t\\tCepa 1 200602894\\n\\n\\n\\nYou went In Om...   \n",
       "1541  200607303     4  \\t\\t\\t\\tCEPA 4 200607303\\n\\n\\n\\nThe main reaso...   \n",
       "1542  200606605     2  \\t\\t\\t\\tCEPA 2 200606605\\n\\n\\n\\nI love play fo...   \n",
       "1546  200608018     4  \\t\\t\\t\\tCEPA 4 200608018\\n\\n\\n\\nThere are many...   \n",
       "1556  200609733     1  \\t\\t\\t\\tCEPA 1 200609733\\n\\n\\n\\n<o>Sea in UAE ...   \n",
       "1559  200611836     3  \\t\\t\\t\\tCEPA 3 200611836\\n\\n\\n\\n\\t\\t\\t\\tThe wo...   \n",
       "1563  200612442     3  \\t\\t\\t\\tCEPA 3 200612442\\n\\n\\n\\nLast xxx week ...   \n",
       "1566  200607842     4  \\t\\t\\t\\tCEPA 4 200607842\\n\\n\\n\\n<o>T</o>hese  ...   \n",
       "1572  200601958     1  \\t\\t\\t\\tCEPA 1 200601958\\n\\n\\n\\nMy car the my ...   \n",
       "1573  200601970     1  \\t\\t\\t\\tCEPA 1 200601970\\n\\n\\n\\nYou have just ...   \n",
       "1577  200600313     1  \\t\\t\\t\\tCEPA 1 200600313\\n\\n\\n\\nI me give a lo...   \n",
       "1581  200606782     3          CEPA 3 200606782\\n\\n\\n\\n\\nI go withe m...   \n",
       "1582  200612085     3  \\t\\t\\t\\tCEPA 3 200612085\\n\\n\\n\\n\\nMy perfect h...   \n",
       "1583  200606796     3  \\t\\t\\t\\tCEPA 3 200606796\\n\\n\\n\\nThe weekend in...   \n",
       "1589  200600677     1  \\t\\t\\t\\tCEPA 1 200600677\\n\\n\\n\\nshe have just ...   \n",
       "1592  200604411     1  \\t\\t\\t\\tCEPA 1 200604411\\n\\n\\n\\nThe ar<o>e</o>...   \n",
       "1598  200607310     3  \\t\\t\\t\\tCEPA 3 200607310\\n\\n\\n\\nIn one day I w...   \n",
       "1604  200605068     1  `\\t\\t\\t\\tCEPA 1 200605068\\n\\n\\n\\nOn The Samir ...   \n",
       "1611  200605846     4  \\t\\t\\t\\tCEPA 4 200605846\\n\\n\\n\\n              ...   \n",
       "1617  200601971     1  \\t\\t\\t\\tCEPA  1 200601971\\n\\n\\n\\nwhere you wen...   \n",
       "1628  200605336     1  \\t\\t\\t\\tCEPA 1 200605336\\n\\n\\nThe go in Sharja...   \n",
       "1630   20067753     3  \\t\\t\\t\\tCEPA 3 20067753\\n\\n\\n\\nIn sutardy I wi...   \n",
       "1635  200600299     1  \\t\\t\\t\\tCEPA 1 200600299\\n\\n\\n\\nI magine you h...   \n",
       "1639  200610505     1  \\t\\t\\t\\tCEPA 1 200610505\\n\\n\\n\\nWhere you went...   \n",
       "1647  200608033     4  \\t\\t\\t\\tCEPA 4 200608033\\n\\n\\n\\n\\t\\t\\t\\tThe wo...   \n",
       "1648  200606606     2  \\t\\t\\t\\tCEPA 2 200606606\\n\\n\\n\\n        Topic ...   \n",
       "1649  200608027     4  \\t\\t\\t\\tCEPA 4 200608027\\n\\n\\n\\n\\t\\t\\t\\tThe pe...   \n",
       "\n",
       "                                       Normalized_Essay  \n",
       "0     Now I tell you why my worst holiday ever in th...  \n",
       "1     My worst holiday Last year I have just had the...  \n",
       "3     Every body have a lot ofpossessions in this li...  \n",
       "9     Al_ain mall is the most beautiful place. First...  \n",
       "15    Topic _A_ I will writing this a Prerf in far_m...  \n",
       "16    I spend my weekend in Dubai. I go with my fami...  \n",
       "18    There are many things make the worst holiday f...  \n",
       "19    I m Love the UAE the UAE I am very very Love t...  \n",
       "23    I have just had the worst holiday ever . The h...  \n",
       "24    _I am go to the_sumar holabuy in The Oman in t...  \n",
       "30    I am go with may friene_d_ to Oman. I am go wX...  \n",
       "32    In the last holid_a_y my family and my uncles ...  \n",
       "52    I'm going and _zoom_ there _with_ fimi_l_ you ...  \n",
       "59    I went the Omen. Because is wonderful and a go...  \n",
       "60    I spend my holiday is Sauid Arabia. I want wit...  \n",
       "62    I waite trevel wath my famliy to AlAin to see ...  \n",
       "65    Topic B : We go with my family by car in a ^Al...  \n",
       "69    My live in the Shajohe, A house is very beauti...  \n",
       "71    Every body know that the summer holiday is the...  \n",
       "79    Last weekend Im went to Dudai with my Frinds i...  \n",
       "82    Is vary bast filme you have seen recentry. The...  \n",
       "83    Sport.... The Sport is very important in peopl...  \n",
       "84    last week _in the End i_t is verey bad the hol...  \n",
       "86    I writ thise topic about Imagin you have just ...  \n",
       "88    The last holiday Imagine went you _have_ just ...  \n",
       "92    In the last summar I have spent awery wonderfu...  \n",
       "97    In the summer 2004 I went to bahrain with my f...  \n",
       "104   In the holiday , My family decided go to the b...  \n",
       "113   In summer holiday I went with my fami_lly_ to ...  \n",
       "114   Last summer <x>I weih</x> I went to Syria with...  \n",
       "...                                                 ...  \n",
       "1517  In the last year I have jast had the worst hol...  \n",
       "1519  Really I love the Indian films because it took...  \n",
       "1524  the most beau_u</otiful pla<x>c</x>e you know ...  \n",
       "1536  You went In Oman you have just has the perfect...  \n",
       "1541  The main reason that people travel in holidaye...  \n",
       "1542  I love play football . I play with my friend ....  \n",
       "1546  There are many favourite thing`s in my Life bu...  \n",
       "1556  _Sea in UAE I like the sea I look the fish and...  \n",
       "1559  The worst holiday Imagine my holiday in the Ho...  \n",
       "1563  Last xxx week I am see a good movie or film. I...  \n",
       "1566  _T_hese holiday is worst holiday I spend it . ...  \n",
       "1572  My car the my car is ver_y_ fast the name my c...  \n",
       "1573  You have just had the perfect holiday you went...  \n",
       "1577  I me give a lot than Iam gin_e_ you have just ...  \n",
       "1581  I go withe my Frineds to USA and i go to hilto...  \n",
       "1582  My perfect holiday was in Last year. It was in...  \n",
       "1583  The weekend in the summer I am go to visit , I...  \n",
       "1589  she have just ha_d_ the perfect. went go to th...  \n",
       "1592  The ar_e_ simr it flmatd . the you went smie ....  \n",
       "1598  In one day I was in holiday . The holiday was ...  \n",
       "1604  On The Samir i go fo The sliame will i sea fal...  \n",
       "1611  The most beautiful place I was choose this top...  \n",
       "1617  where you went in the we XXX. xxx in The zoo w...  \n",
       "1628  The go in Sharja sate to help you could descri...  \n",
       "1630  In sutardy I will perfact happy holiday,..I we...  \n",
       "1635  I magine you hav_e_ just the P_er_fect holiday...  \n",
       "1639  Where you went, who you went there with, what ...  \n",
       "1647  The worst holiday The worst holiday in my hole...  \n",
       "1648  Topic A In the summer I went with my f<x>ri</x...  \n",
       "1649  The perfect holiday Summer holiday is the best...  \n",
       "\n",
       "[434 rows x 4 columns]"
      ]
     },
     "execution_count": 21,
     "metadata": {},
     "output_type": "execute_result"
    }
   ],
   "source": [
    "cepa_df[cepa_df.Normalized_Essay.str.contains(r'_\\w{2,}')]"
   ]
  },
  {
   "cell_type": "code",
   "execution_count": 22,
   "metadata": {},
   "outputs": [
    {
     "data": {
      "text/plain": [
       "'_I am go to the_sumar holabuy in The Oman in the Slala in my family the Salala is very haphe and go to The Oman in The car on my calal becoues is not go in the sun and becoues people go in Oman go to the sea and the swming ,eating in Faham beoue_s_ is bleshes food in the brth_a_r in the very nais in the swmming and go the play foot ple and go to the santar in the shoping and go to the Zoo is very naies and becoues in the manke and lion and tor to us in the anmils and go to The hotel go the slep. becous go to in The Famliy is very nais and is very haply'"
      ]
     },
     "execution_count": 22,
     "metadata": {},
     "output_type": "execute_result"
    }
   ],
   "source": [
    "# Yes, we can see \"the\" and \"sumar\" are connected in the phrase \"I am go in the sumar\" \n",
    "cepa_df.Normalized_Essay[24]"
   ]
  },
  {
   "cell_type": "code",
   "execution_count": 23,
   "metadata": {
    "scrolled": true
   },
   "outputs": [
    {
     "data": {
      "text/plain": [
       "'\\t\\t\\t\\tCEPA 2 200605920\\n\\n\\n\\nMy live in the Shajohe, A house is very beautiful, 2 rezens  <i>for righting</i>\\nThe houses in the <o>fife</o> romes, I like rome is me .\\nFirse, be<x>c</x>uos a beautiful my rome, I like the rome becous the see are me bar play in rome and eat \\nSacend,\\n'"
      ]
     },
     "execution_count": 23,
     "metadata": {},
     "output_type": "execute_result"
    },
    {
     "data": {
      "text/plain": [
       "'My live in the Shajohe, A house is very beautiful, 2 rezens ^for righting^ The houses in the _fife_ romes, I like rome is me . Firse, be<x>c</x>uos a beautiful my rome, I like the rome becous the see are me bar play in rome and eat Sacend,'"
      ]
     },
     "execution_count": 23,
     "metadata": {},
     "output_type": "execute_result"
    }
   ],
   "source": [
    "cepa_df.Original_Text[69]\n",
    "cepa_df.Normalized_Essay[69]"
   ]
  },
  {
   "cell_type": "code",
   "execution_count": 24,
   "metadata": {},
   "outputs": [],
   "source": [
    "# UDF to remove tags -- removes tagging for insertions and emphasis, and removes anything within a cross-out tag\n",
    "def remove_tags(text):\n",
    "    \"\"\"Removes tags from Normalized_Essay. If there are tags indicating a student crossed something out, whatever is \n",
    "    enclosed in those tags is removed.\"\"\"\n",
    "    text = re.sub(r'<x>.*?<\\/x>', '', text)         # delete tags for crossing out and the text in those tags\n",
    "    text = text.replace('_', '').replace('^', '')   # remove emphasis and insertion tags\n",
    "    return text"
   ]
  },
  {
   "cell_type": "code",
   "execution_count": 25,
   "metadata": {},
   "outputs": [
    {
     "data": {
      "text/html": [
       "<div>\n",
       "<style scoped>\n",
       "    .dataframe tbody tr th:only-of-type {\n",
       "        vertical-align: middle;\n",
       "    }\n",
       "\n",
       "    .dataframe tbody tr th {\n",
       "        vertical-align: top;\n",
       "    }\n",
       "\n",
       "    .dataframe thead th {\n",
       "        text-align: right;\n",
       "    }\n",
       "</style>\n",
       "<table border=\"1\" class=\"dataframe\">\n",
       "  <thead>\n",
       "    <tr style=\"text-align: right;\">\n",
       "      <th></th>\n",
       "      <th>Filename</th>\n",
       "      <th>Level</th>\n",
       "      <th>Original_Text</th>\n",
       "      <th>Normalized_Essay</th>\n",
       "      <th>Revised_Essay</th>\n",
       "      <th>tokens</th>\n",
       "      <th>token_count</th>\n",
       "    </tr>\n",
       "  </thead>\n",
       "  <tbody>\n",
       "    <tr>\n",
       "      <th>646</th>\n",
       "      <td>200612145</td>\n",
       "      <td>2</td>\n",
       "      <td>\\t\\t\\t\\tCEPA 2 200612145\\n\\n\\nI think just a h...</td>\n",
       "      <td>I think just a holiday I am going to the deser...</td>\n",
       "      <td>I think just a holiday I am going to the deser...</td>\n",
       "      <td>[I, think, just, a, holiday, I, am, going, to,...</td>\n",
       "      <td>40</td>\n",
       "    </tr>\n",
       "    <tr>\n",
       "      <th>1486</th>\n",
       "      <td>200600259</td>\n",
       "      <td>5</td>\n",
       "      <td>\\t\\t\\t\\tCEPA 5 200600259\\n\\n\\n\\nI  choes to wr...</td>\n",
       "      <td>I choes to write about my favourite posssion. ...</td>\n",
       "      <td>I choes to write about my favourite posssion. ...</td>\n",
       "      <td>[I, choes, to, write, about, my, favourite, po...</td>\n",
       "      <td>246</td>\n",
       "    </tr>\n",
       "    <tr>\n",
       "      <th>513</th>\n",
       "      <td>200610973</td>\n",
       "      <td>1</td>\n",
       "      <td>\\t\\t\\t\\tCEPA 1 200610973\\n\\n\\n\\nIn summer your...</td>\n",
       "      <td>In summer your go in the Oman you want in Fath...</td>\n",
       "      <td>In summer your go in the Oman you want in Fath...</td>\n",
       "      <td>[In, summer, your, go, in, the, Oman, you, wan...</td>\n",
       "      <td>155</td>\n",
       "    </tr>\n",
       "    <tr>\n",
       "      <th>622</th>\n",
       "      <td>200607398</td>\n",
       "      <td>6</td>\n",
       "      <td>\\t\\t\\t\\tCEPA 6 200607398\\n\\n\\n\\n        (Topic...</td>\n",
       "      <td>(Topic A ) Last month was the worst time of th...</td>\n",
       "      <td>(Topic A ) Last month was the worst time of th...</td>\n",
       "      <td>[(, Topic, A, ), Last, month, was, the, worst,...</td>\n",
       "      <td>177</td>\n",
       "    </tr>\n",
       "    <tr>\n",
       "      <th>1303</th>\n",
       "      <td>200623130</td>\n",
       "      <td>6</td>\n",
       "      <td>\\t\\t\\t\\tCEPA 6 200623130\\n\\n\\n\\n          \\t\\t...</td>\n",
       "      <td>Topic A Last summer, I had the oppurtunity to ...</td>\n",
       "      <td>Topic A Last summer, I had the oppurtunity to ...</td>\n",
       "      <td>[Topic, A, Last, summer, ,, I, had, the, oppur...</td>\n",
       "      <td>131</td>\n",
       "    </tr>\n",
       "    <tr>\n",
       "      <th>1419</th>\n",
       "      <td>200611164</td>\n",
       "      <td>3</td>\n",
       "      <td>\\t\\t\\t\\tCEPA 3 200611164\\n\\n\\n\\nThere are many...</td>\n",
       "      <td>There are many dayes I have ^want to^ the holi...</td>\n",
       "      <td>There are many dayes I have want to the holida...</td>\n",
       "      <td>[There, are, many, dayes, I, have, want, to, t...</td>\n",
       "      <td>187</td>\n",
       "    </tr>\n",
       "    <tr>\n",
       "      <th>899</th>\n",
       "      <td>200605835</td>\n",
       "      <td>4</td>\n",
       "      <td>\\t\\t\\t\\tCEPA 4 200605835\\n\\n\\n\\nI like to the ...</td>\n",
       "      <td>I like to the gardan in the winter becaue the ...</td>\n",
       "      <td>I like to the gardan in the winter becaue the ...</td>\n",
       "      <td>[I, like, to, the, gardan, in, the, winter, be...</td>\n",
       "      <td>247</td>\n",
       "    </tr>\n",
       "    <tr>\n",
       "      <th>210</th>\n",
       "      <td>200607315</td>\n",
       "      <td>5</td>\n",
       "      <td>\\t\\t\\t\\tCEPA 5 200607315\\n\\n\\n\\nLast Summer I ...</td>\n",
       "      <td>Last Summer I have just had the perfect holida...</td>\n",
       "      <td>Last Summer I have just had the perfect holida...</td>\n",
       "      <td>[Last, Summer, I, have, just, had, the, perfec...</td>\n",
       "      <td>231</td>\n",
       "    </tr>\n",
       "    <tr>\n",
       "      <th>200</th>\n",
       "      <td>200602456</td>\n",
       "      <td>1</td>\n",
       "      <td>\\t\\t\\t\\tCEPA 1 200602456\\n\\n\\n\\nI watch film i...</td>\n",
       "      <td>I watch film in the T.V o the my fraind called...</td>\n",
       "      <td>I watch film in the T.V o the my fraind called...</td>\n",
       "      <td>[I, watch, film, in, the, T.V, o, the, my, fra...</td>\n",
       "      <td>53</td>\n",
       "    </tr>\n",
       "    <tr>\n",
       "      <th>397</th>\n",
       "      <td>200607475</td>\n",
       "      <td>5</td>\n",
       "      <td>\\t\\t\\t\\tCEPA 5 200607475\\n\\n\\n\\nOn the summer ...</td>\n",
       "      <td>On the summer holiday. Just hearing the word \"...</td>\n",
       "      <td>On the summer holiday. Just hearing the word \"...</td>\n",
       "      <td>[On, the, summer, holiday, ., Just, hearing, t...</td>\n",
       "      <td>287</td>\n",
       "    </tr>\n",
       "    <tr>\n",
       "      <th>110</th>\n",
       "      <td>200611830</td>\n",
       "      <td>1</td>\n",
       "      <td>\\t\\t\\t\\tCEPA 1 200611830\\n\\n\\n\\nyou have just ...</td>\n",
       "      <td>you have just had the perfect you want in the ...</td>\n",
       "      <td>you have just had the perfect you want in the ...</td>\n",
       "      <td>[you, have, just, had, the, perfect, you, want...</td>\n",
       "      <td>62</td>\n",
       "    </tr>\n",
       "    <tr>\n",
       "      <th>1440</th>\n",
       "      <td>200605644</td>\n",
       "      <td>1</td>\n",
       "      <td>\\t\\t\\t\\tCEPA 1 200605644\\n\\n\\n\\n              ...</td>\n",
       "      <td>(Topic B),,, Describeanactivitythatyouenjoydoi...</td>\n",
       "      <td>(Topic B),,, Describeanactivitythatyouenjoydoi...</td>\n",
       "      <td>[(, Topic, B, ), ,, ,, ,, Describeanactivityth...</td>\n",
       "      <td>46</td>\n",
       "    </tr>\n",
       "    <tr>\n",
       "      <th>316</th>\n",
       "      <td>200607274</td>\n",
       "      <td>2</td>\n",
       "      <td>\\t\\t\\t\\tCEPA 2 200607274\\n\\n\\n\\nOn day on the ...</td>\n",
       "      <td>On day on the sammer I travle in the Oman with...</td>\n",
       "      <td>On day on the sammer I travle in the Oman with...</td>\n",
       "      <td>[On, day, on, the, sammer, I, travle, in, the,...</td>\n",
       "      <td>69</td>\n",
       "    </tr>\n",
       "    <tr>\n",
       "      <th>1475</th>\n",
       "      <td>200608349</td>\n",
       "      <td>5</td>\n",
       "      <td>\\t\\t\\t\\tCEPA 5 200608349\\n\\n\\n\\nLast summer ho...</td>\n",
       "      <td>Last summer holiday I traveled to South of Afr...</td>\n",
       "      <td>Last summer holiday I traveled to South of Afr...</td>\n",
       "      <td>[Last, summer, holiday, I, traveled, to, South...</td>\n",
       "      <td>274</td>\n",
       "    </tr>\n",
       "    <tr>\n",
       "      <th>1339</th>\n",
       "      <td>200601346</td>\n",
       "      <td>2</td>\n",
       "      <td>\\t\\t\\t\\tCEPA 2 200601346\\n\\n\\nPerfect holiday\\...</td>\n",
       "      <td>Perfect holiday I went holiday in Ail-Ain and ...</td>\n",
       "      <td>Perfect holiday I went holiday in Ail-Ain and ...</td>\n",
       "      <td>[Perfect, holiday, I, went, holiday, in, Ail-A...</td>\n",
       "      <td>64</td>\n",
       "    </tr>\n",
       "  </tbody>\n",
       "</table>\n",
       "</div>"
      ],
      "text/plain": [
       "       Filename Level                                      Original_Text  \\\n",
       "646   200612145     2  \\t\\t\\t\\tCEPA 2 200612145\\n\\n\\nI think just a h...   \n",
       "1486  200600259     5  \\t\\t\\t\\tCEPA 5 200600259\\n\\n\\n\\nI  choes to wr...   \n",
       "513   200610973     1  \\t\\t\\t\\tCEPA 1 200610973\\n\\n\\n\\nIn summer your...   \n",
       "622   200607398     6  \\t\\t\\t\\tCEPA 6 200607398\\n\\n\\n\\n        (Topic...   \n",
       "1303  200623130     6  \\t\\t\\t\\tCEPA 6 200623130\\n\\n\\n\\n          \\t\\t...   \n",
       "1419  200611164     3  \\t\\t\\t\\tCEPA 3 200611164\\n\\n\\n\\nThere are many...   \n",
       "899   200605835     4  \\t\\t\\t\\tCEPA 4 200605835\\n\\n\\n\\nI like to the ...   \n",
       "210   200607315     5  \\t\\t\\t\\tCEPA 5 200607315\\n\\n\\n\\nLast Summer I ...   \n",
       "200   200602456     1  \\t\\t\\t\\tCEPA 1 200602456\\n\\n\\n\\nI watch film i...   \n",
       "397   200607475     5  \\t\\t\\t\\tCEPA 5 200607475\\n\\n\\n\\nOn the summer ...   \n",
       "110   200611830     1  \\t\\t\\t\\tCEPA 1 200611830\\n\\n\\n\\nyou have just ...   \n",
       "1440  200605644     1  \\t\\t\\t\\tCEPA 1 200605644\\n\\n\\n\\n              ...   \n",
       "316   200607274     2  \\t\\t\\t\\tCEPA 2 200607274\\n\\n\\n\\nOn day on the ...   \n",
       "1475  200608349     5  \\t\\t\\t\\tCEPA 5 200608349\\n\\n\\n\\nLast summer ho...   \n",
       "1339  200601346     2  \\t\\t\\t\\tCEPA 2 200601346\\n\\n\\nPerfect holiday\\...   \n",
       "\n",
       "                                       Normalized_Essay  \\\n",
       "646   I think just a holiday I am going to the deser...   \n",
       "1486  I choes to write about my favourite posssion. ...   \n",
       "513   In summer your go in the Oman you want in Fath...   \n",
       "622   (Topic A ) Last month was the worst time of th...   \n",
       "1303  Topic A Last summer, I had the oppurtunity to ...   \n",
       "1419  There are many dayes I have ^want to^ the holi...   \n",
       "899   I like to the gardan in the winter becaue the ...   \n",
       "210   Last Summer I have just had the perfect holida...   \n",
       "200   I watch film in the T.V o the my fraind called...   \n",
       "397   On the summer holiday. Just hearing the word \"...   \n",
       "110   you have just had the perfect you want in the ...   \n",
       "1440  (Topic B),,, Describeanactivitythatyouenjoydoi...   \n",
       "316   On day on the sammer I travle in the Oman with...   \n",
       "1475  Last summer holiday I traveled to South of Afr...   \n",
       "1339  Perfect holiday I went holiday in Ail-Ain and ...   \n",
       "\n",
       "                                          Revised_Essay  \\\n",
       "646   I think just a holiday I am going to the deser...   \n",
       "1486  I choes to write about my favourite posssion. ...   \n",
       "513   In summer your go in the Oman you want in Fath...   \n",
       "622   (Topic A ) Last month was the worst time of th...   \n",
       "1303  Topic A Last summer, I had the oppurtunity to ...   \n",
       "1419  There are many dayes I have want to the holida...   \n",
       "899   I like to the gardan in the winter becaue the ...   \n",
       "210   Last Summer I have just had the perfect holida...   \n",
       "200   I watch film in the T.V o the my fraind called...   \n",
       "397   On the summer holiday. Just hearing the word \"...   \n",
       "110   you have just had the perfect you want in the ...   \n",
       "1440  (Topic B),,, Describeanactivitythatyouenjoydoi...   \n",
       "316   On day on the sammer I travle in the Oman with...   \n",
       "1475  Last summer holiday I traveled to South of Afr...   \n",
       "1339  Perfect holiday I went holiday in Ail-Ain and ...   \n",
       "\n",
       "                                                 tokens  token_count  \n",
       "646   [I, think, just, a, holiday, I, am, going, to,...           40  \n",
       "1486  [I, choes, to, write, about, my, favourite, po...          246  \n",
       "513   [In, summer, your, go, in, the, Oman, you, wan...          155  \n",
       "622   [(, Topic, A, ), Last, month, was, the, worst,...          177  \n",
       "1303  [Topic, A, Last, summer, ,, I, had, the, oppur...          131  \n",
       "1419  [There, are, many, dayes, I, have, want, to, t...          187  \n",
       "899   [I, like, to, the, gardan, in, the, winter, be...          247  \n",
       "210   [Last, Summer, I, have, just, had, the, perfec...          231  \n",
       "200   [I, watch, film, in, the, T.V, o, the, my, fra...           53  \n",
       "397   [On, the, summer, holiday, ., Just, hearing, t...          287  \n",
       "110   [you, have, just, had, the, perfect, you, want...           62  \n",
       "1440  [(, Topic, B, ), ,, ,, ,, Describeanactivityth...           46  \n",
       "316   [On, day, on, the, sammer, I, travle, in, the,...           69  \n",
       "1475  [Last, summer, holiday, I, traveled, to, South...          274  \n",
       "1339  [Perfect, holiday, I, went, holiday, in, Ail-A...           64  "
      ]
     },
     "execution_count": 25,
     "metadata": {},
     "output_type": "execute_result"
    }
   ],
   "source": [
    "# Remove_tags applied to creat \"Revised_Essay\"\n",
    "# Tokenize revised_essay\n",
    "# Get token count\n",
    "cepa_df['Revised_Essay'] = cepa_df.Normalized_Essay.apply(remove_tags)\n",
    "cepa_df['tokens'] = cepa_df.Revised_Essay.apply(nltk.word_tokenize)\n",
    "cepa_df['token_count'] = cepa_df.tokens.map(len)\n",
    "cepa_df.sample(15)"
   ]
  },
  {
   "cell_type": "code",
   "execution_count": 26,
   "metadata": {},
   "outputs": [
    {
     "data": {
      "text/html": [
       "<div>\n",
       "<style scoped>\n",
       "    .dataframe tbody tr th:only-of-type {\n",
       "        vertical-align: middle;\n",
       "    }\n",
       "\n",
       "    .dataframe tbody tr th {\n",
       "        vertical-align: top;\n",
       "    }\n",
       "\n",
       "    .dataframe thead th {\n",
       "        text-align: right;\n",
       "    }\n",
       "</style>\n",
       "<table border=\"1\" class=\"dataframe\">\n",
       "  <thead>\n",
       "    <tr style=\"text-align: right;\">\n",
       "      <th></th>\n",
       "      <th>Filename</th>\n",
       "      <th>Level</th>\n",
       "      <th>Original_Text</th>\n",
       "      <th>Normalized_Essay</th>\n",
       "      <th>Revised_Essay</th>\n",
       "      <th>tokens</th>\n",
       "      <th>token_count</th>\n",
       "    </tr>\n",
       "  </thead>\n",
       "  <tbody>\n",
       "    <tr>\n",
       "      <th>6</th>\n",
       "      <td>200608959</td>\n",
       "      <td>5</td>\n",
       "      <td>\\t\\t\\t\\tCEPA 5 200608959\\n\\n\\n\\nI have just ha...</td>\n",
       "      <td>I have just had the perfect and the best holid...</td>\n",
       "      <td>I have just had the perfect and the best holid...</td>\n",
       "      <td>[I, have, just, had, the, perfect, and, the, b...</td>\n",
       "      <td>277</td>\n",
       "    </tr>\n",
       "    <tr>\n",
       "      <th>128</th>\n",
       "      <td>200612443</td>\n",
       "      <td>2</td>\n",
       "      <td>\\t\\t\\t\\tCEPA 2 200612443\\n\\n\\n\\nI’m writing To...</td>\n",
       "      <td>I'm writing Topic B to Describe the best film ...</td>\n",
       "      <td>I'm writing Topic B to Describe the best film ...</td>\n",
       "      <td>[I, 'm, writing, Topic, B, to, Describe, the, ...</td>\n",
       "      <td>310</td>\n",
       "    </tr>\n",
       "    <tr>\n",
       "      <th>237</th>\n",
       "      <td>200611155</td>\n",
       "      <td>3</td>\n",
       "      <td>\\t\\t\\t\\tCEPA 3 200611155\\n\\n\\n\\nIn the last su...</td>\n",
       "      <td>In the last summer holiday, I hade the worest ...</td>\n",
       "      <td>In the last summer holiday, I hade the worest ...</td>\n",
       "      <td>[In, the, last, summer, holiday, ,, I, hade, t...</td>\n",
       "      <td>264</td>\n",
       "    </tr>\n",
       "    <tr>\n",
       "      <th>812</th>\n",
       "      <td>200612584</td>\n",
       "      <td>2</td>\n",
       "      <td>\\t\\t\\t\\tCEPA 2 200612584\\n\\n\\n\\nThese weekend ...</td>\n",
       "      <td>These weekend the worst. Because I stayd at ho...</td>\n",
       "      <td>These weekend the worst. Because I stayd at ho...</td>\n",
       "      <td>[These, weekend, the, worst, ., Because, I, st...</td>\n",
       "      <td>52</td>\n",
       "    </tr>\n",
       "    <tr>\n",
       "      <th>1251</th>\n",
       "      <td>200611303</td>\n",
       "      <td>3</td>\n",
       "      <td>\\t\\t\\t\\tCEPA 3 200611303\\n\\n\\n\\nThere are many...</td>\n",
       "      <td>There are many qualites the worst weekend bad....</td>\n",
       "      <td>There are many qualites the worst weekend bad....</td>\n",
       "      <td>[There, are, many, qualites, the, worst, weeke...</td>\n",
       "      <td>199</td>\n",
       "    </tr>\n",
       "    <tr>\n",
       "      <th>1401</th>\n",
       "      <td>200604402</td>\n",
       "      <td>1</td>\n",
       "      <td>\\t\\t\\t\\tCEPA 1 200604402\\n\\n\\n\\n&lt;x&gt;me&lt;/x&gt; &lt;o&gt;m...</td>\n",
       "      <td>&lt;x&gt;me&lt;/x&gt; _my you went ar_wous. went &lt;x&gt;my&lt;/x&gt;...</td>\n",
       "      <td>my you went arwous. went  and fraund  Yor  ne...</td>\n",
       "      <td>[my, you, went, arwous, ., went, and, fraund, ...</td>\n",
       "      <td>43</td>\n",
       "    </tr>\n",
       "  </tbody>\n",
       "</table>\n",
       "</div>"
      ],
      "text/plain": [
       "       Filename Level                                      Original_Text  \\\n",
       "6     200608959     5  \\t\\t\\t\\tCEPA 5 200608959\\n\\n\\n\\nI have just ha...   \n",
       "128   200612443     2  \\t\\t\\t\\tCEPA 2 200612443\\n\\n\\n\\nI’m writing To...   \n",
       "237   200611155     3  \\t\\t\\t\\tCEPA 3 200611155\\n\\n\\n\\nIn the last su...   \n",
       "812   200612584     2  \\t\\t\\t\\tCEPA 2 200612584\\n\\n\\n\\nThese weekend ...   \n",
       "1251  200611303     3  \\t\\t\\t\\tCEPA 3 200611303\\n\\n\\n\\nThere are many...   \n",
       "1401  200604402     1  \\t\\t\\t\\tCEPA 1 200604402\\n\\n\\n\\n<x>me</x> <o>m...   \n",
       "\n",
       "                                       Normalized_Essay  \\\n",
       "6     I have just had the perfect and the best holid...   \n",
       "128   I'm writing Topic B to Describe the best film ...   \n",
       "237   In the last summer holiday, I hade the worest ...   \n",
       "812   These weekend the worst. Because I stayd at ho...   \n",
       "1251  There are many qualites the worst weekend bad....   \n",
       "1401  <x>me</x> _my you went ar_wous. went <x>my</x>...   \n",
       "\n",
       "                                          Revised_Essay  \\\n",
       "6     I have just had the perfect and the best holid...   \n",
       "128   I'm writing Topic B to Describe the best film ...   \n",
       "237   In the last summer holiday, I hade the worest ...   \n",
       "812   These weekend the worst. Because I stayd at ho...   \n",
       "1251  There are many qualites the worst weekend bad....   \n",
       "1401   my you went arwous. went  and fraund  Yor  ne...   \n",
       "\n",
       "                                                 tokens  token_count  \n",
       "6     [I, have, just, had, the, perfect, and, the, b...          277  \n",
       "128   [I, 'm, writing, Topic, B, to, Describe, the, ...          310  \n",
       "237   [In, the, last, summer, holiday, ,, I, hade, t...          264  \n",
       "812   [These, weekend, the, worst, ., Because, I, st...           52  \n",
       "1251  [There, are, many, qualites, the, worst, weeke...          199  \n",
       "1401  [my, you, went, arwous, ., went, and, fraund, ...           43  "
      ]
     },
     "execution_count": 26,
     "metadata": {},
     "output_type": "execute_result"
    }
   ],
   "source": [
    "# checking to make sure there are no \"cepa\" tokens included from incorrect/incomplete heading removal\n",
    "cepa_df[cepa_df.tokens.apply(lambda x: 'cepa' in [y.lower() for y in x])]\n",
    "\n",
    "# returns are essays that talk about cepa "
   ]
  },
  {
   "cell_type": "code",
   "execution_count": 27,
   "metadata": {},
   "outputs": [],
   "source": [
    "# Let's get TTR\n",
    "def get_TTR(toks):\n",
    "    \"\"\"All tokens are lowercased, punctuation is included.\n",
    "    Get TTR by dividing set of lowercased tokens by length of tokens.\"\"\"\n",
    "    all_toks = [x.lower() for x in toks]\n",
    "    if len(all_toks) == 0:   # at least one file has 0 tokens, so I got an error about dividing by zero without this\n",
    "        return 0\n",
    "    else: return len(set(all_toks))/len(all_toks)"
   ]
  },
  {
   "cell_type": "code",
   "execution_count": 28,
   "metadata": {},
   "outputs": [
    {
     "data": {
      "text/plain": [
       "0.7619047619047619"
      ]
     },
     "execution_count": 28,
     "metadata": {},
     "output_type": "execute_result"
    }
   ],
   "source": [
    "# checking UDF\n",
    "foo = \"My name is Elena and I am a Junior Linguist. I study applied linguistics, and i want to be a linguist.\"\n",
    "get_TTR(foo.split())"
   ]
  },
  {
   "cell_type": "code",
   "execution_count": 29,
   "metadata": {},
   "outputs": [
    {
     "data": {
      "text/plain": [
       "0.7619047619047619"
      ]
     },
     "execution_count": 29,
     "metadata": {},
     "output_type": "execute_result"
    }
   ],
   "source": [
    "# checking UDF by hand\n",
    "lil = [x.lower() for x in foo.split()]\n",
    "len(set(lil))/len(lil)"
   ]
  },
  {
   "cell_type": "code",
   "execution_count": 30,
   "metadata": {},
   "outputs": [
    {
     "data": {
      "text/plain": [
       "0"
      ]
     },
     "execution_count": 30,
     "metadata": {},
     "output_type": "execute_result"
    }
   ],
   "source": [
    "# checking UDF on an empty string\n",
    "foo = \"\"\n",
    "get_TTR(foo)"
   ]
  },
  {
   "cell_type": "code",
   "execution_count": 31,
   "metadata": {},
   "outputs": [],
   "source": [
    "cepa_df['TTR'] = cepa_df.tokens.apply(get_TTR)"
   ]
  },
  {
   "cell_type": "code",
   "execution_count": 32,
   "metadata": {
    "scrolled": true
   },
   "outputs": [
    {
     "data": {
      "text/html": [
       "<div>\n",
       "<style scoped>\n",
       "    .dataframe tbody tr th:only-of-type {\n",
       "        vertical-align: middle;\n",
       "    }\n",
       "\n",
       "    .dataframe tbody tr th {\n",
       "        vertical-align: top;\n",
       "    }\n",
       "\n",
       "    .dataframe thead th {\n",
       "        text-align: right;\n",
       "    }\n",
       "</style>\n",
       "<table border=\"1\" class=\"dataframe\">\n",
       "  <thead>\n",
       "    <tr style=\"text-align: right;\">\n",
       "      <th></th>\n",
       "      <th>Filename</th>\n",
       "      <th>Level</th>\n",
       "      <th>Original_Text</th>\n",
       "      <th>Normalized_Essay</th>\n",
       "      <th>Revised_Essay</th>\n",
       "      <th>tokens</th>\n",
       "      <th>token_count</th>\n",
       "      <th>TTR</th>\n",
       "    </tr>\n",
       "  </thead>\n",
       "  <tbody>\n",
       "    <tr>\n",
       "      <th>0</th>\n",
       "      <td>200607296</td>\n",
       "      <td>3</td>\n",
       "      <td>\\t\\t\\t\\tCEPA 3 200607296\\n\\n\\n\\nNow I tell you...</td>\n",
       "      <td>Now I tell you why my worst holiday ever in th...</td>\n",
       "      <td>Now I tell you why my worst holiday ever in th...</td>\n",
       "      <td>[Now, I, tell, you, why, my, worst, holiday, e...</td>\n",
       "      <td>207</td>\n",
       "      <td>0.492754</td>\n",
       "    </tr>\n",
       "    <tr>\n",
       "      <th>1</th>\n",
       "      <td>200607457</td>\n",
       "      <td>4</td>\n",
       "      <td>\\t\\t\\t\\tCEPA 4 200607457\\n\\n\\n\\n              ...</td>\n",
       "      <td>My worst holiday Last year I have just had the...</td>\n",
       "      <td>My worst holiday Last year I have just had the...</td>\n",
       "      <td>[My, worst, holiday, Last, year, I, have, just...</td>\n",
       "      <td>180</td>\n",
       "      <td>0.572222</td>\n",
       "    </tr>\n",
       "    <tr>\n",
       "      <th>2</th>\n",
       "      <td>200600487</td>\n",
       "      <td>5</td>\n",
       "      <td>\\t\\t\\t\\tCEPA 5 200600487\\n\\n\\n\\n\\nEvery body i...</td>\n",
       "      <td>Every body in this life have a favourite posse...</td>\n",
       "      <td>Every body in this life have a favourite posse...</td>\n",
       "      <td>[Every, body, in, this, life, have, a, favouri...</td>\n",
       "      <td>229</td>\n",
       "      <td>0.445415</td>\n",
       "    </tr>\n",
       "    <tr>\n",
       "      <th>3</th>\n",
       "      <td>200608016</td>\n",
       "      <td>4</td>\n",
       "      <td>\\t\\t\\t\\tCEPA 4 200608016\\n\\n\\n\\nEvery body hav...</td>\n",
       "      <td>Every body have a lot ofpossessions in this li...</td>\n",
       "      <td>Every body have a lot ofpossessions in this li...</td>\n",
       "      <td>[Every, body, have, a, lot, ofpossessions, in,...</td>\n",
       "      <td>156</td>\n",
       "      <td>0.608974</td>\n",
       "    </tr>\n",
       "    <tr>\n",
       "      <th>4</th>\n",
       "      <td>200611825</td>\n",
       "      <td>1</td>\n",
       "      <td>\\t\\t\\t\\tCEPA 1 200611825\\n\\n\\n\\nyou go in the ...</td>\n",
       "      <td>you go in the oman just had the perfect holida...</td>\n",
       "      <td>you go in the oman just had the perfect holida...</td>\n",
       "      <td>[you, go, in, the, oman, just, had, the, perfe...</td>\n",
       "      <td>27</td>\n",
       "      <td>0.629630</td>\n",
       "    </tr>\n",
       "  </tbody>\n",
       "</table>\n",
       "</div>"
      ],
      "text/plain": [
       "    Filename Level                                      Original_Text  \\\n",
       "0  200607296     3  \\t\\t\\t\\tCEPA 3 200607296\\n\\n\\n\\nNow I tell you...   \n",
       "1  200607457     4  \\t\\t\\t\\tCEPA 4 200607457\\n\\n\\n\\n              ...   \n",
       "2  200600487     5  \\t\\t\\t\\tCEPA 5 200600487\\n\\n\\n\\n\\nEvery body i...   \n",
       "3  200608016     4  \\t\\t\\t\\tCEPA 4 200608016\\n\\n\\n\\nEvery body hav...   \n",
       "4  200611825     1  \\t\\t\\t\\tCEPA 1 200611825\\n\\n\\n\\nyou go in the ...   \n",
       "\n",
       "                                    Normalized_Essay  \\\n",
       "0  Now I tell you why my worst holiday ever in th...   \n",
       "1  My worst holiday Last year I have just had the...   \n",
       "2  Every body in this life have a favourite posse...   \n",
       "3  Every body have a lot ofpossessions in this li...   \n",
       "4  you go in the oman just had the perfect holida...   \n",
       "\n",
       "                                       Revised_Essay  \\\n",
       "0  Now I tell you why my worst holiday ever in th...   \n",
       "1  My worst holiday Last year I have just had the...   \n",
       "2  Every body in this life have a favourite posse...   \n",
       "3  Every body have a lot ofpossessions in this li...   \n",
       "4  you go in the oman just had the perfect holida...   \n",
       "\n",
       "                                              tokens  token_count       TTR  \n",
       "0  [Now, I, tell, you, why, my, worst, holiday, e...          207  0.492754  \n",
       "1  [My, worst, holiday, Last, year, I, have, just...          180  0.572222  \n",
       "2  [Every, body, in, this, life, have, a, favouri...          229  0.445415  \n",
       "3  [Every, body, have, a, lot, ofpossessions, in,...          156  0.608974  \n",
       "4  [you, go, in, the, oman, just, had, the, perfe...           27  0.629630  "
      ]
     },
     "execution_count": 32,
     "metadata": {},
     "output_type": "execute_result"
    }
   ],
   "source": [
    "cepa_df.head()"
   ]
  },
  {
   "cell_type": "markdown",
   "metadata": {},
   "source": [
    "Let's make sure everything read in correctly."
   ]
  },
  {
   "cell_type": "code",
   "execution_count": 33,
   "metadata": {},
   "outputs": [
    {
     "data": {
      "text/plain": [
       "True"
      ]
     },
     "execution_count": 33,
     "metadata": {},
     "output_type": "execute_result"
    }
   ],
   "source": [
    "# all filenames should have only 1 value\n",
    "all(cepa_df.Filename.value_counts() == 1)"
   ]
  },
  {
   "cell_type": "code",
   "execution_count": 34,
   "metadata": {},
   "outputs": [
    {
     "data": {
      "text/plain": [
       "{'1', '2', '4', '5', '6', '3'}"
      ]
     },
     "execution_count": 34,
     "metadata": {},
     "output_type": "execute_result"
    }
   ],
   "source": [
    "# Levels should be 1-6 only\n",
    "set(cepa_df.Level)"
   ]
  },
  {
   "cell_type": "code",
   "execution_count": 35,
   "metadata": {},
   "outputs": [
    {
     "data": {
      "text/html": [
       "<div>\n",
       "<style scoped>\n",
       "    .dataframe tbody tr th:only-of-type {\n",
       "        vertical-align: middle;\n",
       "    }\n",
       "\n",
       "    .dataframe tbody tr th {\n",
       "        vertical-align: top;\n",
       "    }\n",
       "\n",
       "    .dataframe thead th {\n",
       "        text-align: right;\n",
       "    }\n",
       "</style>\n",
       "<table border=\"1\" class=\"dataframe\">\n",
       "  <thead>\n",
       "    <tr style=\"text-align: right;\">\n",
       "      <th></th>\n",
       "      <th>token_count</th>\n",
       "      <th>TTR</th>\n",
       "    </tr>\n",
       "  </thead>\n",
       "  <tbody>\n",
       "    <tr>\n",
       "      <th>count</th>\n",
       "      <td>1652.000000</td>\n",
       "      <td>1652.000000</td>\n",
       "    </tr>\n",
       "    <tr>\n",
       "      <th>mean</th>\n",
       "      <td>160.429177</td>\n",
       "      <td>0.546359</td>\n",
       "    </tr>\n",
       "    <tr>\n",
       "      <th>std</th>\n",
       "      <td>86.249180</td>\n",
       "      <td>0.116101</td>\n",
       "    </tr>\n",
       "    <tr>\n",
       "      <th>min</th>\n",
       "      <td>0.000000</td>\n",
       "      <td>0.000000</td>\n",
       "    </tr>\n",
       "    <tr>\n",
       "      <th>25%</th>\n",
       "      <td>85.750000</td>\n",
       "      <td>0.471498</td>\n",
       "    </tr>\n",
       "    <tr>\n",
       "      <th>50%</th>\n",
       "      <td>165.000000</td>\n",
       "      <td>0.522408</td>\n",
       "    </tr>\n",
       "    <tr>\n",
       "      <th>75%</th>\n",
       "      <td>225.000000</td>\n",
       "      <td>0.590909</td>\n",
       "    </tr>\n",
       "    <tr>\n",
       "      <th>max</th>\n",
       "      <td>397.000000</td>\n",
       "      <td>1.000000</td>\n",
       "    </tr>\n",
       "  </tbody>\n",
       "</table>\n",
       "</div>"
      ],
      "text/plain": [
       "       token_count          TTR\n",
       "count  1652.000000  1652.000000\n",
       "mean    160.429177     0.546359\n",
       "std      86.249180     0.116101\n",
       "min       0.000000     0.000000\n",
       "25%      85.750000     0.471498\n",
       "50%     165.000000     0.522408\n",
       "75%     225.000000     0.590909\n",
       "max     397.000000     1.000000"
      ]
     },
     "execution_count": 35,
     "metadata": {},
     "output_type": "execute_result"
    }
   ],
   "source": [
    "# should be 1652 counts for everything -- at least 1 token_count of 0\n",
    "cepa_df.describe()"
   ]
  },
  {
   "cell_type": "code",
   "execution_count": 36,
   "metadata": {
    "scrolled": false
   },
   "outputs": [
    {
     "data": {
      "text/plain": [
       "5    299\n",
       "4    297\n",
       "2    283\n",
       "1    276\n",
       "3    249\n",
       "6    248\n",
       "Name: Level, dtype: int64"
      ]
     },
     "execution_count": 36,
     "metadata": {},
     "output_type": "execute_result"
    }
   ],
   "source": [
    "# Let's review the number of files for each level\n",
    "cepa_df.Level.value_counts()"
   ]
  },
  {
   "cell_type": "code",
   "execution_count": 37,
   "metadata": {
    "scrolled": false
   },
   "outputs": [
    {
     "data": {
      "text/html": [
       "<div>\n",
       "<style scoped>\n",
       "    .dataframe tbody tr th:only-of-type {\n",
       "        vertical-align: middle;\n",
       "    }\n",
       "\n",
       "    .dataframe tbody tr th {\n",
       "        vertical-align: top;\n",
       "    }\n",
       "\n",
       "    .dataframe thead th {\n",
       "        text-align: right;\n",
       "    }\n",
       "</style>\n",
       "<table border=\"1\" class=\"dataframe\">\n",
       "  <thead>\n",
       "    <tr style=\"text-align: right;\">\n",
       "      <th></th>\n",
       "      <th>Filename</th>\n",
       "      <th>Level</th>\n",
       "      <th>Original_Text</th>\n",
       "      <th>Normalized_Essay</th>\n",
       "      <th>Revised_Essay</th>\n",
       "      <th>tokens</th>\n",
       "      <th>token_count</th>\n",
       "      <th>TTR</th>\n",
       "    </tr>\n",
       "  </thead>\n",
       "  <tbody>\n",
       "    <tr>\n",
       "      <th>1079</th>\n",
       "      <td>200604511</td>\n",
       "      <td>1</td>\n",
       "      <td>\\t\\t\\t\\tCEPA 1 200604511\\n\\n\\n\\n\\n</td>\n",
       "      <td></td>\n",
       "      <td></td>\n",
       "      <td>[]</td>\n",
       "      <td>0</td>\n",
       "      <td>0.0</td>\n",
       "    </tr>\n",
       "  </tbody>\n",
       "</table>\n",
       "</div>"
      ],
      "text/plain": [
       "       Filename Level                       Original_Text Normalized_Essay  \\\n",
       "1079  200604511     1  \\t\\t\\t\\tCEPA 1 200604511\\n\\n\\n\\n\\n                    \n",
       "\n",
       "     Revised_Essay tokens  token_count  TTR  \n",
       "1079                   []            0  0.0  "
      ]
     },
     "execution_count": 37,
     "metadata": {},
     "output_type": "execute_result"
    }
   ],
   "source": [
    "# Let's see how many files have no tokens\n",
    "cepa_df[cepa_df.token_count == 0]\n",
    "\n",
    "# Just 1! and it's a level 1"
   ]
  },
  {
   "cell_type": "code",
   "execution_count": 38,
   "metadata": {
    "scrolled": true
   },
   "outputs": [
    {
     "data": {
      "text/html": [
       "<div>\n",
       "<style scoped>\n",
       "    .dataframe tbody tr th:only-of-type {\n",
       "        vertical-align: middle;\n",
       "    }\n",
       "\n",
       "    .dataframe tbody tr th {\n",
       "        vertical-align: top;\n",
       "    }\n",
       "\n",
       "    .dataframe thead th {\n",
       "        text-align: right;\n",
       "    }\n",
       "</style>\n",
       "<table border=\"1\" class=\"dataframe\">\n",
       "  <thead>\n",
       "    <tr style=\"text-align: right;\">\n",
       "      <th></th>\n",
       "      <th>Filename</th>\n",
       "      <th>Level</th>\n",
       "      <th>Original_Text</th>\n",
       "      <th>Normalized_Essay</th>\n",
       "      <th>Revised_Essay</th>\n",
       "      <th>tokens</th>\n",
       "      <th>token_count</th>\n",
       "      <th>TTR</th>\n",
       "    </tr>\n",
       "  </thead>\n",
       "  <tbody>\n",
       "    <tr>\n",
       "      <th>227</th>\n",
       "      <td>200608341</td>\n",
       "      <td>1</td>\n",
       "      <td>\\t\\t\\t\\tCEPA 1 200608341\\n\\n\\n\\nI don’t now\\n</td>\n",
       "      <td>I don't now</td>\n",
       "      <td>I don't now</td>\n",
       "      <td>[I, do, n't, now]</td>\n",
       "      <td>4</td>\n",
       "      <td>1.0</td>\n",
       "    </tr>\n",
       "    <tr>\n",
       "      <th>538</th>\n",
       "      <td>200606487</td>\n",
       "      <td>1</td>\n",
       "      <td>\\t\\t\\t\\tCEPA 1 200606487\\n\\n\\n\\nThe mask\\nThes...</td>\n",
       "      <td>The mask These film is Dangrs</td>\n",
       "      <td>The mask These film is Dangrs</td>\n",
       "      <td>[The, mask, These, film, is, Dangrs]</td>\n",
       "      <td>6</td>\n",
       "      <td>1.0</td>\n",
       "    </tr>\n",
       "    <tr>\n",
       "      <th>620</th>\n",
       "      <td>200611449</td>\n",
       "      <td>1</td>\n",
       "      <td>\\t\\t\\t\\tCEPA 1 200611449\\n\\n\\n\\nOman it agood ...</td>\n",
       "      <td>Oman it agood cantry.</td>\n",
       "      <td>Oman it agood cantry.</td>\n",
       "      <td>[Oman, it, agood, cantry, .]</td>\n",
       "      <td>5</td>\n",
       "      <td>1.0</td>\n",
       "    </tr>\n",
       "    <tr>\n",
       "      <th>684</th>\n",
       "      <td>200611925</td>\n",
       "      <td>2</td>\n",
       "      <td>\\t\\t\\t\\tCEPA 2 200611925\\n\\n\\n\\nIm KHALED ABDU...</td>\n",
       "      <td>Im KHALED ABDULLA AL SHAMISI from the UAE. ALAin</td>\n",
       "      <td>Im KHALED ABDULLA AL SHAMISI from the UAE. ALAin</td>\n",
       "      <td>[Im, KHALED, ABDULLA, AL, SHAMISI, from, the, ...</td>\n",
       "      <td>10</td>\n",
       "      <td>1.0</td>\n",
       "    </tr>\n",
       "    <tr>\n",
       "      <th>736</th>\n",
       "      <td>200611666</td>\n",
       "      <td>1</td>\n",
       "      <td>\\t\\t\\t\\tCEPA 1 200611666\\n\\n\\n\\nSo good weathe...</td>\n",
       "      <td>So good weather in the summer</td>\n",
       "      <td>So good weather in the summer</td>\n",
       "      <td>[So, good, weather, in, the, summer]</td>\n",
       "      <td>6</td>\n",
       "      <td>1.0</td>\n",
       "    </tr>\n",
       "    <tr>\n",
       "      <th>794</th>\n",
       "      <td>200604490</td>\n",
       "      <td>1</td>\n",
       "      <td>\\t\\t\\t\\tCEPA 1 200604490\\n\\n\\n\\nyo to &lt;o&gt;AL&lt;/o...</td>\n",
       "      <td>yo to _AL_Ain an sammr not Haeep</td>\n",
       "      <td>yo to ALAin an sammr not Haeep</td>\n",
       "      <td>[yo, to, ALAin, an, sammr, not, Haeep]</td>\n",
       "      <td>7</td>\n",
       "      <td>1.0</td>\n",
       "    </tr>\n",
       "    <tr>\n",
       "      <th>922</th>\n",
       "      <td>200606507</td>\n",
       "      <td>1</td>\n",
       "      <td>\\t\\t\\t\\tCEPA 1 200606507\\n\\n\\n\\nThe Al Ain in ...</td>\n",
       "      <td>The Al Ain in no To fot xxx EYecPh</td>\n",
       "      <td>The Al Ain in no To fot xxx EYecPh</td>\n",
       "      <td>[The, Al, Ain, in, no, To, fot, xxx, EYecPh]</td>\n",
       "      <td>9</td>\n",
       "      <td>1.0</td>\n",
       "    </tr>\n",
       "    <tr>\n",
       "      <th>1115</th>\n",
       "      <td>200608510</td>\n",
       "      <td>1</td>\n",
       "      <td>\\t\\t\\t\\tCEPA 1 200608510\\n\\n\\n\\nI you a Oman ....</td>\n",
       "      <td>I you a Oman .I are went there faiml</td>\n",
       "      <td>I you a Oman .I are went there faiml</td>\n",
       "      <td>[I, you, a, Oman, .I, are, went, there, faiml]</td>\n",
       "      <td>9</td>\n",
       "      <td>1.0</td>\n",
       "    </tr>\n",
       "    <tr>\n",
       "      <th>1187</th>\n",
       "      <td>200612172</td>\n",
       "      <td>1</td>\n",
       "      <td>\\t\\t\\t\\tCEPA 1 200612172\\n\\n\\n\\nOne fire day w...</td>\n",
       "      <td>One fire day waent to the _cea_nima with ferin...</td>\n",
       "      <td>One fire day waent to the ceanima with ferinds...</td>\n",
       "      <td>[One, fire, day, waent, to, the, ceanima, with...</td>\n",
       "      <td>13</td>\n",
       "      <td>1.0</td>\n",
       "    </tr>\n",
       "    <tr>\n",
       "      <th>1337</th>\n",
       "      <td>200603781</td>\n",
       "      <td>1</td>\n",
       "      <td>\\t\\t\\t\\tCEPA 1 200603781\\n\\n\\n\\nI go to the Du...</td>\n",
       "      <td>I go to the Dubai</td>\n",
       "      <td>I go to the Dubai</td>\n",
       "      <td>[I, go, to, the, Dubai]</td>\n",
       "      <td>5</td>\n",
       "      <td>1.0</td>\n",
       "    </tr>\n",
       "    <tr>\n",
       "      <th>1426</th>\n",
       "      <td>200612328</td>\n",
       "      <td>1</td>\n",
       "      <td>\\t\\t\\t\\tCEPA 1 200612328\\n\\n\\n\\nmy freid a&lt;x&gt;s...</td>\n",
       "      <td>my freid a&lt;x&gt;s&lt;/x&gt; the s footboul,</td>\n",
       "      <td>my freid a the s footboul,</td>\n",
       "      <td>[my, freid, a, the, s, footboul, ,]</td>\n",
       "      <td>7</td>\n",
       "      <td>1.0</td>\n",
       "    </tr>\n",
       "    <tr>\n",
       "      <th>1457</th>\n",
       "      <td>200603779</td>\n",
       "      <td>1</td>\n",
       "      <td>\\t\\t\\t\\tCEPA 1 200603779\\n\\n\\n\\nwhere you went...</td>\n",
       "      <td>where you went to Al Ain abd Oman Go people an...</td>\n",
       "      <td>where you went to Al Ain abd Oman Go people an...</td>\n",
       "      <td>[where, you, went, to, Al, Ain, abd, Oman, Go,...</td>\n",
       "      <td>14</td>\n",
       "      <td>1.0</td>\n",
       "    </tr>\n",
       "    <tr>\n",
       "      <th>1633</th>\n",
       "      <td>200608835</td>\n",
       "      <td>1</td>\n",
       "      <td>\\t\\t\\t\\tCEPA 1 200608835\\n\\n\\n\\nI go in the sa...</td>\n",
       "      <td>I go in the safa park</td>\n",
       "      <td>I go in the safa park</td>\n",
       "      <td>[I, go, in, the, safa, park]</td>\n",
       "      <td>6</td>\n",
       "      <td>1.0</td>\n",
       "    </tr>\n",
       "    <tr>\n",
       "      <th>1651</th>\n",
       "      <td>200606988</td>\n",
       "      <td>4</td>\n",
       "      <td>\\t\\t\\t\\tCEPA 4 200606988\\n\\n\\nHandwriting not ...</td>\n",
       "      <td>Handwriting not clear, legible</td>\n",
       "      <td>Handwriting not clear, legible</td>\n",
       "      <td>[Handwriting, not, clear, ,, legible]</td>\n",
       "      <td>5</td>\n",
       "      <td>1.0</td>\n",
       "    </tr>\n",
       "  </tbody>\n",
       "</table>\n",
       "</div>"
      ],
      "text/plain": [
       "       Filename Level                                      Original_Text  \\\n",
       "227   200608341     1      \\t\\t\\t\\tCEPA 1 200608341\\n\\n\\n\\nI don’t now\\n   \n",
       "538   200606487     1  \\t\\t\\t\\tCEPA 1 200606487\\n\\n\\n\\nThe mask\\nThes...   \n",
       "620   200611449     1  \\t\\t\\t\\tCEPA 1 200611449\\n\\n\\n\\nOman it agood ...   \n",
       "684   200611925     2  \\t\\t\\t\\tCEPA 2 200611925\\n\\n\\n\\nIm KHALED ABDU...   \n",
       "736   200611666     1  \\t\\t\\t\\tCEPA 1 200611666\\n\\n\\n\\nSo good weathe...   \n",
       "794   200604490     1  \\t\\t\\t\\tCEPA 1 200604490\\n\\n\\n\\nyo to <o>AL</o...   \n",
       "922   200606507     1  \\t\\t\\t\\tCEPA 1 200606507\\n\\n\\n\\nThe Al Ain in ...   \n",
       "1115  200608510     1  \\t\\t\\t\\tCEPA 1 200608510\\n\\n\\n\\nI you a Oman ....   \n",
       "1187  200612172     1  \\t\\t\\t\\tCEPA 1 200612172\\n\\n\\n\\nOne fire day w...   \n",
       "1337  200603781     1  \\t\\t\\t\\tCEPA 1 200603781\\n\\n\\n\\nI go to the Du...   \n",
       "1426  200612328     1  \\t\\t\\t\\tCEPA 1 200612328\\n\\n\\n\\nmy freid a<x>s...   \n",
       "1457  200603779     1  \\t\\t\\t\\tCEPA 1 200603779\\n\\n\\n\\nwhere you went...   \n",
       "1633  200608835     1  \\t\\t\\t\\tCEPA 1 200608835\\n\\n\\n\\nI go in the sa...   \n",
       "1651  200606988     4  \\t\\t\\t\\tCEPA 4 200606988\\n\\n\\nHandwriting not ...   \n",
       "\n",
       "                                       Normalized_Essay  \\\n",
       "227                                         I don't now   \n",
       "538                       The mask These film is Dangrs   \n",
       "620                               Oman it agood cantry.   \n",
       "684    Im KHALED ABDULLA AL SHAMISI from the UAE. ALAin   \n",
       "736                       So good weather in the summer   \n",
       "794                    yo to _AL_Ain an sammr not Haeep   \n",
       "922                  The Al Ain in no To fot xxx EYecPh   \n",
       "1115               I you a Oman .I are went there faiml   \n",
       "1187  One fire day waent to the _cea_nima with ferin...   \n",
       "1337                                  I go to the Dubai   \n",
       "1426                 my freid a<x>s</x> the s footboul,   \n",
       "1457  where you went to Al Ain abd Oman Go people an...   \n",
       "1633                              I go in the safa park   \n",
       "1651                     Handwriting not clear, legible   \n",
       "\n",
       "                                          Revised_Essay  \\\n",
       "227                                         I don't now   \n",
       "538                       The mask These film is Dangrs   \n",
       "620                               Oman it agood cantry.   \n",
       "684    Im KHALED ABDULLA AL SHAMISI from the UAE. ALAin   \n",
       "736                       So good weather in the summer   \n",
       "794                      yo to ALAin an sammr not Haeep   \n",
       "922                  The Al Ain in no To fot xxx EYecPh   \n",
       "1115               I you a Oman .I are went there faiml   \n",
       "1187  One fire day waent to the ceanima with ferinds...   \n",
       "1337                                  I go to the Dubai   \n",
       "1426                         my freid a the s footboul,   \n",
       "1457  where you went to Al Ain abd Oman Go people an...   \n",
       "1633                              I go in the safa park   \n",
       "1651                     Handwriting not clear, legible   \n",
       "\n",
       "                                                 tokens  token_count  TTR  \n",
       "227                                   [I, do, n't, now]            4  1.0  \n",
       "538                [The, mask, These, film, is, Dangrs]            6  1.0  \n",
       "620                        [Oman, it, agood, cantry, .]            5  1.0  \n",
       "684   [Im, KHALED, ABDULLA, AL, SHAMISI, from, the, ...           10  1.0  \n",
       "736                [So, good, weather, in, the, summer]            6  1.0  \n",
       "794              [yo, to, ALAin, an, sammr, not, Haeep]            7  1.0  \n",
       "922        [The, Al, Ain, in, no, To, fot, xxx, EYecPh]            9  1.0  \n",
       "1115     [I, you, a, Oman, .I, are, went, there, faiml]            9  1.0  \n",
       "1187  [One, fire, day, waent, to, the, ceanima, with...           13  1.0  \n",
       "1337                            [I, go, to, the, Dubai]            5  1.0  \n",
       "1426                [my, freid, a, the, s, footboul, ,]            7  1.0  \n",
       "1457  [where, you, went, to, Al, Ain, abd, Oman, Go,...           14  1.0  \n",
       "1633                       [I, go, in, the, safa, park]            6  1.0  \n",
       "1651              [Handwriting, not, clear, ,, legible]            5  1.0  "
      ]
     },
     "execution_count": 38,
     "metadata": {},
     "output_type": "execute_result"
    }
   ],
   "source": [
    "# Finally, let's see how many TTRs of 1.0 there are \n",
    "cepa_df[cepa_df.TTR == 1]"
   ]
  },
  {
   "cell_type": "markdown",
   "metadata": {},
   "source": [
    "A few of these should probably be thrown out -- \"I don't (k)now\", \"Handwriting not clear, legible\". Or maybe the cutoff for token_count in analysis should be greater than 4 -- it would get rid of the empty file above, as well."
   ]
  },
  {
   "cell_type": "markdown",
   "metadata": {},
   "source": [
    "### Basic visualization\n",
    "Now I want to look at some graphs quickly before wrapping up."
   ]
  },
  {
   "cell_type": "code",
   "execution_count": 39,
   "metadata": {},
   "outputs": [],
   "source": [
    "# import seaborn\n",
    "import seaborn as sns"
   ]
  },
  {
   "cell_type": "code",
   "execution_count": 40,
   "metadata": {},
   "outputs": [
    {
     "data": {
      "text/plain": [
       "<seaborn.axisgrid.FacetGrid object at 0x1a19d630f0>"
      ]
     },
     "execution_count": 40,
     "metadata": {},
     "output_type": "execute_result"
    },
    {
     "data": {
      "image/png": "[encoded data removed]",
      "text/plain": [
       "<Figure size 360x360 with 1 Axes>"
      ]
     },
     "metadata": {
      "needs_background": "light"
     },
     "output_type": "display_data"
    }
   ],
   "source": [
    "# Let's look at general length by level\n",
    "sns.catplot(x='Level', y='token_count', kind='box', data=cepa_df)"
   ]
  },
  {
   "cell_type": "code",
   "execution_count": 41,
   "metadata": {},
   "outputs": [
    {
     "data": {
      "text/plain": [
       "<seaborn.axisgrid.FacetGrid object at 0x1a1ab10240>"
      ]
     },
     "execution_count": 41,
     "metadata": {},
     "output_type": "execute_result"
    },
    {
     "data": {
      "image/png": "[encoded data removed]",
      "text/plain": [
       "<Figure size 360x360 with 1 Axes>"
      ]
     },
     "metadata": {
      "needs_background": "light"
     },
     "output_type": "display_data"
    }
   ],
   "source": [
    "sns.catplot(x='Level', y='TTR', kind='box', data=cepa_df)"
   ]
  },
  {
   "cell_type": "markdown",
   "metadata": {},
   "source": [
    "This really isn't too surprising! The higher the (perceived) level is, the more students seem to write. Conversely, becuase they're writing more, there's more of a likelihood that they'll repeat their words, especially when compared to much lower levels (1, 2). Of course, TTR tells us more when it's normalized/controlled for length, so maybe we can return to this later."
   ]
  }
 ],
 "metadata": {
  "kernelspec": {
   "display_name": "Python 3",
   "language": "python",
   "name": "python3"
  },
  "language_info": {
   "codemirror_mode": {
    "name": "ipython",
    "version": 3
   },
   "file_extension": ".py",
   "mimetype": "text/x-python",
   "name": "python",
   "nbconvert_exporter": "python",
   "pygments_lexer": "ipython3",
   "version": "3.7.2"
  }
 },
 "nbformat": 4,
 "nbformat_minor": 2
}
