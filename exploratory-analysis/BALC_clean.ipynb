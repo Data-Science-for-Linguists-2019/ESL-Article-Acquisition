{
 "cells": [
  {
   "cell_type": "markdown",
   "metadata": {},
   "source": [
    "# BALC cleaning \n",
    "Elena Cimino\n",
    "e.cimino@pitt.edu\n",
    "\n",
    "## Goal\n",
    "The goal for this notebook is to clean up and process BALC. Some of the tagging is inconsistent, so I would like to normalize it. Then, I'll remove it, since I don't actually need any information about orthographic knowledge. Aditionally, I'll be running some measures that will give me an idea about some descriptive statistics for the corpus texts and a bit more about the lexical diversity of each document. \n",
    "\n",
    "### Table of Contents:\n",
    "1. [Setup](#setup): setting up the notebook, reading in files, loading libraries\n",
    "2. [cepa_df](#cepadf): initializing the main dataframe: `cepa_df`, comprised of the CEPA texts in BALC\n",
    "3. [Cleaning cepa_df](#clean): cleaning up `cepa_df` and the documents in it, normalizing\n",
    "4. [Expanding cepa_df](#expand): 'revise' essays, supply basic information about texts\n",
    "5. [Descriptives](#describe): a little bit about text length, TTR, Guiarud's R, etc.\n",
    "6. [Visualization](#see): some plotting, graphs\n",
    "7. [Conclusion](#conclusion): wrapping up what was found out in this notebook\n",
    "\n",
    "### Summary of code\n",
    "- Created a corpus dictionary with the file name, original text, and perceived level of proficiency\n",
    "- Initial set up of cepa_df based off the corpus dictionary, which included\n",
    "    - Filenames\n",
    "    - Original Text\n",
    "- Cleaning up the text for cepa_df by making:\n",
    "    - A \"Normalized\" Text with standardized tagging (if applicable)\n",
    "    - A \"Revised\" Essay, which removes student correction tags and removes crossed out text\n",
    "- Building up cepa_df with: \n",
    "    - Tokenized essays (built off of the revised essay)\n",
    "    - Token counts\n",
    "    - TTR count\n",
    "    - Guirard measure of lexical complexity (2019.04.07)\n",
    "- Making sure everything read in correctly\n",
    "- Visualizing a bit of data about the various levels (token_count, TTR)"
   ]
  },
  {
   "cell_type": "markdown",
   "metadata": {},
   "source": [
    "<a id='setup'></a>\n",
    "## Initial set-up\n",
    "Reading in libraries, files, etc."
   ]
  },
  {
   "cell_type": "code",
   "execution_count": 1,
   "metadata": {},
   "outputs": [],
   "source": [
    "import pandas as pd\n",
    "import numpy as np\n",
    "import pickle\n",
    "import nltk\n",
    "import glob\n",
    "import re\n",
    "\n",
    "import math\n",
    "\n",
    "import seaborn as sns\n",
    "import matplotlib.pyplot as plt\n",
    "from scipy import stats"
   ]
  },
  {
   "cell_type": "code",
   "execution_count": 2,
   "metadata": {},
   "outputs": [
    {
     "name": "stdout",
     "output_type": "stream",
     "text": [
      "Pretty printing has been turned OFF\n"
     ]
    }
   ],
   "source": [
    "from IPython.core.interactiveshell import InteractiveShell\n",
    "InteractiveShell.ast_node_interactivity = \"all\"\n",
    "\n",
    "%pprint            # to turn off pretty printing"
   ]
  },
  {
   "cell_type": "code",
   "execution_count": 3,
   "metadata": {
    "scrolled": true
   },
   "outputs": [
    {
     "data": {
      "text/plain": [
       "['../private/BUiD Arab Learner Corpus v.1/total/CEPA 3 200607296.txt', '../private/BUiD Arab Learner Corpus v.1/total/CEPA 4 200607457.txt', '../private/BUiD Arab Learner Corpus v.1/total/CEPA 5 200600487.txt', '../private/BUiD Arab Learner Corpus v.1/total/CEPA 4 200608016.txt', '../private/BUiD Arab Learner Corpus v.1/total/CEPA 1 200611825.txt']"
      ]
     },
     "execution_count": 3,
     "metadata": {},
     "output_type": "execute_result"
    }
   ],
   "source": [
    "cor_dir = \"../private/BUiD Arab Learner Corpus v.1/total/\"\n",
    "corpus = glob.glob(cor_dir+'*.txt')\n",
    "corpus[:5]"
   ]
  },
  {
   "cell_type": "markdown",
   "metadata": {},
   "source": [
    "There are some duplicates in the total folder, which I'm using for the corpus root. The majority of these are cross-listed in two different proficiency levels (a few are in the same folder, but have two different file names with different spacing). \n",
    "\n",
    "I was able to locate the correctly labeled files (`clean_files`) in the CEPA Images folder, where all the original handwritten essays are located. Therefore, during my exploration of the corpus, I picked the duplicated (`bad_files`) as well as the clean files. I'll be using these two variables to point my code in the correct direction when it comes to these specific files, so that we don't have essays incorrectly labeled or duplicated files."
   ]
  },
  {
   "cell_type": "code",
   "execution_count": 4,
   "metadata": {
    "scrolled": false
   },
   "outputs": [
    {
     "data": {
      "text/plain": [
       "['200607856', '200607880', '200607857', '200607777', '200607875', '200607861', '200607902', '200607910', '200612324', '200611115', '200621158', '200619773']"
      ]
     },
     "execution_count": 4,
     "metadata": {},
     "output_type": "execute_result"
    },
    {
     "data": {
      "text/plain": [
       "['../private/BUiD Arab Learner Corpus v.1/CEPA Images/2/200607777.jpg', '../private/BUiD Arab Learner Corpus v.1/CEPA Images/2/200607856.jpg', '../private/BUiD Arab Learner Corpus v.1/CEPA Images/2/200607880.jpg', '../private/BUiD Arab Learner Corpus v.1/CEPA Images/2/200607857.jpg', '../private/BUiD Arab Learner Corpus v.1/CEPA Images/2/200612324.jpg', '../private/BUiD Arab Learner Corpus v.1/CEPA Images/2/200607902.jpg', '../private/BUiD Arab Learner Corpus v.1/CEPA Images/2/200607861.jpg', '../private/BUiD Arab Learner Corpus v.1/CEPA Images/2/200607875.jpg', '../private/BUiD Arab Learner Corpus v.1/CEPA Images/2/200607910.jpg', '../private/BUiD Arab Learner Corpus v.1/CEPA Images/3/200611115.jpg', '../private/BUiD Arab Learner Corpus v.1/CEPA Images/6/200621158.jpg', '../private/BUiD Arab Learner Corpus v.1/CEPA Images/6/200619773.jpg']"
      ]
     },
     "execution_count": 4,
     "metadata": {},
     "output_type": "execute_result"
    }
   ],
   "source": [
    "# Opening the pickle files that have the problem files... \n",
    "f_in = open(\"duplicated_files.pickle\",\"rb\")\n",
    "bad_files = pickle.load(f_in)\n",
    "f_in.close()\n",
    "\n",
    "# ... and the clean files\n",
    "f_in = open(\"clean_files.pickle\",\"rb\")\n",
    "clean_files = pickle.load(f_in)\n",
    "f_in.close()\n",
    "\n",
    "# checking the variables and making sure this looks right\n",
    "bad_files\n",
    "clean_files"
   ]
  },
  {
   "cell_type": "markdown",
   "metadata": {},
   "source": [
    "Yes, those are looking good! `bad_files` is a list of the duplicated files, and `clean_files` is the list of the correct location. The `clean_files` gives us which location in total we should head to to get the file (e.g. level 2, if a file is cross-listed in levels 1 and 2).\n",
    "\n",
    "Let's make sure the code will spit out the correct file."
   ]
  },
  {
   "cell_type": "code",
   "execution_count": 5,
   "metadata": {
    "scrolled": true
   },
   "outputs": [
    {
     "name": "stdout",
     "output_type": "stream",
     "text": [
      "use: ../private/BUiD Arab Learner Corpus v.1/CEPA Images/2/200607777.jpg\n",
      "use: ../private/BUiD Arab Learner Corpus v.1/CEPA Images/2/200607856.jpg\n",
      "use: ../private/BUiD Arab Learner Corpus v.1/CEPA Images/2/200607880.jpg\n",
      "use: ../private/BUiD Arab Learner Corpus v.1/CEPA Images/2/200607857.jpg\n",
      "use: ../private/BUiD Arab Learner Corpus v.1/CEPA Images/2/200612324.jpg\n",
      "use: ../private/BUiD Arab Learner Corpus v.1/CEPA Images/2/200607902.jpg\n",
      "use: ../private/BUiD Arab Learner Corpus v.1/CEPA Images/2/200607861.jpg\n",
      "use: ../private/BUiD Arab Learner Corpus v.1/CEPA Images/2/200607875.jpg\n",
      "use: ../private/BUiD Arab Learner Corpus v.1/CEPA Images/2/200607910.jpg\n",
      "use: ../private/BUiD Arab Learner Corpus v.1/CEPA Images/3/200611115.jpg\n",
      "use: ../private/BUiD Arab Learner Corpus v.1/CEPA Images/6/200621158.jpg\n",
      "use: ../private/BUiD Arab Learner Corpus v.1/CEPA Images/6/200619773.jpg\n"
     ]
    }
   ],
   "source": [
    "for item in clean_files:\n",
    "    if any(search in item for search in bad_files):\n",
    "        print(\"use:\", item)"
   ]
  },
  {
   "cell_type": "code",
   "execution_count": 6,
   "metadata": {},
   "outputs": [
    {
     "data": {
      "text/plain": [
       "1652"
      ]
     },
     "execution_count": 6,
     "metadata": {},
     "output_type": "execute_result"
    }
   ],
   "source": [
    "# setting up a cepa dict\n",
    "corpus = glob.glob(cor_dir+'*.txt')\n",
    "corpus_dict = {}\n",
    "for file in corpus:\n",
    "    start = file.rindex('/')+1\n",
    "    name = file[start:-4]\n",
    "    x = re.findall(r'^((C|c).*?\\d{3,}( -)?)', name)   \n",
    "    if len(x) > 0:\n",
    "            x = x[0][0].split()\n",
    "            if x[-1] not in bad_files:  # duplicated files - ignoring them for now, will put in a separate dict and concatenate\n",
    "                f = open(file, encoding='utf-8-sig')   # fixes \\ufeff code at beginning of strings\n",
    "                txt = f.read()\n",
    "                f.close()\n",
    "                corpus_dict[x[-1]] = {\"Level\": x[1], \"Text\": txt}\n",
    "len(corpus_dict.keys())"
   ]
  },
  {
   "cell_type": "code",
   "execution_count": 7,
   "metadata": {},
   "outputs": [
    {
     "name": "stdout",
     "output_type": "stream",
     "text": [
      "['2', '200607777'] ../private/BUiD Arab Learner Corpus v.1/total/CEPA 2 200607777.txt\n",
      "['2', '200607856'] ../private/BUiD Arab Learner Corpus v.1/total/CEPA 2 200607856.txt\n",
      "['2', '200607880'] ../private/BUiD Arab Learner Corpus v.1/total/CEPA 2 200607880.txt\n",
      "['2', '200607857'] ../private/BUiD Arab Learner Corpus v.1/total/CEPA 2 200607857.txt\n",
      "['2', '200612324'] ../private/BUiD Arab Learner Corpus v.1/total/CEPA 2 200612324.txt\n",
      "['2', '200607902'] ../private/BUiD Arab Learner Corpus v.1/total/CEPA 2 200607902.txt\n",
      "['2', '200607861'] ../private/BUiD Arab Learner Corpus v.1/total/CEPA 2 200607861.txt\n",
      "['2', '200607875'] ../private/BUiD Arab Learner Corpus v.1/total/CEPA 2 200607875.txt\n",
      "['2', '200607910'] ../private/BUiD Arab Learner Corpus v.1/total/CEPA 2 200607910.txt\n",
      "['3', '200611115'] ../private/BUiD Arab Learner Corpus v.1/total/CEPA 3 200611115.txt\n",
      "['6', '200621158'] ../private/BUiD Arab Learner Corpus v.1/total/CEPA 6 200621158.txt\n",
      "['6', '200619773'] ../private/BUiD Arab Learner Corpus v.1/total/CEPA 6 200619773.txt\n"
     ]
    },
    {
     "data": {
      "text/plain": [
       "12"
      ]
     },
     "execution_count": 7,
     "metadata": {},
     "output_type": "execute_result"
    },
    {
     "data": {
      "text/plain": [
       "'\\t\\t\\t\\tCEPA 2 200607777\\n\\n\\n\\nThe perfet holiday in UAE. You went suren cantres to one holiday. went with you me sister and mather. I’m see in Abu Dhabie “shate alraha” is a very nice sea and I went “Al maryna moll”. alfter is going to AlAin. it very nice, I went “  Mouten of hafied” and “mobazar AlKadra”. In Dubai went to the “meina salam” and “almaha” is a nice hotiel in Dubai. In RAK is go in masafi and see the water of masafi. wheth alfugaira isvery nise cantry because is have more of mouten”\\nThe ajnan amalguin is avery smoler than save cantres. it was so wonderful because I’m going xxx with father and sister. went to sven emarit. I’m very happey to see emarat in  one holiday.\\n'"
      ]
     },
     "execution_count": 7,
     "metadata": {},
     "output_type": "execute_result"
    }
   ],
   "source": [
    "# This is for the bad files. There should be twelve of them!\n",
    "mini = {}\n",
    "for item in clean_files:\n",
    "    if any(search in item for search in bad_files):\n",
    "        x = re.findall(r'\\d/\\d+', item)   # gets the level (/\\d/) and the file (\\d+) information\n",
    "        x = x[0]\n",
    "        x = x.split('/')\n",
    "        fn = cor_dir+\"CEPA \"+str(x[0])+\" \"+str(x[1])+\".txt\"\n",
    "        print(x, fn)\n",
    "        f = open(fn, encoding='utf-8-sig')\n",
    "        txt = f.read()\n",
    "        f.close()\n",
    "        mini[x[1]] = {\"Level\": x[0], \"Text\": txt}\n",
    "len(mini.keys())\n",
    "mini['200607777'][\"Text\"]"
   ]
  },
  {
   "cell_type": "code",
   "execution_count": 8,
   "metadata": {},
   "outputs": [
    {
     "data": {
      "text/plain": [
       "1664"
      ]
     },
     "execution_count": 8,
     "metadata": {},
     "output_type": "execute_result"
    }
   ],
   "source": [
    "# Concatenating corpus_dict and mini, making sure they have the right amount of keys\n",
    "z = {**corpus_dict, **mini}\n",
    "len(z.keys())"
   ]
  },
  {
   "cell_type": "markdown",
   "metadata": {},
   "source": [
    "<a id='cepadf'></a>\n",
    "## Setting up cepa_df"
   ]
  },
  {
   "cell_type": "code",
   "execution_count": 9,
   "metadata": {},
   "outputs": [
    {
     "data": {
      "text/plain": [
       "(1664, 1)"
      ]
     },
     "execution_count": 9,
     "metadata": {},
     "output_type": "execute_result"
    },
    {
     "data": {
      "text/html": [
       "<div>\n",
       "<style scoped>\n",
       "    .dataframe tbody tr th:only-of-type {\n",
       "        vertical-align: middle;\n",
       "    }\n",
       "\n",
       "    .dataframe tbody tr th {\n",
       "        vertical-align: top;\n",
       "    }\n",
       "\n",
       "    .dataframe thead th {\n",
       "        text-align: right;\n",
       "    }\n",
       "</style>\n",
       "<table border=\"1\" class=\"dataframe\">\n",
       "  <thead>\n",
       "    <tr style=\"text-align: right;\">\n",
       "      <th></th>\n",
       "      <th>Filename</th>\n",
       "    </tr>\n",
       "  </thead>\n",
       "  <tbody>\n",
       "    <tr>\n",
       "      <th>0</th>\n",
       "      <td>200607296</td>\n",
       "    </tr>\n",
       "    <tr>\n",
       "      <th>1</th>\n",
       "      <td>200607457</td>\n",
       "    </tr>\n",
       "    <tr>\n",
       "      <th>2</th>\n",
       "      <td>200600487</td>\n",
       "    </tr>\n",
       "    <tr>\n",
       "      <th>3</th>\n",
       "      <td>200608016</td>\n",
       "    </tr>\n",
       "    <tr>\n",
       "      <th>4</th>\n",
       "      <td>200611825</td>\n",
       "    </tr>\n",
       "  </tbody>\n",
       "</table>\n",
       "</div>"
      ],
      "text/plain": [
       "    Filename\n",
       "0  200607296\n",
       "1  200607457\n",
       "2  200600487\n",
       "3  200608016\n",
       "4  200611825"
      ]
     },
     "execution_count": 9,
     "metadata": {},
     "output_type": "execute_result"
    }
   ],
   "source": [
    "cepa_df = pd.DataFrame(list(z.keys()), columns={\"Filename\"})\n",
    "cepa_df.shape\n",
    "cepa_df.head()"
   ]
  },
  {
   "cell_type": "code",
   "execution_count": 10,
   "metadata": {},
   "outputs": [],
   "source": [
    "# UDFs to get the level and the original text\n",
    "def get_level(file):\n",
    "    return z[file][\"Level\"]\n",
    "\n",
    "def get_text(file):\n",
    "    return z[file][\"Text\"]"
   ]
  },
  {
   "cell_type": "code",
   "execution_count": 11,
   "metadata": {},
   "outputs": [
    {
     "data": {
      "text/html": [
       "<div>\n",
       "<style scoped>\n",
       "    .dataframe tbody tr th:only-of-type {\n",
       "        vertical-align: middle;\n",
       "    }\n",
       "\n",
       "    .dataframe tbody tr th {\n",
       "        vertical-align: top;\n",
       "    }\n",
       "\n",
       "    .dataframe thead th {\n",
       "        text-align: right;\n",
       "    }\n",
       "</style>\n",
       "<table border=\"1\" class=\"dataframe\">\n",
       "  <thead>\n",
       "    <tr style=\"text-align: right;\">\n",
       "      <th></th>\n",
       "      <th>Filename</th>\n",
       "      <th>Level</th>\n",
       "      <th>Original_Text</th>\n",
       "    </tr>\n",
       "  </thead>\n",
       "  <tbody>\n",
       "    <tr>\n",
       "      <th>0</th>\n",
       "      <td>200607296</td>\n",
       "      <td>3</td>\n",
       "      <td>\\t\\t\\t\\tCEPA 3 200607296\\n\\n\\n\\nNow I tell you...</td>\n",
       "    </tr>\n",
       "    <tr>\n",
       "      <th>1</th>\n",
       "      <td>200607457</td>\n",
       "      <td>4</td>\n",
       "      <td>\\t\\t\\t\\tCEPA 4 200607457\\n\\n\\n\\n              ...</td>\n",
       "    </tr>\n",
       "    <tr>\n",
       "      <th>2</th>\n",
       "      <td>200600487</td>\n",
       "      <td>5</td>\n",
       "      <td>\\t\\t\\t\\tCEPA 5 200600487\\n\\n\\n\\n\\nEvery body i...</td>\n",
       "    </tr>\n",
       "    <tr>\n",
       "      <th>3</th>\n",
       "      <td>200608016</td>\n",
       "      <td>4</td>\n",
       "      <td>\\t\\t\\t\\tCEPA 4 200608016\\n\\n\\n\\nEvery body hav...</td>\n",
       "    </tr>\n",
       "    <tr>\n",
       "      <th>4</th>\n",
       "      <td>200611825</td>\n",
       "      <td>1</td>\n",
       "      <td>\\t\\t\\t\\tCEPA 1 200611825\\n\\n\\n\\nyou go in the ...</td>\n",
       "    </tr>\n",
       "  </tbody>\n",
       "</table>\n",
       "</div>"
      ],
      "text/plain": [
       "    Filename Level                                      Original_Text\n",
       "0  200607296     3  \\t\\t\\t\\tCEPA 3 200607296\\n\\n\\n\\nNow I tell you...\n",
       "1  200607457     4  \\t\\t\\t\\tCEPA 4 200607457\\n\\n\\n\\n              ...\n",
       "2  200600487     5  \\t\\t\\t\\tCEPA 5 200600487\\n\\n\\n\\n\\nEvery body i...\n",
       "3  200608016     4  \\t\\t\\t\\tCEPA 4 200608016\\n\\n\\n\\nEvery body hav...\n",
       "4  200611825     1  \\t\\t\\t\\tCEPA 1 200611825\\n\\n\\n\\nyou go in the ..."
      ]
     },
     "execution_count": 11,
     "metadata": {},
     "output_type": "execute_result"
    }
   ],
   "source": [
    "cepa_df[\"Level\"] = cepa_df.Filename.apply(get_level)\n",
    "cepa_df[\"Original_Text\"] = cepa_df.Filename.apply(get_text)\n",
    "cepa_df.head()"
   ]
  },
  {
   "cell_type": "markdown",
   "metadata": {},
   "source": [
    "<a id='clean'></a>\n",
    "## Cleaning data\n",
    "It's time to get clean up these files! We can see from the DataFrame and dict entries above that these files all have a lot of white space, as well as a header with the file name. We don't need that! \n",
    "\n",
    "In this section, I:\n",
    "- Remove excessive whitespace and things like curly quotes (`clean_text`)\n",
    "- Standardize tagging (`re-tag`)\n",
    "    - `<o>...</o>` -> `_`\n",
    "    - `<i>...</i>` -> `^`\n",
    "    - `<x>...</x>` -> `~~`\n",
    "- Remove headers (`un_head`)"
   ]
  },
  {
   "cell_type": "code",
   "execution_count": 12,
   "metadata": {},
   "outputs": [],
   "source": [
    "def clean_text(txt):\n",
    "    \"\"\"Removes excessive whitespace, backticks, and curly quotes from a text.\"\"\"\n",
    "    txt = re.sub(r'[\\n\\t ]+', ' ', txt)\n",
    "    txt = re.sub(r'^`', '', txt)\n",
    "    txt = txt.replace('“','\"').replace('”','\"').replace(\"’\", \"'\")\n",
    "    txt = txt.strip()\n",
    "    return txt\n",
    "\n",
    "def retag(essay):\n",
    "    \"\"\"Replaces tags for student emphasis (<o>, </o>)with '_' and removes any unecessary spaces between emphasized \n",
    "    letters in words. Replaces tags for student insertions (<i>, </i>) with '^' and removes any unecessary spaces \n",
    "    between letters in inserted words. Replaces cross-out tags (<x>, </x>) with '~~' Removes any left over brackets.\"\"\"\n",
    "    essay = re.sub(r'\\<i +', '<i>', essay)\n",
    "    essay = re.sub(r'<x +', '<x>', essay)\n",
    "    essay = re.sub(r'<o +', '<o>', essay)\n",
    "    essay = re.sub(r'<\\/o[^>]', '</o>', essay)\n",
    "    essay = re.sub(r'<o>(\\s)?', '_', essay)\n",
    "    essay = re.sub(r'(\\s)?<\\/o>', '_', essay)\n",
    "    essay = re.sub(r'<i>(\\s)?', '^', essay)\n",
    "    essay = re.sub(r'(\\s)?<\\/i>', '^', essay)\n",
    "    essay = re.sub(r'</?x>', '~~', essay)\n",
    "    essay = re.sub(r'>', ' ', essay)\n",
    "    essay = re.sub(r'<', ' ', essay)\n",
    "    return essay\n",
    "\n",
    "def un_head(txt):\n",
    "    \"\"\"Removes headers from text that include the file name, as well as student's names, grades, schools, etc.\"\"\"\n",
    "    cepa = re.compile(r'^C(EPA|EPa|epa)')      \n",
    "    if cepa.search(txt):\n",
    "        txt = re.sub(r'CEPA.*?\\d{2,}( ?-)?', '', txt, flags=re.I) \n",
    "    return txt\n",
    "\n",
    "def normalize_essay(txt):\n",
    "    txt = clean_text(txt)\n",
    "    txt = retag(txt)\n",
    "    txt = un_head(txt)\n",
    "    txt = txt.strip()\n",
    "    return txt"
   ]
  },
  {
   "cell_type": "markdown",
   "metadata": {},
   "source": [
    "Now let's check the UDFs out to make sure they work!"
   ]
  },
  {
   "cell_type": "code",
   "execution_count": 13,
   "metadata": {},
   "outputs": [
    {
     "data": {
      "text/plain": [
       "\"\\t\\t\\t\\tCEPA 2 200606375\\n\\n\\n\\nthe most beau<o>u</otiful pla<x>c</x>e you know in <o>A</o>l Hilly . I like go to the allh<x>i</x>lly because I'm play geam and look in the most beautiful . I play foot ball , tens basketball and play geam to t<x>h</x>e car . I'm look to the sea. I'm go to the AllHilly on frend .your go in the play <o>and aet</o>. I should you go in the All Hilly sawfa li<x>k</x>e and love . because in the be<x>a</x>utiful place. why I like it so much ? <x>beaucse</x> beautiful place and I'm go to AllHelly only Time. what you do eat ?? I'm eat to Hamborgar , Frish and Asier .Thnke you.\\n\""
      ]
     },
     "execution_count": 13,
     "metadata": {},
     "output_type": "execute_result"
    }
   ],
   "source": [
    "# Original file\n",
    "cepa_df.Original_Text[1524]"
   ]
  },
  {
   "cell_type": "code",
   "execution_count": 14,
   "metadata": {},
   "outputs": [
    {
     "data": {
      "text/plain": [
       "\"CEPA 2 200606375 the most beau<o>u</otiful pla<x>c</x>e you know in <o>A</o>l Hilly . I like go to the allh<x>i</x>lly because I'm play geam and look in the most beautiful . I play foot ball , tens basketball and play geam to t<x>h</x>e car . I'm look to the sea. I'm go to the AllHilly on frend .your go in the play <o>and aet</o>. I should you go in the All Hilly sawfa li<x>k</x>e and love . because in the be<x>a</x>utiful place. why I like it so much ? <x>beaucse</x> beautiful place and I'm go to AllHelly only Time. what you do eat ?? I'm eat to Hamborgar , Frish and Asier .Thnke you.\""
      ]
     },
     "execution_count": 14,
     "metadata": {},
     "output_type": "execute_result"
    }
   ],
   "source": [
    "# Cleaning it\n",
    "clean_text(cepa_df.Original_Text[1524])"
   ]
  },
  {
   "cell_type": "code",
   "execution_count": 15,
   "metadata": {
    "scrolled": true
   },
   "outputs": [
    {
     "data": {
      "text/plain": [
       "\" the most beau<o>u</otiful pla<x>c</x>e you know in <o>A</o>l Hilly . I like go to the allh<x>i</x>lly because I'm play geam and look in the most beautiful . I play foot ball , tens basketball and play geam to t<x>h</x>e car . I'm look to the sea. I'm go to the AllHilly on frend .your go in the play <o>and aet</o>. I should you go in the All Hilly sawfa li<x>k</x>e and love . because in the be<x>a</x>utiful place. why I like it so much ? <x>beaucse</x> beautiful place and I'm go to AllHelly only Time. what you do eat ?? I'm eat to Hamborgar , Frish and Asier .Thnke you.\""
      ]
     },
     "execution_count": 15,
     "metadata": {},
     "output_type": "execute_result"
    }
   ],
   "source": [
    "# Un-heading the cleaned file\n",
    "un_head(clean_text(cepa_df.Original_Text[1524]))"
   ]
  },
  {
   "cell_type": "code",
   "execution_count": 16,
   "metadata": {},
   "outputs": [
    {
     "data": {
      "text/plain": [
       "\" the most beau_u_iful pla~~c~~e you know in _A_l Hilly . I like go to the allh~~i~~lly because I'm play geam and look in the most beautiful . I play foot ball , tens basketball and play geam to t~~h~~e car . I'm look to the sea. I'm go to the AllHilly on frend .your go in the play _and aet_. I should you go in the All Hilly sawfa li~~k~~e and love . because in the be~~a~~utiful place. why I like it so much ? ~~beaucse~~ beautiful place and I'm go to AllHelly only Time. what you do eat ?? I'm eat to Hamborgar , Frish and Asier .Thnke you.\""
      ]
     },
     "execution_count": 16,
     "metadata": {},
     "output_type": "execute_result"
    }
   ],
   "source": [
    "#re-tag \n",
    "retag(un_head(clean_text(cepa_df.Original_Text[1524])))"
   ]
  },
  {
   "cell_type": "code",
   "execution_count": 17,
   "metadata": {
    "scrolled": false
   },
   "outputs": [
    {
     "data": {
      "text/plain": [
       "\"the most beau_u_iful pla~~c~~e you know in _A_l Hilly . I like go to the allh~~i~~lly because I'm play geam and look in the most beautiful . I play foot ball , tens basketball and play geam to t~~h~~e car . I'm look to the sea. I'm go to the AllHilly on frend .your go in the play _and aet_. I should you go in the All Hilly sawfa li~~k~~e and love . because in the be~~a~~utiful place. why I like it so much ? ~~beaucse~~ beautiful place and I'm go to AllHelly only Time. what you do eat ?? I'm eat to Hamborgar , Frish and Asier .Thnke you.\""
      ]
     },
     "execution_count": 17,
     "metadata": {},
     "output_type": "execute_result"
    }
   ],
   "source": [
    "# normalize combines all three UDFs\n",
    "normalize_essay(cepa_df.Original_Text[1524])"
   ]
  },
  {
   "cell_type": "code",
   "execution_count": 18,
   "metadata": {},
   "outputs": [
    {
     "data": {
      "text/html": [
       "<div>\n",
       "<style scoped>\n",
       "    .dataframe tbody tr th:only-of-type {\n",
       "        vertical-align: middle;\n",
       "    }\n",
       "\n",
       "    .dataframe tbody tr th {\n",
       "        vertical-align: top;\n",
       "    }\n",
       "\n",
       "    .dataframe thead th {\n",
       "        text-align: right;\n",
       "    }\n",
       "</style>\n",
       "<table border=\"1\" class=\"dataframe\">\n",
       "  <thead>\n",
       "    <tr style=\"text-align: right;\">\n",
       "      <th></th>\n",
       "      <th>Filename</th>\n",
       "      <th>Level</th>\n",
       "      <th>Original_Text</th>\n",
       "      <th>Normalized_Essay</th>\n",
       "    </tr>\n",
       "  </thead>\n",
       "  <tbody>\n",
       "    <tr>\n",
       "      <th>0</th>\n",
       "      <td>200607296</td>\n",
       "      <td>3</td>\n",
       "      <td>\\t\\t\\t\\tCEPA 3 200607296\\n\\n\\n\\nNow I tell you...</td>\n",
       "      <td>Now I tell you why my worst holiday ever in th...</td>\n",
       "    </tr>\n",
       "    <tr>\n",
       "      <th>1</th>\n",
       "      <td>200607457</td>\n",
       "      <td>4</td>\n",
       "      <td>\\t\\t\\t\\tCEPA 4 200607457\\n\\n\\n\\n              ...</td>\n",
       "      <td>My worst holiday Last year I have just had the...</td>\n",
       "    </tr>\n",
       "    <tr>\n",
       "      <th>2</th>\n",
       "      <td>200600487</td>\n",
       "      <td>5</td>\n",
       "      <td>\\t\\t\\t\\tCEPA 5 200600487\\n\\n\\n\\n\\nEvery body i...</td>\n",
       "      <td>Every body in this life have a favourite posse...</td>\n",
       "    </tr>\n",
       "    <tr>\n",
       "      <th>3</th>\n",
       "      <td>200608016</td>\n",
       "      <td>4</td>\n",
       "      <td>\\t\\t\\t\\tCEPA 4 200608016\\n\\n\\n\\nEvery body hav...</td>\n",
       "      <td>Every body have a lot ofpossessions in this li...</td>\n",
       "    </tr>\n",
       "    <tr>\n",
       "      <th>4</th>\n",
       "      <td>200611825</td>\n",
       "      <td>1</td>\n",
       "      <td>\\t\\t\\t\\tCEPA 1 200611825\\n\\n\\n\\nyou go in the ...</td>\n",
       "      <td>you go in the oman just had the perfect holida...</td>\n",
       "    </tr>\n",
       "  </tbody>\n",
       "</table>\n",
       "</div>"
      ],
      "text/plain": [
       "    Filename Level                                      Original_Text  \\\n",
       "0  200607296     3  \\t\\t\\t\\tCEPA 3 200607296\\n\\n\\n\\nNow I tell you...   \n",
       "1  200607457     4  \\t\\t\\t\\tCEPA 4 200607457\\n\\n\\n\\n              ...   \n",
       "2  200600487     5  \\t\\t\\t\\tCEPA 5 200600487\\n\\n\\n\\n\\nEvery body i...   \n",
       "3  200608016     4  \\t\\t\\t\\tCEPA 4 200608016\\n\\n\\n\\nEvery body hav...   \n",
       "4  200611825     1  \\t\\t\\t\\tCEPA 1 200611825\\n\\n\\n\\nyou go in the ...   \n",
       "\n",
       "                                    Normalized_Essay  \n",
       "0  Now I tell you why my worst holiday ever in th...  \n",
       "1  My worst holiday Last year I have just had the...  \n",
       "2  Every body in this life have a favourite posse...  \n",
       "3  Every body have a lot ofpossessions in this li...  \n",
       "4  you go in the oman just had the perfect holida...  "
      ]
     },
     "execution_count": 18,
     "metadata": {},
     "output_type": "execute_result"
    }
   ],
   "source": [
    "cepa_df['Normalized_Essay'] = cepa_df.Original_Text.apply(normalize_essay)\n",
    "cepa_df.head()"
   ]
  },
  {
   "cell_type": "markdown",
   "metadata": {},
   "source": [
    "<a id='expand'></a>\n",
    "## Expanding on cepa_df\n",
    "\n",
    "In this section, I will:\n",
    "- Remove all student correction tags (`remove_tags`, creates `Revised_Essay`)\n",
    "- Tokenize (based on revised_essay)\n",
    "- Get token counts (based on revised_essay)\n",
    "- Get TTR (based on revised_essay)"
   ]
  },
  {
   "cell_type": "code",
   "execution_count": 24,
   "metadata": {},
   "outputs": [],
   "source": [
    "def remove_tags(text):\n",
    "    \"\"\"Removes tags from Normalized_Essay. If there are tags indicating a student crossed something out, whatever is \n",
    "    enclosed in those tags is removed.\"\"\"\n",
    "    text = re.sub(r'~~.*?~~', '', text)         \n",
    "    text = text.replace('_', '').replace('^', '')   \n",
    "    return text"
   ]
  },
  {
   "cell_type": "code",
   "execution_count": 25,
   "metadata": {},
   "outputs": [
    {
     "data": {
      "text/html": [
       "<div>\n",
       "<style scoped>\n",
       "    .dataframe tbody tr th:only-of-type {\n",
       "        vertical-align: middle;\n",
       "    }\n",
       "\n",
       "    .dataframe tbody tr th {\n",
       "        vertical-align: top;\n",
       "    }\n",
       "\n",
       "    .dataframe thead th {\n",
       "        text-align: right;\n",
       "    }\n",
       "</style>\n",
       "<table border=\"1\" class=\"dataframe\">\n",
       "  <thead>\n",
       "    <tr style=\"text-align: right;\">\n",
       "      <th></th>\n",
       "      <th>Filename</th>\n",
       "      <th>Level</th>\n",
       "      <th>Original_Text</th>\n",
       "      <th>Normalized_Essay</th>\n",
       "      <th>Revised_Essay</th>\n",
       "      <th>tokens</th>\n",
       "      <th>token_count</th>\n",
       "    </tr>\n",
       "  </thead>\n",
       "  <tbody>\n",
       "    <tr>\n",
       "      <th>413</th>\n",
       "      <td>200606873</td>\n",
       "      <td>2</td>\n",
       "      <td>\\t\\t\\t\\tCEPA 2 200606873\\n\\n\\n\\nI have just ha...</td>\n",
       "      <td>I have just had the perfect weekend . I went t...</td>\n",
       "      <td>I have just had the perfect weekend . I went t...</td>\n",
       "      <td>[I, have, just, had, the, perfect, weekend, .,...</td>\n",
       "      <td>50</td>\n",
       "    </tr>\n",
       "    <tr>\n",
       "      <th>1636</th>\n",
       "      <td>200607451</td>\n",
       "      <td>6</td>\n",
       "      <td>\\t\\t\\t\\tCEPA 6 200607451\\n\\n\\n\\n\\n\\nDuring the...</td>\n",
       "      <td>During the spring holiday I went to Lebanon wi...</td>\n",
       "      <td>During the spring holiday I went to Lebanon wi...</td>\n",
       "      <td>[During, the, spring, holiday, I, went, to, Le...</td>\n",
       "      <td>253</td>\n",
       "    </tr>\n",
       "    <tr>\n",
       "      <th>118</th>\n",
       "      <td>200607295</td>\n",
       "      <td>3</td>\n",
       "      <td>\\t\\t\\t\\tCEPA 3 200607295\\n\\n\\n\\nIn the last ho...</td>\n",
       "      <td>In the last holiday I go to the london withe m...</td>\n",
       "      <td>In the last holiday I go to the london withe m...</td>\n",
       "      <td>[In, the, last, holiday, I, go, to, the, londo...</td>\n",
       "      <td>135</td>\n",
       "    </tr>\n",
       "    <tr>\n",
       "      <th>686</th>\n",
       "      <td>200607208</td>\n",
       "      <td>4</td>\n",
       "      <td>\\t\\t\\t\\tCEPA 4 200607208\\n\\n\\n\\n              ...</td>\n",
       "      <td>Topic A One day ^me &amp; my family^ decided to go...</td>\n",
       "      <td>Topic A One day me &amp; my family decided to go o...</td>\n",
       "      <td>[Topic, A, One, day, me, &amp;, my, family, decide...</td>\n",
       "      <td>146</td>\n",
       "    </tr>\n",
       "    <tr>\n",
       "      <th>656</th>\n",
       "      <td>200606496</td>\n",
       "      <td>1</td>\n",
       "      <td>\\t\\t\\t\\tCEPA 1 200606496\\n\\n\\n\\n Describe an a...</td>\n",
       "      <td>Describe an activity that you enjoy doing. and...</td>\n",
       "      <td>Describe an activity that you enjoy doing. and...</td>\n",
       "      <td>[Describe, an, activity, that, you, enjoy, doi...</td>\n",
       "      <td>17</td>\n",
       "    </tr>\n",
       "  </tbody>\n",
       "</table>\n",
       "</div>"
      ],
      "text/plain": [
       "       Filename Level                                      Original_Text  \\\n",
       "413   200606873     2  \\t\\t\\t\\tCEPA 2 200606873\\n\\n\\n\\nI have just ha...   \n",
       "1636  200607451     6  \\t\\t\\t\\tCEPA 6 200607451\\n\\n\\n\\n\\n\\nDuring the...   \n",
       "118   200607295     3  \\t\\t\\t\\tCEPA 3 200607295\\n\\n\\n\\nIn the last ho...   \n",
       "686   200607208     4  \\t\\t\\t\\tCEPA 4 200607208\\n\\n\\n\\n              ...   \n",
       "656   200606496     1  \\t\\t\\t\\tCEPA 1 200606496\\n\\n\\n\\n Describe an a...   \n",
       "\n",
       "                                       Normalized_Essay  \\\n",
       "413   I have just had the perfect weekend . I went t...   \n",
       "1636  During the spring holiday I went to Lebanon wi...   \n",
       "118   In the last holiday I go to the london withe m...   \n",
       "686   Topic A One day ^me & my family^ decided to go...   \n",
       "656   Describe an activity that you enjoy doing. and...   \n",
       "\n",
       "                                          Revised_Essay  \\\n",
       "413   I have just had the perfect weekend . I went t...   \n",
       "1636  During the spring holiday I went to Lebanon wi...   \n",
       "118   In the last holiday I go to the london withe m...   \n",
       "686   Topic A One day me & my family decided to go o...   \n",
       "656   Describe an activity that you enjoy doing. and...   \n",
       "\n",
       "                                                 tokens  token_count  \n",
       "413   [I, have, just, had, the, perfect, weekend, .,...           50  \n",
       "1636  [During, the, spring, holiday, I, went, to, Le...          253  \n",
       "118   [In, the, last, holiday, I, go, to, the, londo...          135  \n",
       "686   [Topic, A, One, day, me, &, my, family, decide...          146  \n",
       "656   [Describe, an, activity, that, you, enjoy, doi...           17  "
      ]
     },
     "execution_count": 25,
     "metadata": {},
     "output_type": "execute_result"
    }
   ],
   "source": [
    "cepa_df['Revised_Essay'] = cepa_df.Normalized_Essay.apply(remove_tags)\n",
    "cepa_df['tokens'] = cepa_df.Revised_Essay.apply(nltk.word_tokenize)\n",
    "cepa_df['token_count'] = cepa_df.tokens.map(len)\n",
    "cepa_df.sample(5)"
   ]
  },
  {
   "cell_type": "markdown",
   "metadata": {},
   "source": [
    "Great! Let's keep truckin' along!"
   ]
  },
  {
   "cell_type": "code",
   "execution_count": 26,
   "metadata": {},
   "outputs": [],
   "source": [
    "# Let's get TTR\n",
    "def get_TTR(toks):\n",
    "    \"\"\"All tokens are lowercased, punctuation is included.\n",
    "    Get TTR by dividing set of lowercased tokens by length of tokens.\"\"\"\n",
    "    all_toks = [x.lower() for x in toks]\n",
    "    if len(all_toks) == 0:  \n",
    "        return 0\n",
    "    else: return len(set(all_toks))/len(all_toks)"
   ]
  },
  {
   "cell_type": "code",
   "execution_count": 27,
   "metadata": {},
   "outputs": [
    {
     "data": {
      "text/html": [
       "<div>\n",
       "<style scoped>\n",
       "    .dataframe tbody tr th:only-of-type {\n",
       "        vertical-align: middle;\n",
       "    }\n",
       "\n",
       "    .dataframe tbody tr th {\n",
       "        vertical-align: top;\n",
       "    }\n",
       "\n",
       "    .dataframe thead th {\n",
       "        text-align: right;\n",
       "    }\n",
       "</style>\n",
       "<table border=\"1\" class=\"dataframe\">\n",
       "  <thead>\n",
       "    <tr style=\"text-align: right;\">\n",
       "      <th></th>\n",
       "      <th>Filename</th>\n",
       "      <th>Level</th>\n",
       "      <th>Original_Text</th>\n",
       "      <th>Normalized_Essay</th>\n",
       "      <th>Revised_Essay</th>\n",
       "      <th>tokens</th>\n",
       "      <th>token_count</th>\n",
       "      <th>TTR</th>\n",
       "    </tr>\n",
       "  </thead>\n",
       "  <tbody>\n",
       "    <tr>\n",
       "      <th>0</th>\n",
       "      <td>200607296</td>\n",
       "      <td>3</td>\n",
       "      <td>\\t\\t\\t\\tCEPA 3 200607296\\n\\n\\n\\nNow I tell you...</td>\n",
       "      <td>Now I tell you why my worst holiday ever in th...</td>\n",
       "      <td>Now I tell you why my worst holiday ever in th...</td>\n",
       "      <td>[Now, I, tell, you, why, my, worst, holiday, e...</td>\n",
       "      <td>207</td>\n",
       "      <td>0.492754</td>\n",
       "    </tr>\n",
       "    <tr>\n",
       "      <th>1</th>\n",
       "      <td>200607457</td>\n",
       "      <td>4</td>\n",
       "      <td>\\t\\t\\t\\tCEPA 4 200607457\\n\\n\\n\\n              ...</td>\n",
       "      <td>My worst holiday Last year I have just had the...</td>\n",
       "      <td>My worst holiday Last year I have just had the...</td>\n",
       "      <td>[My, worst, holiday, Last, year, I, have, just...</td>\n",
       "      <td>180</td>\n",
       "      <td>0.572222</td>\n",
       "    </tr>\n",
       "    <tr>\n",
       "      <th>2</th>\n",
       "      <td>200600487</td>\n",
       "      <td>5</td>\n",
       "      <td>\\t\\t\\t\\tCEPA 5 200600487\\n\\n\\n\\n\\nEvery body i...</td>\n",
       "      <td>Every body in this life have a favourite posse...</td>\n",
       "      <td>Every body in this life have a favourite posse...</td>\n",
       "      <td>[Every, body, in, this, life, have, a, favouri...</td>\n",
       "      <td>229</td>\n",
       "      <td>0.445415</td>\n",
       "    </tr>\n",
       "  </tbody>\n",
       "</table>\n",
       "</div>"
      ],
      "text/plain": [
       "    Filename Level                                      Original_Text  \\\n",
       "0  200607296     3  \\t\\t\\t\\tCEPA 3 200607296\\n\\n\\n\\nNow I tell you...   \n",
       "1  200607457     4  \\t\\t\\t\\tCEPA 4 200607457\\n\\n\\n\\n              ...   \n",
       "2  200600487     5  \\t\\t\\t\\tCEPA 5 200600487\\n\\n\\n\\n\\nEvery body i...   \n",
       "\n",
       "                                    Normalized_Essay  \\\n",
       "0  Now I tell you why my worst holiday ever in th...   \n",
       "1  My worst holiday Last year I have just had the...   \n",
       "2  Every body in this life have a favourite posse...   \n",
       "\n",
       "                                       Revised_Essay  \\\n",
       "0  Now I tell you why my worst holiday ever in th...   \n",
       "1  My worst holiday Last year I have just had the...   \n",
       "2  Every body in this life have a favourite posse...   \n",
       "\n",
       "                                              tokens  token_count       TTR  \n",
       "0  [Now, I, tell, you, why, my, worst, holiday, e...          207  0.492754  \n",
       "1  [My, worst, holiday, Last, year, I, have, just...          180  0.572222  \n",
       "2  [Every, body, in, this, life, have, a, favouri...          229  0.445415  "
      ]
     },
     "execution_count": 27,
     "metadata": {},
     "output_type": "execute_result"
    }
   ],
   "source": [
    "cepa_df['TTR'] = cepa_df.tokens.apply(get_TTR)\n",
    "cepa_df.head(3)"
   ]
  },
  {
   "cell_type": "code",
   "execution_count": 28,
   "metadata": {},
   "outputs": [
    {
     "data": {
      "text/html": [
       "<div>\n",
       "<style scoped>\n",
       "    .dataframe tbody tr th:only-of-type {\n",
       "        vertical-align: middle;\n",
       "    }\n",
       "\n",
       "    .dataframe tbody tr th {\n",
       "        vertical-align: top;\n",
       "    }\n",
       "\n",
       "    .dataframe thead th {\n",
       "        text-align: right;\n",
       "    }\n",
       "</style>\n",
       "<table border=\"1\" class=\"dataframe\">\n",
       "  <thead>\n",
       "    <tr style=\"text-align: right;\">\n",
       "      <th></th>\n",
       "      <th>Filename</th>\n",
       "      <th>Level</th>\n",
       "      <th>Original_Text</th>\n",
       "      <th>Normalized_Essay</th>\n",
       "      <th>Revised_Essay</th>\n",
       "      <th>tokens</th>\n",
       "      <th>token_count</th>\n",
       "      <th>TTR</th>\n",
       "      <th>Guiraud</th>\n",
       "    </tr>\n",
       "  </thead>\n",
       "  <tbody>\n",
       "    <tr>\n",
       "      <th>0</th>\n",
       "      <td>200607296</td>\n",
       "      <td>3</td>\n",
       "      <td>\\t\\t\\t\\tCEPA 3 200607296\\n\\n\\n\\nNow I tell you...</td>\n",
       "      <td>Now I tell you why my worst holiday ever in th...</td>\n",
       "      <td>Now I tell you why my worst holiday ever in th...</td>\n",
       "      <td>[Now, I, tell, you, why, my, worst, holiday, e...</td>\n",
       "      <td>207</td>\n",
       "      <td>0.492754</td>\n",
       "      <td>7.089490</td>\n",
       "    </tr>\n",
       "    <tr>\n",
       "      <th>1</th>\n",
       "      <td>200607457</td>\n",
       "      <td>4</td>\n",
       "      <td>\\t\\t\\t\\tCEPA 4 200607457\\n\\n\\n\\n              ...</td>\n",
       "      <td>My worst holiday Last year I have just had the...</td>\n",
       "      <td>My worst holiday Last year I have just had the...</td>\n",
       "      <td>[My, worst, holiday, Last, year, I, have, just...</td>\n",
       "      <td>180</td>\n",
       "      <td>0.572222</td>\n",
       "      <td>7.677167</td>\n",
       "    </tr>\n",
       "    <tr>\n",
       "      <th>2</th>\n",
       "      <td>200600487</td>\n",
       "      <td>5</td>\n",
       "      <td>\\t\\t\\t\\tCEPA 5 200600487\\n\\n\\n\\n\\nEvery body i...</td>\n",
       "      <td>Every body in this life have a favourite posse...</td>\n",
       "      <td>Every body in this life have a favourite posse...</td>\n",
       "      <td>[Every, body, in, this, life, have, a, favouri...</td>\n",
       "      <td>229</td>\n",
       "      <td>0.445415</td>\n",
       "      <td>6.740350</td>\n",
       "    </tr>\n",
       "    <tr>\n",
       "      <th>3</th>\n",
       "      <td>200608016</td>\n",
       "      <td>4</td>\n",
       "      <td>\\t\\t\\t\\tCEPA 4 200608016\\n\\n\\n\\nEvery body hav...</td>\n",
       "      <td>Every body have a lot ofpossessions in this li...</td>\n",
       "      <td>Every body have a lot ofpossessions in this li...</td>\n",
       "      <td>[Every, body, have, a, lot, ofpossessions, in,...</td>\n",
       "      <td>156</td>\n",
       "      <td>0.608974</td>\n",
       "      <td>7.606087</td>\n",
       "    </tr>\n",
       "    <tr>\n",
       "      <th>4</th>\n",
       "      <td>200611825</td>\n",
       "      <td>1</td>\n",
       "      <td>\\t\\t\\t\\tCEPA 1 200611825\\n\\n\\n\\nyou go in the ...</td>\n",
       "      <td>you go in the oman just had the perfect holida...</td>\n",
       "      <td>you go in the oman just had the perfect holida...</td>\n",
       "      <td>[you, go, in, the, oman, just, had, the, perfe...</td>\n",
       "      <td>27</td>\n",
       "      <td>0.629630</td>\n",
       "      <td>3.271652</td>\n",
       "    </tr>\n",
       "  </tbody>\n",
       "</table>\n",
       "</div>"
      ],
      "text/plain": [
       "    Filename Level                                      Original_Text  \\\n",
       "0  200607296     3  \\t\\t\\t\\tCEPA 3 200607296\\n\\n\\n\\nNow I tell you...   \n",
       "1  200607457     4  \\t\\t\\t\\tCEPA 4 200607457\\n\\n\\n\\n              ...   \n",
       "2  200600487     5  \\t\\t\\t\\tCEPA 5 200600487\\n\\n\\n\\n\\nEvery body i...   \n",
       "3  200608016     4  \\t\\t\\t\\tCEPA 4 200608016\\n\\n\\n\\nEvery body hav...   \n",
       "4  200611825     1  \\t\\t\\t\\tCEPA 1 200611825\\n\\n\\n\\nyou go in the ...   \n",
       "\n",
       "                                    Normalized_Essay  \\\n",
       "0  Now I tell you why my worst holiday ever in th...   \n",
       "1  My worst holiday Last year I have just had the...   \n",
       "2  Every body in this life have a favourite posse...   \n",
       "3  Every body have a lot ofpossessions in this li...   \n",
       "4  you go in the oman just had the perfect holida...   \n",
       "\n",
       "                                       Revised_Essay  \\\n",
       "0  Now I tell you why my worst holiday ever in th...   \n",
       "1  My worst holiday Last year I have just had the...   \n",
       "2  Every body in this life have a favourite posse...   \n",
       "3  Every body have a lot ofpossessions in this li...   \n",
       "4  you go in the oman just had the perfect holida...   \n",
       "\n",
       "                                              tokens  token_count       TTR  \\\n",
       "0  [Now, I, tell, you, why, my, worst, holiday, e...          207  0.492754   \n",
       "1  [My, worst, holiday, Last, year, I, have, just...          180  0.572222   \n",
       "2  [Every, body, in, this, life, have, a, favouri...          229  0.445415   \n",
       "3  [Every, body, have, a, lot, ofpossessions, in,...          156  0.608974   \n",
       "4  [you, go, in, the, oman, just, had, the, perfe...           27  0.629630   \n",
       "\n",
       "    Guiraud  \n",
       "0  7.089490  \n",
       "1  7.677167  \n",
       "2  6.740350  \n",
       "3  7.606087  \n",
       "4  3.271652  "
      ]
     },
     "execution_count": 28,
     "metadata": {},
     "output_type": "execute_result"
    }
   ],
   "source": [
    "# adding Guirard\n",
    "def get_GUI(toks):\n",
    "    \"\"\"All tokens are lowercased, punctuation is included.\n",
    "    Get Guiraud's R measure of lexical complexity by dividing set of lowercased tokens by the square root of total number of tokens.\n",
    "    Guiraud (1954)\"\"\"\n",
    "    all_toks = [x.lower() for x in toks]\n",
    "    if len(all_toks) == 0:\n",
    "        return 0\n",
    "    else: return len(set(all_toks))/math.sqrt(len(all_toks))\n",
    "    \n",
    "cepa_df['Guiraud'] = cepa_df.tokens.apply(get_GUI)\n",
    "\n",
    "cepa_df.head()"
   ]
  },
  {
   "cell_type": "markdown",
   "metadata": {},
   "source": [
    "<a id='describe'></a>\n",
    "## Descriptives\n",
    "Here, I do two things: I make sure everything is read in correctly, and I look at some basic descriptive stats for the DataFrame, such as the descriptions of token count, TTR, and value counts for the different levels."
   ]
  },
  {
   "cell_type": "code",
   "execution_count": 29,
   "metadata": {},
   "outputs": [
    {
     "data": {
      "text/plain": [
       "True"
      ]
     },
     "execution_count": 29,
     "metadata": {},
     "output_type": "execute_result"
    }
   ],
   "source": [
    "# all filenames should have only 1 value\n",
    "all(cepa_df.Filename.value_counts() == 1)"
   ]
  },
  {
   "cell_type": "code",
   "execution_count": 30,
   "metadata": {},
   "outputs": [
    {
     "data": {
      "text/plain": [
       "(1664, 9)"
      ]
     },
     "execution_count": 30,
     "metadata": {},
     "output_type": "execute_result"
    }
   ],
   "source": [
    "# Size of the DataFrame as is\n",
    "cepa_df.shape"
   ]
  },
  {
   "cell_type": "code",
   "execution_count": 31,
   "metadata": {},
   "outputs": [
    {
     "data": {
      "text/html": [
       "<div>\n",
       "<style scoped>\n",
       "    .dataframe tbody tr th:only-of-type {\n",
       "        vertical-align: middle;\n",
       "    }\n",
       "\n",
       "    .dataframe tbody tr th {\n",
       "        vertical-align: top;\n",
       "    }\n",
       "\n",
       "    .dataframe thead tr th {\n",
       "        text-align: left;\n",
       "    }\n",
       "\n",
       "    .dataframe thead tr:last-of-type th {\n",
       "        text-align: right;\n",
       "    }\n",
       "</style>\n",
       "<table border=\"1\" class=\"dataframe\">\n",
       "  <thead>\n",
       "    <tr>\n",
       "      <th></th>\n",
       "      <th colspan=\"8\" halign=\"left\">Guiraud</th>\n",
       "      <th colspan=\"5\" halign=\"left\">TTR</th>\n",
       "      <th colspan=\"8\" halign=\"left\">token_count</th>\n",
       "    </tr>\n",
       "    <tr>\n",
       "      <th></th>\n",
       "      <th>count</th>\n",
       "      <th>mean</th>\n",
       "      <th>std</th>\n",
       "      <th>min</th>\n",
       "      <th>25%</th>\n",
       "      <th>50%</th>\n",
       "      <th>75%</th>\n",
       "      <th>max</th>\n",
       "      <th>count</th>\n",
       "      <th>mean</th>\n",
       "      <th>...</th>\n",
       "      <th>75%</th>\n",
       "      <th>max</th>\n",
       "      <th>count</th>\n",
       "      <th>mean</th>\n",
       "      <th>std</th>\n",
       "      <th>min</th>\n",
       "      <th>25%</th>\n",
       "      <th>50%</th>\n",
       "      <th>75%</th>\n",
       "      <th>max</th>\n",
       "    </tr>\n",
       "    <tr>\n",
       "      <th>Level</th>\n",
       "      <th></th>\n",
       "      <th></th>\n",
       "      <th></th>\n",
       "      <th></th>\n",
       "      <th></th>\n",
       "      <th></th>\n",
       "      <th></th>\n",
       "      <th></th>\n",
       "      <th></th>\n",
       "      <th></th>\n",
       "      <th></th>\n",
       "      <th></th>\n",
       "      <th></th>\n",
       "      <th></th>\n",
       "      <th></th>\n",
       "      <th></th>\n",
       "      <th></th>\n",
       "      <th></th>\n",
       "      <th></th>\n",
       "      <th></th>\n",
       "      <th></th>\n",
       "    </tr>\n",
       "  </thead>\n",
       "  <tbody>\n",
       "    <tr>\n",
       "      <th>1</th>\n",
       "      <td>276.0</td>\n",
       "      <td>4.453267</td>\n",
       "      <td>1.134710</td>\n",
       "      <td>0.000000</td>\n",
       "      <td>3.674235</td>\n",
       "      <td>4.431016</td>\n",
       "      <td>5.144595</td>\n",
       "      <td>8.148217</td>\n",
       "      <td>276.0</td>\n",
       "      <td>0.699472</td>\n",
       "      <td>...</td>\n",
       "      <td>0.792279</td>\n",
       "      <td>1.000000</td>\n",
       "      <td>276.0</td>\n",
       "      <td>50.409420</td>\n",
       "      <td>35.132618</td>\n",
       "      <td>0.0</td>\n",
       "      <td>24.75</td>\n",
       "      <td>43.0</td>\n",
       "      <td>65.00</td>\n",
       "      <td>199.0</td>\n",
       "    </tr>\n",
       "    <tr>\n",
       "      <th>2</th>\n",
       "      <td>292.0</td>\n",
       "      <td>5.125821</td>\n",
       "      <td>0.868385</td>\n",
       "      <td>2.549510</td>\n",
       "      <td>4.587562</td>\n",
       "      <td>5.098895</td>\n",
       "      <td>5.644995</td>\n",
       "      <td>8.357143</td>\n",
       "      <td>292.0</td>\n",
       "      <td>0.560516</td>\n",
       "      <td>...</td>\n",
       "      <td>0.628687</td>\n",
       "      <td>1.000000</td>\n",
       "      <td>292.0</td>\n",
       "      <td>94.287671</td>\n",
       "      <td>44.056346</td>\n",
       "      <td>10.0</td>\n",
       "      <td>59.75</td>\n",
       "      <td>86.5</td>\n",
       "      <td>123.00</td>\n",
       "      <td>310.0</td>\n",
       "    </tr>\n",
       "    <tr>\n",
       "      <th>3</th>\n",
       "      <td>250.0</td>\n",
       "      <td>5.765952</td>\n",
       "      <td>0.861545</td>\n",
       "      <td>3.487429</td>\n",
       "      <td>5.100637</td>\n",
       "      <td>5.759068</td>\n",
       "      <td>6.425288</td>\n",
       "      <td>8.606922</td>\n",
       "      <td>250.0</td>\n",
       "      <td>0.506205</td>\n",
       "      <td>...</td>\n",
       "      <td>0.552984</td>\n",
       "      <td>0.800000</td>\n",
       "      <td>250.0</td>\n",
       "      <td>138.056000</td>\n",
       "      <td>47.681305</td>\n",
       "      <td>38.0</td>\n",
       "      <td>105.25</td>\n",
       "      <td>134.0</td>\n",
       "      <td>164.50</td>\n",
       "      <td>316.0</td>\n",
       "    </tr>\n",
       "    <tr>\n",
       "      <th>4</th>\n",
       "      <td>297.0</td>\n",
       "      <td>6.905933</td>\n",
       "      <td>0.823044</td>\n",
       "      <td>2.236068</td>\n",
       "      <td>6.392330</td>\n",
       "      <td>6.928203</td>\n",
       "      <td>7.483554</td>\n",
       "      <td>9.442491</td>\n",
       "      <td>297.0</td>\n",
       "      <td>0.498291</td>\n",
       "      <td>...</td>\n",
       "      <td>0.537688</td>\n",
       "      <td>1.000000</td>\n",
       "      <td>297.0</td>\n",
       "      <td>200.373737</td>\n",
       "      <td>50.291163</td>\n",
       "      <td>5.0</td>\n",
       "      <td>167.00</td>\n",
       "      <td>200.0</td>\n",
       "      <td>232.00</td>\n",
       "      <td>343.0</td>\n",
       "    </tr>\n",
       "    <tr>\n",
       "      <th>5</th>\n",
       "      <td>299.0</td>\n",
       "      <td>7.412893</td>\n",
       "      <td>0.706253</td>\n",
       "      <td>5.637345</td>\n",
       "      <td>6.928925</td>\n",
       "      <td>7.341303</td>\n",
       "      <td>7.832240</td>\n",
       "      <td>9.879188</td>\n",
       "      <td>299.0</td>\n",
       "      <td>0.493398</td>\n",
       "      <td>...</td>\n",
       "      <td>0.522304</td>\n",
       "      <td>0.643836</td>\n",
       "      <td>299.0</td>\n",
       "      <td>231.862876</td>\n",
       "      <td>51.702926</td>\n",
       "      <td>97.0</td>\n",
       "      <td>193.50</td>\n",
       "      <td>227.0</td>\n",
       "      <td>272.00</td>\n",
       "      <td>397.0</td>\n",
       "    </tr>\n",
       "    <tr>\n",
       "      <th>6</th>\n",
       "      <td>250.0</td>\n",
       "      <td>8.076132</td>\n",
       "      <td>0.734736</td>\n",
       "      <td>6.288943</td>\n",
       "      <td>7.543654</td>\n",
       "      <td>8.000616</td>\n",
       "      <td>8.554658</td>\n",
       "      <td>10.266019</td>\n",
       "      <td>250.0</td>\n",
       "      <td>0.521077</td>\n",
       "      <td>...</td>\n",
       "      <td>0.553594</td>\n",
       "      <td>0.717742</td>\n",
       "      <td>250.0</td>\n",
       "      <td>246.748000</td>\n",
       "      <td>53.685426</td>\n",
       "      <td>116.0</td>\n",
       "      <td>210.00</td>\n",
       "      <td>243.0</td>\n",
       "      <td>281.75</td>\n",
       "      <td>392.0</td>\n",
       "    </tr>\n",
       "  </tbody>\n",
       "</table>\n",
       "<p>6 rows × 24 columns</p>\n",
       "</div>"
      ],
      "text/plain": [
       "      Guiraud                                                              \\\n",
       "        count      mean       std       min       25%       50%       75%   \n",
       "Level                                                                       \n",
       "1       276.0  4.453267  1.134710  0.000000  3.674235  4.431016  5.144595   \n",
       "2       292.0  5.125821  0.868385  2.549510  4.587562  5.098895  5.644995   \n",
       "3       250.0  5.765952  0.861545  3.487429  5.100637  5.759068  6.425288   \n",
       "4       297.0  6.905933  0.823044  2.236068  6.392330  6.928203  7.483554   \n",
       "5       299.0  7.412893  0.706253  5.637345  6.928925  7.341303  7.832240   \n",
       "6       250.0  8.076132  0.734736  6.288943  7.543654  8.000616  8.554658   \n",
       "\n",
       "                    TTR            ...                       token_count  \\\n",
       "             max  count      mean  ...         75%       max       count   \n",
       "Level                              ...                                     \n",
       "1       8.148217  276.0  0.699472  ...    0.792279  1.000000       276.0   \n",
       "2       8.357143  292.0  0.560516  ...    0.628687  1.000000       292.0   \n",
       "3       8.606922  250.0  0.506205  ...    0.552984  0.800000       250.0   \n",
       "4       9.442491  297.0  0.498291  ...    0.537688  1.000000       297.0   \n",
       "5       9.879188  299.0  0.493398  ...    0.522304  0.643836       299.0   \n",
       "6      10.266019  250.0  0.521077  ...    0.553594  0.717742       250.0   \n",
       "\n",
       "                                                                   \n",
       "             mean        std    min     25%    50%     75%    max  \n",
       "Level                                                              \n",
       "1       50.409420  35.132618    0.0   24.75   43.0   65.00  199.0  \n",
       "2       94.287671  44.056346   10.0   59.75   86.5  123.00  310.0  \n",
       "3      138.056000  47.681305   38.0  105.25  134.0  164.50  316.0  \n",
       "4      200.373737  50.291163    5.0  167.00  200.0  232.00  343.0  \n",
       "5      231.862876  51.702926   97.0  193.50  227.0  272.00  397.0  \n",
       "6      246.748000  53.685426  116.0  210.00  243.0  281.75  392.0  \n",
       "\n",
       "[6 rows x 24 columns]"
      ]
     },
     "execution_count": 31,
     "metadata": {},
     "output_type": "execute_result"
    }
   ],
   "source": [
    "cepa_df.groupby('Level').describe()"
   ]
  },
  {
   "cell_type": "code",
   "execution_count": 32,
   "metadata": {
    "scrolled": true
   },
   "outputs": [
    {
     "data": {
      "text/html": [
       "<div>\n",
       "<style scoped>\n",
       "    .dataframe tbody tr th:only-of-type {\n",
       "        vertical-align: middle;\n",
       "    }\n",
       "\n",
       "    .dataframe tbody tr th {\n",
       "        vertical-align: top;\n",
       "    }\n",
       "\n",
       "    .dataframe thead th {\n",
       "        text-align: right;\n",
       "    }\n",
       "</style>\n",
       "<table border=\"1\" class=\"dataframe\">\n",
       "  <thead>\n",
       "    <tr style=\"text-align: right;\">\n",
       "      <th></th>\n",
       "      <th>Filename</th>\n",
       "      <th>Level</th>\n",
       "      <th>Original_Text</th>\n",
       "      <th>Normalized_Essay</th>\n",
       "      <th>Revised_Essay</th>\n",
       "      <th>tokens</th>\n",
       "      <th>token_count</th>\n",
       "      <th>TTR</th>\n",
       "      <th>Guiraud</th>\n",
       "    </tr>\n",
       "  </thead>\n",
       "  <tbody>\n",
       "    <tr>\n",
       "      <th>227</th>\n",
       "      <td>200608341</td>\n",
       "      <td>1</td>\n",
       "      <td>\\t\\t\\t\\tCEPA 1 200608341\\n\\n\\n\\nI don’t now\\n</td>\n",
       "      <td>I don't now</td>\n",
       "      <td>I don't now</td>\n",
       "      <td>[I, do, n't, now]</td>\n",
       "      <td>4</td>\n",
       "      <td>1.0</td>\n",
       "      <td>2.000000</td>\n",
       "    </tr>\n",
       "    <tr>\n",
       "      <th>538</th>\n",
       "      <td>200606487</td>\n",
       "      <td>1</td>\n",
       "      <td>\\t\\t\\t\\tCEPA 1 200606487\\n\\n\\n\\nThe mask\\nThes...</td>\n",
       "      <td>The mask These film is Dangrs</td>\n",
       "      <td>The mask These film is Dangrs</td>\n",
       "      <td>[The, mask, These, film, is, Dangrs]</td>\n",
       "      <td>6</td>\n",
       "      <td>1.0</td>\n",
       "      <td>2.449490</td>\n",
       "    </tr>\n",
       "    <tr>\n",
       "      <th>620</th>\n",
       "      <td>200611449</td>\n",
       "      <td>1</td>\n",
       "      <td>\\t\\t\\t\\tCEPA 1 200611449\\n\\n\\n\\nOman it agood ...</td>\n",
       "      <td>Oman it agood cantry.</td>\n",
       "      <td>Oman it agood cantry.</td>\n",
       "      <td>[Oman, it, agood, cantry, .]</td>\n",
       "      <td>5</td>\n",
       "      <td>1.0</td>\n",
       "      <td>2.236068</td>\n",
       "    </tr>\n",
       "    <tr>\n",
       "      <th>684</th>\n",
       "      <td>200611925</td>\n",
       "      <td>2</td>\n",
       "      <td>\\t\\t\\t\\tCEPA 2 200611925\\n\\n\\n\\nIm KHALED ABDU...</td>\n",
       "      <td>Im KHALED ABDULLA AL SHAMISI from the UAE. ALAin</td>\n",
       "      <td>Im KHALED ABDULLA AL SHAMISI from the UAE. ALAin</td>\n",
       "      <td>[Im, KHALED, ABDULLA, AL, SHAMISI, from, the, ...</td>\n",
       "      <td>10</td>\n",
       "      <td>1.0</td>\n",
       "      <td>3.162278</td>\n",
       "    </tr>\n",
       "    <tr>\n",
       "      <th>736</th>\n",
       "      <td>200611666</td>\n",
       "      <td>1</td>\n",
       "      <td>\\t\\t\\t\\tCEPA 1 200611666\\n\\n\\n\\nSo good weathe...</td>\n",
       "      <td>So good weather in the summer</td>\n",
       "      <td>So good weather in the summer</td>\n",
       "      <td>[So, good, weather, in, the, summer]</td>\n",
       "      <td>6</td>\n",
       "      <td>1.0</td>\n",
       "      <td>2.449490</td>\n",
       "    </tr>\n",
       "    <tr>\n",
       "      <th>794</th>\n",
       "      <td>200604490</td>\n",
       "      <td>1</td>\n",
       "      <td>\\t\\t\\t\\tCEPA 1 200604490\\n\\n\\n\\nyo to &lt;o&gt;AL&lt;/o...</td>\n",
       "      <td>yo to _AL_Ain an sammr not Haeep</td>\n",
       "      <td>yo to ALAin an sammr not Haeep</td>\n",
       "      <td>[yo, to, ALAin, an, sammr, not, Haeep]</td>\n",
       "      <td>7</td>\n",
       "      <td>1.0</td>\n",
       "      <td>2.645751</td>\n",
       "    </tr>\n",
       "    <tr>\n",
       "      <th>922</th>\n",
       "      <td>200606507</td>\n",
       "      <td>1</td>\n",
       "      <td>\\t\\t\\t\\tCEPA 1 200606507\\n\\n\\n\\nThe Al Ain in ...</td>\n",
       "      <td>The Al Ain in no To fot xxx EYecPh</td>\n",
       "      <td>The Al Ain in no To fot xxx EYecPh</td>\n",
       "      <td>[The, Al, Ain, in, no, To, fot, xxx, EYecPh]</td>\n",
       "      <td>9</td>\n",
       "      <td>1.0</td>\n",
       "      <td>3.000000</td>\n",
       "    </tr>\n",
       "    <tr>\n",
       "      <th>1115</th>\n",
       "      <td>200608510</td>\n",
       "      <td>1</td>\n",
       "      <td>\\t\\t\\t\\tCEPA 1 200608510\\n\\n\\n\\nI you a Oman ....</td>\n",
       "      <td>I you a Oman .I are went there faiml</td>\n",
       "      <td>I you a Oman .I are went there faiml</td>\n",
       "      <td>[I, you, a, Oman, .I, are, went, there, faiml]</td>\n",
       "      <td>9</td>\n",
       "      <td>1.0</td>\n",
       "      <td>3.000000</td>\n",
       "    </tr>\n",
       "    <tr>\n",
       "      <th>1187</th>\n",
       "      <td>200612172</td>\n",
       "      <td>1</td>\n",
       "      <td>\\t\\t\\t\\tCEPA 1 200612172\\n\\n\\n\\nOne fire day w...</td>\n",
       "      <td>One fire day waent to the _cea_nima with ferin...</td>\n",
       "      <td>One fire day waent to the ceanima with ferinds...</td>\n",
       "      <td>[One, fire, day, waent, to, the, ceanima, with...</td>\n",
       "      <td>13</td>\n",
       "      <td>1.0</td>\n",
       "      <td>3.605551</td>\n",
       "    </tr>\n",
       "    <tr>\n",
       "      <th>1337</th>\n",
       "      <td>200603781</td>\n",
       "      <td>1</td>\n",
       "      <td>\\t\\t\\t\\tCEPA 1 200603781\\n\\n\\n\\nI go to the Du...</td>\n",
       "      <td>I go to the Dubai</td>\n",
       "      <td>I go to the Dubai</td>\n",
       "      <td>[I, go, to, the, Dubai]</td>\n",
       "      <td>5</td>\n",
       "      <td>1.0</td>\n",
       "      <td>2.236068</td>\n",
       "    </tr>\n",
       "    <tr>\n",
       "      <th>1426</th>\n",
       "      <td>200612328</td>\n",
       "      <td>1</td>\n",
       "      <td>\\t\\t\\t\\tCEPA 1 200612328\\n\\n\\n\\nmy freid a&lt;x&gt;s...</td>\n",
       "      <td>my freid a~~s~~ the s footboul,</td>\n",
       "      <td>my freid a the s footboul,</td>\n",
       "      <td>[my, freid, a, the, s, footboul, ,]</td>\n",
       "      <td>7</td>\n",
       "      <td>1.0</td>\n",
       "      <td>2.645751</td>\n",
       "    </tr>\n",
       "    <tr>\n",
       "      <th>1457</th>\n",
       "      <td>200603779</td>\n",
       "      <td>1</td>\n",
       "      <td>\\t\\t\\t\\tCEPA 1 200603779\\n\\n\\n\\nwhere you went...</td>\n",
       "      <td>where you went to Al Ain abd Oman Go people an...</td>\n",
       "      <td>where you went to Al Ain abd Oman Go people an...</td>\n",
       "      <td>[where, you, went, to, Al, Ain, abd, Oman, Go,...</td>\n",
       "      <td>14</td>\n",
       "      <td>1.0</td>\n",
       "      <td>3.741657</td>\n",
       "    </tr>\n",
       "    <tr>\n",
       "      <th>1633</th>\n",
       "      <td>200608835</td>\n",
       "      <td>1</td>\n",
       "      <td>\\t\\t\\t\\tCEPA 1 200608835\\n\\n\\n\\nI go in the sa...</td>\n",
       "      <td>I go in the safa park</td>\n",
       "      <td>I go in the safa park</td>\n",
       "      <td>[I, go, in, the, safa, park]</td>\n",
       "      <td>6</td>\n",
       "      <td>1.0</td>\n",
       "      <td>2.449490</td>\n",
       "    </tr>\n",
       "    <tr>\n",
       "      <th>1651</th>\n",
       "      <td>200606988</td>\n",
       "      <td>4</td>\n",
       "      <td>\\t\\t\\t\\tCEPA 4 200606988\\n\\n\\nHandwriting not ...</td>\n",
       "      <td>Handwriting not clear, legible</td>\n",
       "      <td>Handwriting not clear, legible</td>\n",
       "      <td>[Handwriting, not, clear, ,, legible]</td>\n",
       "      <td>5</td>\n",
       "      <td>1.0</td>\n",
       "      <td>2.236068</td>\n",
       "    </tr>\n",
       "  </tbody>\n",
       "</table>\n",
       "</div>"
      ],
      "text/plain": [
       "       Filename Level                                      Original_Text  \\\n",
       "227   200608341     1      \\t\\t\\t\\tCEPA 1 200608341\\n\\n\\n\\nI don’t now\\n   \n",
       "538   200606487     1  \\t\\t\\t\\tCEPA 1 200606487\\n\\n\\n\\nThe mask\\nThes...   \n",
       "620   200611449     1  \\t\\t\\t\\tCEPA 1 200611449\\n\\n\\n\\nOman it agood ...   \n",
       "684   200611925     2  \\t\\t\\t\\tCEPA 2 200611925\\n\\n\\n\\nIm KHALED ABDU...   \n",
       "736   200611666     1  \\t\\t\\t\\tCEPA 1 200611666\\n\\n\\n\\nSo good weathe...   \n",
       "794   200604490     1  \\t\\t\\t\\tCEPA 1 200604490\\n\\n\\n\\nyo to <o>AL</o...   \n",
       "922   200606507     1  \\t\\t\\t\\tCEPA 1 200606507\\n\\n\\n\\nThe Al Ain in ...   \n",
       "1115  200608510     1  \\t\\t\\t\\tCEPA 1 200608510\\n\\n\\n\\nI you a Oman ....   \n",
       "1187  200612172     1  \\t\\t\\t\\tCEPA 1 200612172\\n\\n\\n\\nOne fire day w...   \n",
       "1337  200603781     1  \\t\\t\\t\\tCEPA 1 200603781\\n\\n\\n\\nI go to the Du...   \n",
       "1426  200612328     1  \\t\\t\\t\\tCEPA 1 200612328\\n\\n\\n\\nmy freid a<x>s...   \n",
       "1457  200603779     1  \\t\\t\\t\\tCEPA 1 200603779\\n\\n\\n\\nwhere you went...   \n",
       "1633  200608835     1  \\t\\t\\t\\tCEPA 1 200608835\\n\\n\\n\\nI go in the sa...   \n",
       "1651  200606988     4  \\t\\t\\t\\tCEPA 4 200606988\\n\\n\\nHandwriting not ...   \n",
       "\n",
       "                                       Normalized_Essay  \\\n",
       "227                                         I don't now   \n",
       "538                       The mask These film is Dangrs   \n",
       "620                               Oman it agood cantry.   \n",
       "684    Im KHALED ABDULLA AL SHAMISI from the UAE. ALAin   \n",
       "736                       So good weather in the summer   \n",
       "794                    yo to _AL_Ain an sammr not Haeep   \n",
       "922                  The Al Ain in no To fot xxx EYecPh   \n",
       "1115               I you a Oman .I are went there faiml   \n",
       "1187  One fire day waent to the _cea_nima with ferin...   \n",
       "1337                                  I go to the Dubai   \n",
       "1426                    my freid a~~s~~ the s footboul,   \n",
       "1457  where you went to Al Ain abd Oman Go people an...   \n",
       "1633                              I go in the safa park   \n",
       "1651                     Handwriting not clear, legible   \n",
       "\n",
       "                                          Revised_Essay  \\\n",
       "227                                         I don't now   \n",
       "538                       The mask These film is Dangrs   \n",
       "620                               Oman it agood cantry.   \n",
       "684    Im KHALED ABDULLA AL SHAMISI from the UAE. ALAin   \n",
       "736                       So good weather in the summer   \n",
       "794                      yo to ALAin an sammr not Haeep   \n",
       "922                  The Al Ain in no To fot xxx EYecPh   \n",
       "1115               I you a Oman .I are went there faiml   \n",
       "1187  One fire day waent to the ceanima with ferinds...   \n",
       "1337                                  I go to the Dubai   \n",
       "1426                         my freid a the s footboul,   \n",
       "1457  where you went to Al Ain abd Oman Go people an...   \n",
       "1633                              I go in the safa park   \n",
       "1651                     Handwriting not clear, legible   \n",
       "\n",
       "                                                 tokens  token_count  TTR  \\\n",
       "227                                   [I, do, n't, now]            4  1.0   \n",
       "538                [The, mask, These, film, is, Dangrs]            6  1.0   \n",
       "620                        [Oman, it, agood, cantry, .]            5  1.0   \n",
       "684   [Im, KHALED, ABDULLA, AL, SHAMISI, from, the, ...           10  1.0   \n",
       "736                [So, good, weather, in, the, summer]            6  1.0   \n",
       "794              [yo, to, ALAin, an, sammr, not, Haeep]            7  1.0   \n",
       "922        [The, Al, Ain, in, no, To, fot, xxx, EYecPh]            9  1.0   \n",
       "1115     [I, you, a, Oman, .I, are, went, there, faiml]            9  1.0   \n",
       "1187  [One, fire, day, waent, to, the, ceanima, with...           13  1.0   \n",
       "1337                            [I, go, to, the, Dubai]            5  1.0   \n",
       "1426                [my, freid, a, the, s, footboul, ,]            7  1.0   \n",
       "1457  [where, you, went, to, Al, Ain, abd, Oman, Go,...           14  1.0   \n",
       "1633                       [I, go, in, the, safa, park]            6  1.0   \n",
       "1651              [Handwriting, not, clear, ,, legible]            5  1.0   \n",
       "\n",
       "       Guiraud  \n",
       "227   2.000000  \n",
       "538   2.449490  \n",
       "620   2.236068  \n",
       "684   3.162278  \n",
       "736   2.449490  \n",
       "794   2.645751  \n",
       "922   3.000000  \n",
       "1115  3.000000  \n",
       "1187  3.605551  \n",
       "1337  2.236068  \n",
       "1426  2.645751  \n",
       "1457  3.741657  \n",
       "1633  2.449490  \n",
       "1651  2.236068  "
      ]
     },
     "execution_count": 32,
     "metadata": {},
     "output_type": "execute_result"
    }
   ],
   "source": [
    "# How many TTRs of 1.0 there are \n",
    "cepa_df[cepa_df.TTR == 1]"
   ]
  },
  {
   "cell_type": "markdown",
   "metadata": {},
   "source": [
    "I won't throw these out, but there will need to be a minimum token limit for when I do analysis, so we don't get things like \"I don't know\" and \"Handwriting not legibile\"."
   ]
  },
  {
   "cell_type": "markdown",
   "metadata": {},
   "source": [
    "<a id='see'></a>\n",
    "## Visualization\n",
    "Now I want to look at some graphs quickly before wrapping up."
   ]
  },
  {
   "cell_type": "code",
   "execution_count": 34,
   "metadata": {},
   "outputs": [
    {
     "data": {
      "text/plain": [
       "<matplotlib.axes._subplots.AxesSubplot object at 0x1a222ecb70>"
      ]
     },
     "execution_count": 34,
     "metadata": {},
     "output_type": "execute_result"
    },
    {
     "data": {
      "text/plain": [
       "Text(0.5, 1.0, 'Number of Texts per Level (BALC)')"
      ]
     },
     "execution_count": 34,
     "metadata": {},
     "output_type": "execute_result"
    },
    {
     "data": {
      "image/png": "[encoded data removed]",
      "text/plain": [
       "<Figure size 432x288 with 1 Axes>"
      ]
     },
     "metadata": {
      "needs_background": "light"
     },
     "output_type": "display_data"
    }
   ],
   "source": [
    "# Let's visualize the amount of files in each level\n",
    "sns.countplot(x=\"Level\", data=cepa_df)\n",
    "plt.title('Number of Texts per Level (BALC)')\n",
    "plt.savefig('../images/balc_texts_per_level.png', bbox_inches = \"tight\")"
   ]
  },
  {
   "cell_type": "markdown",
   "metadata": {},
   "source": [
    "We already know the value counts of the levels, but it doesn't hurt to visualize it! Levels 2, 4, and 5 have the most files, getting near to 300. It looks like 3 and 6 have the least amount of files.\n",
    "\n",
    "Normally, we would expect the least amount of files in higher proficiencies. We would expect to see more files around a medium proficiency, and more low-level files than high-level files. We did see that for the most part in our original .jpg data: Levels 1, 2, 3, and 5 had 300 files each, Level 4 had 298, and Level 6 had 252 files.\n",
    "\n",
    "Therefore, it looks like we \"lost\" the most data in Levels 1 and 3. Only a handful of files were dropped from the other levels."
   ]
  },
  {
   "cell_type": "code",
   "execution_count": 35,
   "metadata": {
    "scrolled": true
   },
   "outputs": [
    {
     "data": {
      "text/plain": [
       "<seaborn.axisgrid.FacetGrid object at 0x1a222fc710>"
      ]
     },
     "execution_count": 35,
     "metadata": {},
     "output_type": "execute_result"
    },
    {
     "data": {
      "text/plain": [
       "Text(0.5, 1.0, 'Token Count by Level (BALC)')"
      ]
     },
     "execution_count": 35,
     "metadata": {},
     "output_type": "execute_result"
    },
    {
     "data": {
      "image/png": "[encoded data removed]",
      "text/plain": [
       "<Figure size 576x576 with 1 Axes>"
      ]
     },
     "metadata": {
      "needs_background": "light"
     },
     "output_type": "display_data"
    }
   ],
   "source": [
    "# Let's look at general length by level\n",
    "sns.catplot(x='Level', y='token_count', kind='box', data=cepa_df, height=8)\n",
    "plt.title('Token Count by Level (BALC)')\n",
    "plt.savefig('../images/balc_tokcount.png', bbox_inches = \"tight\")"
   ]
  },
  {
   "cell_type": "code",
   "execution_count": 36,
   "metadata": {},
   "outputs": [
    {
     "data": {
      "text/plain": [
       "F_onewayResult(statistic=764.373757392868, pvalue=0.0)"
      ]
     },
     "execution_count": 36,
     "metadata": {},
     "output_type": "execute_result"
    }
   ],
   "source": [
    "lv1_tokct = cepa_df[cepa_df.Level == '1'].token_count # token count for level 1\n",
    "lv2_tokct = cepa_df[cepa_df.Level == '2'].token_count # token count for level 2\n",
    "lv3_tokct = cepa_df[cepa_df.Level == '3'].token_count # token count for level 3\n",
    "lv4_tokct = cepa_df[cepa_df.Level == '4'].token_count # token count for level 4\n",
    "lv5_tokct = cepa_df[cepa_df.Level == '5'].token_count # token count for level 5\n",
    "lv6_tokct = cepa_df[cepa_df.Level == '6'].token_count # token count for level 6\n",
    "\n",
    "stats.f_oneway(lv1_tokct, lv2_tokct, lv3_tokct, lv4_tokct, lv5_tokct, lv6_tokct)"
   ]
  },
  {
   "cell_type": "markdown",
   "metadata": {},
   "source": [
    "Here, we see something that's pretty expected! The higher level students typically write more than the lower level students. There's a handful of outliers, mostly in Level 1. The one-way ANOVA suggests that there is a significant difference between groups here, but we will have to investigate a little bit more to pinpoint exactly where/what it is."
   ]
  },
  {
   "cell_type": "code",
   "execution_count": 37,
   "metadata": {
    "scrolled": true
   },
   "outputs": [
    {
     "data": {
      "text/plain": [
       "<seaborn.axisgrid.FacetGrid object at 0x1a225d8128>"
      ]
     },
     "execution_count": 37,
     "metadata": {},
     "output_type": "execute_result"
    },
    {
     "data": {
      "text/plain": [
       "Text(0.5, 1.0, 'TTR By Level (BALC)')"
      ]
     },
     "execution_count": 37,
     "metadata": {},
     "output_type": "execute_result"
    },
    {
     "data": {
      "image/png": "[encoded data removed]",
      "text/plain": [
       "<Figure size 576x576 with 1 Axes>"
      ]
     },
     "metadata": {
      "needs_background": "light"
     },
     "output_type": "display_data"
    }
   ],
   "source": [
    "sns.catplot(x='Level', y='TTR', kind='box', data=cepa_df, height=8)\n",
    "plt.title('TTR By Level (BALC)')\n",
    "plt.savefig('../images/balc_ttr.png', bbox_inches = \"tight\")"
   ]
  },
  {
   "cell_type": "code",
   "execution_count": 38,
   "metadata": {},
   "outputs": [
    {
     "data": {
      "text/plain": [
       "F_onewayResult(statistic=208.1989467995349, pvalue=1.6028012530002684e-172)"
      ]
     },
     "execution_count": 38,
     "metadata": {},
     "output_type": "execute_result"
    }
   ],
   "source": [
    "lv1_ttr = cepa_df[cepa_df.Level == '1'].TTR # ttr for level 1\n",
    "lv2_ttr = cepa_df[cepa_df.Level == '2'].TTR # ttr for level 2\n",
    "lv3_ttr = cepa_df[cepa_df.Level == '3'].TTR # ttr for level 3\n",
    "lv4_ttr = cepa_df[cepa_df.Level == '4'].TTR # ttr for level 4\n",
    "lv5_ttr = cepa_df[cepa_df.Level == '5'].TTR # ttr for level 5\n",
    "lv6_ttr = cepa_df[cepa_df.Level == '6'].TTR # ttr for level 6\n",
    "\n",
    "stats.f_oneway(lv1_ttr, lv2_ttr, lv3_ttr, lv4_ttr, lv5_ttr, lv6_ttr)"
   ]
  },
  {
   "cell_type": "markdown",
   "metadata": {},
   "source": [
    "This really isn't too surprising! The higher the (perceived) level is, the more students seem to write. Conversely, becuase they're writing more, there's more of a likelihood that they'll repeat their words, especially when compared to much lower levels (1, 2). Of course, TTR tells us more when it's normalized/controlled for length, so maybe we can return to this later.\n",
    "\n",
    "There's a few TTRs of or near 1.0, which means students didn't repeat _any_ words in their essays. Again, that's not too hard to do when you're writing very short essays! However, there's another thing to take into account here: we have seen from our work above that students make a _lot_ of spelling errors, and sometimes the same student will spell the same word several different ways in the same essay! So this measure of TTR still may not have the highest accuracy because students _may actually be repeating words_, but it isn't caught by the TTR function because they're misspelling the word, so they may appear to be different words. Just something to think about!\n",
    "\n",
    "As with the token count, the one-way ANOVA suggests that there is a significant difference between groups here, though we'll still need to do some digging!"
   ]
  },
  {
   "cell_type": "code",
   "execution_count": 39,
   "metadata": {},
   "outputs": [
    {
     "data": {
      "text/plain": [
       "<seaborn.axisgrid.FacetGrid object at 0x1a22b7e5f8>"
      ]
     },
     "execution_count": 39,
     "metadata": {},
     "output_type": "execute_result"
    },
    {
     "data": {
      "text/plain": [
       "Text(0.5, 1.0, \"Guiraud's R by Level (BALC)\")"
      ]
     },
     "execution_count": 39,
     "metadata": {},
     "output_type": "execute_result"
    },
    {
     "data": {
      "text/plain": [
       "F_onewayResult(statistic=716.2910170871269, pvalue=0.0)"
      ]
     },
     "execution_count": 39,
     "metadata": {},
     "output_type": "execute_result"
    },
    {
     "data": {
      "image/png": "[encoded data removed]",
      "text/plain": [
       "<Figure size 576x576 with 1 Axes>"
      ]
     },
     "metadata": {
      "needs_background": "light"
     },
     "output_type": "display_data"
    }
   ],
   "source": [
    "# looking at Guiraud's r\n",
    "sns.catplot(x='Level', y='Guiraud', kind='box', data=cepa_df, height=8)\n",
    "plt.title('Guiraud\\'s R by Level (BALC)')\n",
    "plt.savefig('../images/balc_guiraudr.png', bbox_inches = \"tight\")\n",
    "\n",
    "lv1_gui = cepa_df[cepa_df.Level == '1'].Guiraud\n",
    "lv2_gui = cepa_df[cepa_df.Level == '2'].Guiraud \n",
    "lv3_gui = cepa_df[cepa_df.Level == '3'].Guiraud \n",
    "lv4_gui = cepa_df[cepa_df.Level == '4'].Guiraud \n",
    "lv5_gui = cepa_df[cepa_df.Level == '5'].Guiraud \n",
    "lv6_gui = cepa_df[cepa_df.Level == '6'].Guiraud \n",
    "\n",
    "stats.f_oneway(lv1_gui, lv2_gui, lv3_gui, lv4_gui, lv5_gui, lv6_gui)"
   ]
  },
  {
   "cell_type": "markdown",
   "metadata": {},
   "source": [
    "<a id='conclusion'></a>\n",
    "## Conclusion\n",
    "\n",
    "So, I've done quite a bit here, I think! I read in all the CEPA files, accounting for duplicates; standardized the tagging in essays, and then removed it; and now I have some specific linguistic data to look at! The essays, tokens, token counts, and TTR so far. I would like to POS tag and possibly lemmatize still, but I think this is a good start.\n",
    "\n",
    "From my brief (and admittedly pretty shallow) descriptive and quantitative analysis, I found that we still have a pretty good distribution of texts across the different levels. We found that get higher in (perceived) quality/proficiency, they tend to get longer, and their TTR tends to get lower. Again, this is expected, so that's not bad! Both of these differences appear to be signficant."
   ]
  },
  {
   "cell_type": "markdown",
   "metadata": {},
   "source": [
    "# Updates: 2019.02.22 - 2019.03.18\n",
    "\n",
    "I think I'll need to lemmatize and POS-tag to get the most common lemmas. I'd like to use the same count and mass nouns across the two corpora analyses. In this update, I compare NLTK and Spacy POS-tagging and lemmatization on essay samples from my corpus, lemmatize and pos-tag the essays using spacy, and get the 3000 most frequent lemmas in the BALC corpus. Those are saved out in csv files."
   ]
  },
  {
   "cell_type": "code",
   "execution_count": 52,
   "metadata": {},
   "outputs": [],
   "source": [
    "# load in spacy\n",
    "import spacy\n",
    "nlp = spacy.load('en')\n",
    "\n",
    "# Load in the lemmatizer from NLTK\n",
    "from nltk.stem import WordNetLemmatizer\n",
    "lemmatizer = WordNetLemmatizer()"
   ]
  },
  {
   "cell_type": "code",
   "execution_count": 53,
   "metadata": {},
   "outputs": [
    {
     "name": "stdout",
     "output_type": "stream",
     "text": [
      "Now now ADV RB\n",
      "I -PRON- PRON PRP\n",
      "tell tell VERB VBP\n",
      "you -PRON- PRON PRP\n",
      "why why ADV WRB\n",
      "my -PRON- ADJ PRP$\n",
      "worst bad ADJ JJS\n",
      "holiday holiday NOUN NN\n",
      "ever ever ADV RB\n",
      "in in ADP IN\n",
      "the the DET DT\n",
      "last last ADJ JJ\n",
      "summer summer NOUN NN\n",
      "I -PRON- PRON PRP\n",
      "wented went VERB VBD\n",
      "withe withe VERB VBP\n",
      "my -PRON- ADJ PRP$\n",
      "family family NOUN NN\n",
      "in in ADP IN\n",
      "the the DET DT\n",
      "India india PROPN NNP\n",
      "and and CCONJ CC\n",
      "this this DET DT\n",
      "story story NOUN NN\n",
      "I -PRON- PRON PRP\n",
      "will will VERB MD\n",
      "tell tell VERB VB\n",
      "you -PRON- PRON PRP\n",
      "what what NOUN WP\n",
      "happened happen VERB VBD\n",
      "for for ADP IN\n",
      "the the DET DT\n",
      "short short ADJ JJ\n",
      "story story NOUN NN\n",
      "when when ADV WRB\n",
      "I -PRON- PRON PRP\n",
      "go go VERB VBP\n",
      "the the DET DT\n",
      "first first ADJ JJ\n",
      "the the DET DT\n",
      "weathe weathe NOUN NN\n",
      "is be VERB VBZ\n",
      "very very ADV RB\n",
      "very very ADV RB\n",
      "rain rain NOUN NN\n",
      "now now ADV RB\n",
      "bady bady VERB VBP\n",
      "for for ADP IN\n",
      "the the DET DT\n",
      "children child NOUN NNS\n",
      "play play VERB VB\n",
      "out out PART RP\n",
      "when when ADV WRB\n",
      "I -PRON- PRON PRP\n",
      "go go VERB VBP\n",
      "in in ADP IN\n",
      "the the DET DT\n",
      "hotel hotel NOUN NN\n",
      "all all DET DT\n",
      "may may VERB MD\n",
      "family family NOUN NN\n",
      "was be VERB VBD\n",
      "have have VERB VB\n",
      "the the DET DT\n",
      "headk headk NOUN NN\n",
      "in in ADP IN\n",
      "there there ADV RB\n",
      "and and CCONJ CC\n",
      "all all DET DT\n",
      "was be VERB VBD\n",
      "sleep sleep NOUN NN\n",
      "put put VERB VBN\n",
      "for for ADP IN\n",
      "my -PRON- ADJ PRP$\n",
      "I -PRON- PRON PRP\n",
      "can;t can;t NOUN NN\n",
      "sleep sleep NOUN NN\n",
      "because because ADP IN\n",
      "I -PRON- PRON PRP\n",
      "not not ADV RB\n",
      "love love VERB VBP\n",
      "the the DET DT\n",
      "area area NOUN NN\n",
      "in in ADP IN\n",
      "the the DET DT\n",
      "morning morning NOUN NN\n",
      "all all ADJ PDT\n",
      "the the DET DT\n",
      "my -PRON- ADJ PRP$\n",
      "family family NOUN NN\n",
      "weak weak ADJ JJ\n",
      "up up PART RP\n",
      "and and CCONJ CC\n",
      "going go VERB VBG\n",
      "irant irant ADJ JJ\n",
      "but but CCONJ CC\n",
      "is be VERB VBZ\n",
      "the the DET DT\n",
      "strees stree NOUN NNS\n",
      ", , PUNCT ,\n",
      "children child NOUN NNS\n",
      "and and CCONJ CC\n",
      "the the DET DT\n",
      "food food NOUN NN\n",
      "is be VERB VBZ\n",
      "very very ADV RB\n",
      "dearty dearty ADJ JJR\n",
      "earia earia NOUN NN\n",
      "I -PRON- PRON PRP\n",
      "not not ADV RB\n",
      "liked like VERB VBD\n",
      "becuse becuse NOUN NN\n",
      "is be VERB VBZ\n",
      "not not ADV RB\n",
      "nice nice ADJ JJ\n",
      "area area NOUN NN\n",
      "so so ADV RB\n",
      "darty darty NOUN NN\n",
      "and and CCONJ CC\n",
      "people people NOUN NNS\n",
      "there there ADV EX\n",
      "is be VERB VBZ\n",
      "not not ADV RB\n",
      "nice nice ADJ JJ\n",
      "all all ADV RB\n",
      "there there ADV EX\n",
      "have have VERB VBP\n",
      "not not ADV RB\n",
      "happy happy ADJ JJ\n",
      "only only ADV RB\n",
      "sawted sawted ADJ JJ\n",
      "for for ADP IN\n",
      "my -PRON- ADJ PRP$\n",
      "sister sister NOUN NN\n",
      "whem whem PRON PRP\n",
      "she -PRON- PRON PRP\n",
      "take take VERB VBP\n",
      "some some DET DT\n",
      "flower flower NOUN NN\n",
      "for for ADP IN\n",
      "the the DET DT\n",
      "mam mam NOUN NN\n",
      "and and CCONJ CC\n",
      "also also ADV RB\n",
      "when when ADV WRB\n",
      "you -PRON- PRON PRP\n",
      "there there ADV RB\n",
      "you -PRON- PRON PRP\n",
      "see see VERB VBP\n",
      "what what NOUN WP\n",
      "I -PRON- PRON PRP\n",
      "means mean VERB VBZ\n",
      "maby maby VERB VBP\n",
      "some some DET DT\n",
      "body body NOUN NN\n",
      "liked like VERB VBD\n",
      "go go VERB VB\n",
      "ther ther NOUN NN\n",
      "but but CCONJ CC\n",
      "for for ADP IN\n",
      "I -PRON- PRON PRP\n",
      "did do VERB VBD\n",
      "n't not ADV RB\n",
      "liked like VERB VBN\n",
      "And and CCONJ CC\n",
      "for for ADP IN\n",
      "what what ADJ WDT\n",
      "happand happand NOUN NN\n",
      "I -PRON- PRON PRP\n",
      "tell tell VERB VBP\n",
      "for for ADP IN\n",
      "my -PRON- ADJ PRP$\n",
      "family family NOUN NN\n",
      "I -PRON- PRON PRP\n",
      "wanted want VERB VBD\n",
      "to to PART TO\n",
      "go go VERB VB\n",
      "in in ADP IN\n",
      "my -PRON- ADJ PRP$\n",
      "country country NOUN NN\n",
      "I -PRON- PRON PRP\n",
      "did do VERB VBD\n",
      "n't not ADV RB\n",
      "like like VERB VB\n",
      "her -PRON- PRON PRP\n",
      "fainally fainally ADV RB\n",
      "I -PRON- PRON PRP\n",
      "wanted want VERB VBD\n",
      "tell tell VERB VB\n",
      "for for ADP IN\n",
      "hem hem PRON PRP\n",
      "why why ADV WRB\n",
      "your -PRON- ADJ PRP$\n",
      "earea earea ADJ JJ\n",
      "like like INTJ UH\n",
      "thes the NOUN NNS\n",
      "you -PRON- PRON PRP\n",
      "shold shold ADJ JJ\n",
      "clean clean ADJ JJ\n",
      "and and CCONJ CC\n",
      "your -PRON- ADJ PRP$\n",
      "people people NOUN NNS\n",
      "so so ADP IN\n",
      "nerves nerve NOUN NNS\n",
      "... ... PUNCT .\n"
     ]
    }
   ],
   "source": [
    "# Let's start with spacy, since it's new!\n",
    "y = cepa_df.Revised_Essay[0]\n",
    "doc = nlp(y)\n",
    "for token in doc:\n",
    "    print(token.text, token.lemma_, token.pos_, token.tag_) # tagging and lemmatizing built in to spacy commands"
   ]
  },
  {
   "cell_type": "code",
   "execution_count": 54,
   "metadata": {
    "scrolled": true
   },
   "outputs": [
    {
     "name": "stdout",
     "output_type": "stream",
     "text": [
      "[('Now', 'RB'), ('I', 'PRP'), ('tell', 'VBP'), ('you', 'PRP'), ('why', 'WRB'), ('my', 'PRP$'), ('worst', 'JJS'), ('holiday', 'NN'), ('ever', 'RB'), ('in', 'IN'), ('the', 'DT'), ('last', 'JJ'), ('summer', 'NN'), ('I', 'PRP'), ('wented', 'VBD'), ('withe', 'JJ'), ('my', 'PRP$'), ('family', 'NN'), ('in', 'IN'), ('the', 'DT'), ('India', 'NNP'), ('and', 'CC'), ('this', 'DT'), ('story', 'NN'), ('I', 'PRP'), ('will', 'MD'), ('tell', 'VB'), ('you', 'PRP'), ('what', 'WDT'), ('happened', 'VBD'), ('for', 'IN'), ('the', 'DT'), ('short', 'JJ'), ('story', 'NN'), ('when', 'WRB'), ('I', 'PRP'), ('go', 'VBP'), ('the', 'DT'), ('first', 'JJ'), ('the', 'DT'), ('weathe', 'NN'), ('is', 'VBZ'), ('very', 'RB'), ('very', 'RB'), ('rain', 'RB'), ('now', 'RB'), ('bady', 'VBZ'), ('for', 'IN'), ('the', 'DT'), ('children', 'NNS'), ('play', 'VBP'), ('out', 'RP'), ('when', 'WRB'), ('I', 'PRP'), ('go', 'VBP'), ('in', 'IN'), ('the', 'DT'), ('hotel', 'NN'), ('all', 'DT'), ('may', 'MD'), ('family', 'NN'), ('was', 'VBD'), ('have', 'VBP'), ('the', 'DT'), ('headk', 'NN'), ('in', 'IN'), ('there', 'EX'), ('and', 'CC'), ('all', 'DT'), ('was', 'VBD'), ('sleep', 'JJ'), ('put', 'NN'), ('for', 'IN'), ('my', 'PRP$'), ('I', 'PRP'), ('can', 'MD'), (';', ':'), ('t', 'VB'), ('sleep', 'NN'), ('because', 'IN'), ('I', 'PRP'), ('not', 'RB'), ('love', 'VB'), ('the', 'DT'), ('area', 'NN'), ('in', 'IN'), ('the', 'DT'), ('morning', 'NN'), ('all', 'PDT'), ('the', 'DT'), ('my', 'PRP$'), ('family', 'NN'), ('weak', 'JJ'), ('up', 'RB'), ('and', 'CC'), ('going', 'VBG'), ('irant', 'JJ'), ('but', 'CC'), ('is', 'VBZ'), ('the', 'DT'), ('strees', 'NNS'), (',', ','), ('children', 'NNS'), ('and', 'CC'), ('the', 'DT'), ('food', 'NN'), ('is', 'VBZ'), ('very', 'RB'), ('dearty', 'JJ'), ('earia', 'NN'), ('I', 'PRP'), ('not', 'RB'), ('liked', 'VBD'), ('becuse', 'NN'), ('is', 'VBZ'), ('not', 'RB'), ('nice', 'JJ'), ('area', 'NN'), ('so', 'RB'), ('darty', 'JJ'), ('and', 'CC'), ('people', 'NNS'), ('there', 'EX'), ('is', 'VBZ'), ('not', 'RB'), ('nice', 'JJ'), ('all', 'RB'), ('there', 'RB'), ('have', 'VBP'), ('not', 'RB'), ('happy', 'JJ'), ('only', 'RB'), ('sawted', 'VBD'), ('for', 'IN'), ('my', 'PRP$'), ('sister', 'NN'), ('whem', 'NN'), ('she', 'PRP'), ('take', 'VB'), ('some', 'DT'), ('flower', 'NN'), ('for', 'IN'), ('the', 'DT'), ('mam', 'NN'), ('and', 'CC'), ('also', 'RB'), ('when', 'WRB'), ('you', 'PRP'), ('there', 'EX'), ('you', 'PRP'), ('see', 'VBP'), ('what', 'WP'), ('I', 'PRP'), ('means', 'VBP'), ('maby', 'JJ'), ('some', 'DT'), ('body', 'NN'), ('liked', 'VBD'), ('go', 'VB'), ('ther', 'RB'), ('but', 'CC'), ('for', 'IN'), ('I', 'PRP'), ('did', 'VBD'), (\"n't\", 'RB'), ('liked', 'VBN'), ('And', 'CC'), ('for', 'IN'), ('what', 'WP'), ('happand', 'NN'), ('I', 'PRP'), ('tell', 'VBP'), ('for', 'IN'), ('my', 'PRP$'), ('family', 'NN'), ('I', 'PRP'), ('wanted', 'VBD'), ('to', 'TO'), ('go', 'VB'), ('in', 'IN'), ('my', 'PRP$'), ('country', 'NN'), ('I', 'PRP'), ('did', 'VBD'), (\"n't\", 'RB'), ('like', 'IN'), ('her', 'PRP$'), ('fainally', 'RB'), ('I', 'PRP'), ('wanted', 'VBD'), ('tell', 'NN'), ('for', 'IN'), ('hem', 'JJ'), ('why', 'WRB'), ('your', 'PRP$'), ('earea', 'NN'), ('like', 'IN'), ('thes', 'NNS'), ('you', 'PRP'), ('shold', 'VBP'), ('clean', 'JJ'), ('and', 'CC'), ('your', 'PRP$'), ('people', 'NNS'), ('so', 'RB'), ('nerves', 'NNS'), ('...', ':')]\n"
     ]
    }
   ],
   "source": [
    "# now looking at nltk\n",
    "for token in [cepa_df.tokens[0]]:\n",
    "    print(nltk.pos_tag(token))"
   ]
  },
  {
   "cell_type": "code",
   "execution_count": 55,
   "metadata": {
    "scrolled": true
   },
   "outputs": [
    {
     "name": "stdout",
     "output_type": "stream",
     "text": [
      "Now Now\n",
      "I I\n",
      "tell tell\n",
      "you you\n",
      "why why\n",
      "my my\n",
      "worst worst\n",
      "holiday holiday\n",
      "ever ever\n",
      "in in\n",
      "the the\n",
      "last last\n",
      "summer summer\n",
      "I I\n",
      "wented wented\n",
      "withe withe\n",
      "my my\n",
      "family family\n",
      "in in\n",
      "the the\n",
      "India India\n",
      "and and\n",
      "this this\n",
      "story story\n",
      "I I\n",
      "will will\n",
      "tell tell\n",
      "you you\n",
      "what what\n",
      "happened happened\n",
      "for for\n",
      "the the\n",
      "short short\n",
      "story story\n",
      "when when\n",
      "I I\n",
      "go go\n",
      "the the\n",
      "first first\n",
      "the the\n",
      "weathe weathe\n",
      "is is\n",
      "very very\n",
      "very very\n",
      "rain rain\n",
      "now now\n",
      "bady bady\n",
      "for for\n",
      "the the\n",
      "children child\n",
      "play play\n",
      "out out\n",
      "when when\n",
      "I I\n",
      "go go\n",
      "in in\n",
      "the the\n",
      "hotel hotel\n",
      "all all\n",
      "may may\n",
      "family family\n",
      "was wa\n",
      "have have\n",
      "the the\n",
      "headk headk\n",
      "in in\n",
      "there there\n",
      "and and\n",
      "all all\n",
      "was wa\n",
      "sleep sleep\n",
      "put put\n",
      "for for\n",
      "my my\n",
      "I I\n",
      "can can\n",
      "; ;\n",
      "t t\n",
      "sleep sleep\n",
      "because because\n",
      "I I\n",
      "not not\n",
      "love love\n",
      "the the\n",
      "area area\n",
      "in in\n",
      "the the\n",
      "morning morning\n",
      "all all\n",
      "the the\n",
      "my my\n",
      "family family\n",
      "weak weak\n",
      "up up\n",
      "and and\n",
      "going going\n",
      "irant irant\n",
      "but but\n",
      "is is\n",
      "the the\n",
      "strees strees\n",
      ", ,\n",
      "children child\n",
      "and and\n",
      "the the\n",
      "food food\n",
      "is is\n",
      "very very\n",
      "dearty dearty\n",
      "earia earia\n",
      "I I\n",
      "not not\n",
      "liked liked\n",
      "becuse becuse\n",
      "is is\n",
      "not not\n",
      "nice nice\n",
      "area area\n",
      "so so\n",
      "darty darty\n",
      "and and\n",
      "people people\n",
      "there there\n",
      "is is\n",
      "not not\n",
      "nice nice\n",
      "all all\n",
      "there there\n",
      "have have\n",
      "not not\n",
      "happy happy\n",
      "only only\n",
      "sawted sawted\n",
      "for for\n",
      "my my\n",
      "sister sister\n",
      "whem whem\n",
      "she she\n",
      "take take\n",
      "some some\n",
      "flower flower\n",
      "for for\n",
      "the the\n",
      "mam mam\n",
      "and and\n",
      "also also\n",
      "when when\n",
      "you you\n",
      "there there\n",
      "you you\n",
      "see see\n",
      "what what\n",
      "I I\n",
      "means mean\n",
      "maby maby\n",
      "some some\n",
      "body body\n",
      "liked liked\n",
      "go go\n",
      "ther ther\n",
      "but but\n",
      "for for\n",
      "I I\n",
      "did did\n",
      "n't n't\n",
      "liked liked\n",
      "And And\n",
      "for for\n",
      "what what\n",
      "happand happand\n",
      "I I\n",
      "tell tell\n",
      "for for\n",
      "my my\n",
      "family family\n",
      "I I\n",
      "wanted wanted\n",
      "to to\n",
      "go go\n",
      "in in\n",
      "my my\n",
      "country country\n",
      "I I\n",
      "did did\n",
      "n't n't\n",
      "like like\n",
      "her her\n",
      "fainally fainally\n",
      "I I\n",
      "wanted wanted\n",
      "tell tell\n",
      "for for\n",
      "hem hem\n",
      "why why\n",
      "your your\n",
      "earea earea\n",
      "like like\n",
      "thes thes\n",
      "you you\n",
      "shold shold\n",
      "clean clean\n",
      "and and\n",
      "your your\n",
      "people people\n",
      "so so\n",
      "nerves nerve\n",
      "... ...\n"
     ]
    }
   ],
   "source": [
    "# This doesn't look as good as the spacy  lemmatizer\n",
    "for token in cepa_df.tokens[0]:\n",
    "    print(token, lemmatizer.lemmatize(token))"
   ]
  },
  {
   "cell_type": "code",
   "execution_count": 56,
   "metadata": {},
   "outputs": [
    {
     "name": "stdout",
     "output_type": "stream",
     "text": [
      "I PRP -PRON-\n",
      "like VBP like\n",
      "to TO to\n",
      "bow VB bow\n",
      "and CC and\n",
      "look VB look\n",
      "at IN at\n",
      "bows NNS bow\n",
      "on IN on\n",
      "presents NNS present\n",
      ". . .\n",
      "I PRP -PRON-\n",
      "wented VBD went\n",
      "to IN to\n",
      "a DT a\n",
      "store NN store\n",
      "on IN on\n",
      "fifth JJ fifth\n",
      "avenue NN avenue\n",
      ". . .\n",
      "I I\n",
      "like like\n",
      "to to\n",
      "bow bow\n",
      "and and\n",
      "look look\n",
      "at at\n",
      "bows bow\n",
      "on on\n",
      "presents present\n",
      ". .\n"
     ]
    },
    {
     "data": {
      "text/plain": [
       "[('I', 'PRP'), ('like', 'VBP'), ('to', 'TO'), ('bow', 'VB'), ('and', 'CC'), ('look', 'VB'), ('at', 'IN'), ('bows', 'NNS'), ('on', 'IN'), ('presents.', 'NN')]"
      ]
     },
     "execution_count": 56,
     "metadata": {},
     "output_type": "execute_result"
    },
    {
     "name": "stdout",
     "output_type": "stream",
     "text": [
      "I I\n",
      "wented wented\n",
      "to to\n",
      "a a\n",
      "store store\n",
      "on on\n",
      "fifth fifth\n",
      "avenue avenue\n",
      ". .\n"
     ]
    },
    {
     "data": {
      "text/plain": [
       "[('I', 'PRP'), ('wented', 'VBD'), ('to', 'TO'), ('a', 'DT'), ('store', 'NN'), ('on', 'IN'), ('fifth', 'JJ'), ('avenue.', 'NN')]"
      ]
     },
     "execution_count": 56,
     "metadata": {},
     "output_type": "execute_result"
    }
   ],
   "source": [
    "# Make my own example, to test ambiguity\n",
    "test = \"I like to bow and look at bows on presents.\"\n",
    "test2 = \"I wented to a store on fifth avenue.\"\n",
    "\n",
    "# Spacy\n",
    "t = nlp(test)\n",
    "for tok in t:\n",
    "    print(tok, tok.tag_, tok.lemma_)\n",
    "    \n",
    "t = nlp(test2)\n",
    "for tok in t:\n",
    "    print(tok, tok.tag_, tok.lemma_)\n",
    "\n",
    "\n",
    "# NLTK\n",
    "for tok in nltk.word_tokenize(test):\n",
    "    print(tok, lemmatizer.lemmatize(tok))\n",
    "nltk.tag.pos_tag(test.split())\n",
    "\n",
    "for tok in nltk.word_tokenize(test2):\n",
    "    print(tok, lemmatizer.lemmatize(tok))\n",
    "nltk.tag.pos_tag(test2.split())"
   ]
  },
  {
   "cell_type": "markdown",
   "metadata": {},
   "source": [
    "So I think for my purposes, the spacy lemmatization seems a little more accurate -- the NLTK lemmatizer keeps inflections (e.g. `liked -> liked` instead of `liked -> like`). Spacy also account for things like `wented -> went`.\n",
    "\n",
    "It lemmatizes all pronouns as `-PRON-`, which is kind of annoying, but I'm not looking at pronouns, so I can throw this out for now."
   ]
  },
  {
   "cell_type": "code",
   "execution_count": 57,
   "metadata": {},
   "outputs": [],
   "source": [
    "# Creating empty lists for lemmas and pos -- we don't need to tokenize, since that has already been done\n",
    "lemmas = []\n",
    "pos = []\n",
    "\n",
    "for doc in nlp.pipe(cepa_df.Revised_Essay.astype('unicode').values):\n",
    "    lemmas.append([n.lemma_ for n in doc])\n",
    "    pos.append([(n, n.tag_) for n in doc])"
   ]
  },
  {
   "cell_type": "code",
   "execution_count": 58,
   "metadata": {},
   "outputs": [
    {
     "data": {
      "text/plain": [
       "['now', '-PRON-', 'tell', '-PRON-', 'why']"
      ]
     },
     "execution_count": 58,
     "metadata": {},
     "output_type": "execute_result"
    }
   ],
   "source": [
    "lemmas[0][:5]"
   ]
  },
  {
   "cell_type": "code",
   "execution_count": 59,
   "metadata": {},
   "outputs": [
    {
     "data": {
      "text/html": [
       "<div>\n",
       "<style scoped>\n",
       "    .dataframe tbody tr th:only-of-type {\n",
       "        vertical-align: middle;\n",
       "    }\n",
       "\n",
       "    .dataframe tbody tr th {\n",
       "        vertical-align: top;\n",
       "    }\n",
       "\n",
       "    .dataframe thead th {\n",
       "        text-align: right;\n",
       "    }\n",
       "</style>\n",
       "<table border=\"1\" class=\"dataframe\">\n",
       "  <thead>\n",
       "    <tr style=\"text-align: right;\">\n",
       "      <th></th>\n",
       "      <th>Filename</th>\n",
       "      <th>Level</th>\n",
       "      <th>Original_Text</th>\n",
       "      <th>Normalized_Essay</th>\n",
       "      <th>Revised_Essay</th>\n",
       "      <th>tokens</th>\n",
       "      <th>token_count</th>\n",
       "      <th>TTR</th>\n",
       "      <th>Guiraud</th>\n",
       "      <th>pos</th>\n",
       "      <th>lemmas</th>\n",
       "    </tr>\n",
       "  </thead>\n",
       "  <tbody>\n",
       "    <tr>\n",
       "      <th>0</th>\n",
       "      <td>200607296</td>\n",
       "      <td>3</td>\n",
       "      <td>\\t\\t\\t\\tCEPA 3 200607296\\n\\n\\n\\nNow I tell you...</td>\n",
       "      <td>Now I tell you why my worst holiday ever in th...</td>\n",
       "      <td>Now I tell you why my worst holiday ever in th...</td>\n",
       "      <td>[Now, I, tell, you, why, my, worst, holiday, e...</td>\n",
       "      <td>207</td>\n",
       "      <td>0.492754</td>\n",
       "      <td>7.089490</td>\n",
       "      <td>[(Now, RB), (I, PRP), (tell, VBP), (you, PRP),...</td>\n",
       "      <td>[now, -PRON-, tell, -PRON-, why, -PRON-, bad, ...</td>\n",
       "    </tr>\n",
       "    <tr>\n",
       "      <th>1</th>\n",
       "      <td>200607457</td>\n",
       "      <td>4</td>\n",
       "      <td>\\t\\t\\t\\tCEPA 4 200607457\\n\\n\\n\\n              ...</td>\n",
       "      <td>My worst holiday Last year I have just had the...</td>\n",
       "      <td>My worst holiday Last year I have just had the...</td>\n",
       "      <td>[My, worst, holiday, Last, year, I, have, just...</td>\n",
       "      <td>180</td>\n",
       "      <td>0.572222</td>\n",
       "      <td>7.677167</td>\n",
       "      <td>[(My, PRP$), (worst, JJS), (holiday, NN), (Las...</td>\n",
       "      <td>[-PRON-, bad, holiday, last, year, -PRON-, hav...</td>\n",
       "    </tr>\n",
       "    <tr>\n",
       "      <th>2</th>\n",
       "      <td>200600487</td>\n",
       "      <td>5</td>\n",
       "      <td>\\t\\t\\t\\tCEPA 5 200600487\\n\\n\\n\\n\\nEvery body i...</td>\n",
       "      <td>Every body in this life have a favourite posse...</td>\n",
       "      <td>Every body in this life have a favourite posse...</td>\n",
       "      <td>[Every, body, in, this, life, have, a, favouri...</td>\n",
       "      <td>229</td>\n",
       "      <td>0.445415</td>\n",
       "      <td>6.740350</td>\n",
       "      <td>[(Every, DT), (body, NN), (in, IN), (this, DT)...</td>\n",
       "      <td>[every, body, in, this, life, have, a, favouri...</td>\n",
       "    </tr>\n",
       "    <tr>\n",
       "      <th>3</th>\n",
       "      <td>200608016</td>\n",
       "      <td>4</td>\n",
       "      <td>\\t\\t\\t\\tCEPA 4 200608016\\n\\n\\n\\nEvery body hav...</td>\n",
       "      <td>Every body have a lot ofpossessions in this li...</td>\n",
       "      <td>Every body have a lot ofpossessions in this li...</td>\n",
       "      <td>[Every, body, have, a, lot, ofpossessions, in,...</td>\n",
       "      <td>156</td>\n",
       "      <td>0.608974</td>\n",
       "      <td>7.606087</td>\n",
       "      <td>[(Every, DT), (body, NN), (have, VBP), (a, DT)...</td>\n",
       "      <td>[every, body, have, a, lot, ofpossession, in, ...</td>\n",
       "    </tr>\n",
       "    <tr>\n",
       "      <th>4</th>\n",
       "      <td>200611825</td>\n",
       "      <td>1</td>\n",
       "      <td>\\t\\t\\t\\tCEPA 1 200611825\\n\\n\\n\\nyou go in the ...</td>\n",
       "      <td>you go in the oman just had the perfect holida...</td>\n",
       "      <td>you go in the oman just had the perfect holida...</td>\n",
       "      <td>[you, go, in, the, oman, just, had, the, perfe...</td>\n",
       "      <td>27</td>\n",
       "      <td>0.629630</td>\n",
       "      <td>3.271652</td>\n",
       "      <td>[(you, PRP), (go, VBP), (in, IN), (the, DT), (...</td>\n",
       "      <td>[-PRON-, go, in, the, oman, just, have, the, p...</td>\n",
       "    </tr>\n",
       "  </tbody>\n",
       "</table>\n",
       "</div>"
      ],
      "text/plain": [
       "    Filename Level                                      Original_Text  \\\n",
       "0  200607296     3  \\t\\t\\t\\tCEPA 3 200607296\\n\\n\\n\\nNow I tell you...   \n",
       "1  200607457     4  \\t\\t\\t\\tCEPA 4 200607457\\n\\n\\n\\n              ...   \n",
       "2  200600487     5  \\t\\t\\t\\tCEPA 5 200600487\\n\\n\\n\\n\\nEvery body i...   \n",
       "3  200608016     4  \\t\\t\\t\\tCEPA 4 200608016\\n\\n\\n\\nEvery body hav...   \n",
       "4  200611825     1  \\t\\t\\t\\tCEPA 1 200611825\\n\\n\\n\\nyou go in the ...   \n",
       "\n",
       "                                    Normalized_Essay  \\\n",
       "0  Now I tell you why my worst holiday ever in th...   \n",
       "1  My worst holiday Last year I have just had the...   \n",
       "2  Every body in this life have a favourite posse...   \n",
       "3  Every body have a lot ofpossessions in this li...   \n",
       "4  you go in the oman just had the perfect holida...   \n",
       "\n",
       "                                       Revised_Essay  \\\n",
       "0  Now I tell you why my worst holiday ever in th...   \n",
       "1  My worst holiday Last year I have just had the...   \n",
       "2  Every body in this life have a favourite posse...   \n",
       "3  Every body have a lot ofpossessions in this li...   \n",
       "4  you go in the oman just had the perfect holida...   \n",
       "\n",
       "                                              tokens  token_count       TTR  \\\n",
       "0  [Now, I, tell, you, why, my, worst, holiday, e...          207  0.492754   \n",
       "1  [My, worst, holiday, Last, year, I, have, just...          180  0.572222   \n",
       "2  [Every, body, in, this, life, have, a, favouri...          229  0.445415   \n",
       "3  [Every, body, have, a, lot, ofpossessions, in,...          156  0.608974   \n",
       "4  [you, go, in, the, oman, just, had, the, perfe...           27  0.629630   \n",
       "\n",
       "    Guiraud                                                pos  \\\n",
       "0  7.089490  [(Now, RB), (I, PRP), (tell, VBP), (you, PRP),...   \n",
       "1  7.677167  [(My, PRP$), (worst, JJS), (holiday, NN), (Las...   \n",
       "2  6.740350  [(Every, DT), (body, NN), (in, IN), (this, DT)...   \n",
       "3  7.606087  [(Every, DT), (body, NN), (have, VBP), (a, DT)...   \n",
       "4  3.271652  [(you, PRP), (go, VBP), (in, IN), (the, DT), (...   \n",
       "\n",
       "                                              lemmas  \n",
       "0  [now, -PRON-, tell, -PRON-, why, -PRON-, bad, ...  \n",
       "1  [-PRON-, bad, holiday, last, year, -PRON-, hav...  \n",
       "2  [every, body, in, this, life, have, a, favouri...  \n",
       "3  [every, body, have, a, lot, ofpossession, in, ...  \n",
       "4  [-PRON-, go, in, the, oman, just, have, the, p...  "
      ]
     },
     "execution_count": 59,
     "metadata": {},
     "output_type": "execute_result"
    }
   ],
   "source": [
    "cepa_df['pos'] = pos\n",
    "cepa_df['lemmas'] = lemmas\n",
    "cepa_df.head()"
   ]
  },
  {
   "cell_type": "markdown",
   "metadata": {},
   "source": [
    "Now we need to take a closer look at the lemmas... Our lemma list is nested, so we'll need to flatten it first."
   ]
  },
  {
   "cell_type": "code",
   "execution_count": 60,
   "metadata": {},
   "outputs": [
    {
     "data": {
      "text/plain": [
       "['now', '-PRON-', 'tell', '-PRON-', 'why', '-PRON-', 'bad', 'holiday', 'ever', 'in', 'the', 'last', 'summer', '-PRON-', 'went', 'withe', '-PRON-', 'family', 'in', 'the', 'india', 'and', 'this', 'story', '-PRON-', 'will', 'tell', '-PRON-', 'what', 'happen', 'for', 'the', 'short', 'story', 'when', '-PRON-', 'go', 'the', 'first', 'the', 'weathe', 'be', 'very', 'very', 'rain', 'now', 'bady', 'for', 'the', 'child', 'play', 'out', 'when', '-PRON-', 'go', 'in', 'the', 'hotel', 'all', 'may', 'family', 'be', 'have', 'the', 'headk', 'in', 'there', 'and', 'all', 'be', 'sleep', 'put', 'for', '-PRON-', '-PRON-', 'can;t', 'sleep', 'because', '-PRON-', 'not', 'love', 'the', 'area', 'in', 'the', 'morning', 'all', 'the', '-PRON-', 'family', 'weak', 'up', 'and', 'go', 'irant', 'but', 'be', 'the', 'stree', ',', 'child', 'and', 'the', 'food', 'be', 'very', 'dearty', 'earia', '-PRON-', 'not', 'like', 'becuse', 'be', 'not', 'nice', 'area', 'so', 'darty', 'and', 'people', 'there', 'be', 'not', 'nice', 'all', 'there', 'have', 'not', 'happy', 'only', 'sawted', 'for', '-PRON-', 'sister', 'whem', '-PRON-', 'take', 'some', 'flower', 'for', 'the', 'mam', 'and', 'also', 'when', '-PRON-', 'there', '-PRON-', 'see', 'what', '-PRON-', 'mean', 'maby', 'some', 'body', 'like', 'go', 'ther', 'but', 'for', '-PRON-', 'do', 'not', 'like', 'and', 'for', 'what', 'happand', '-PRON-', 'tell', 'for', '-PRON-', 'family', '-PRON-', 'want', 'to', 'go', 'in', '-PRON-', 'country', '-PRON-', 'do', 'not', 'like', '-PRON-', 'fainally', '-PRON-', 'want', 'tell', 'for', 'hem', 'why', '-PRON-', 'earea', 'like', 'the', '-PRON-', 'shold', 'clean', 'and', '-PRON-', 'people', 'so', 'nerve', '...']"
      ]
     },
     "execution_count": 60,
     "metadata": {},
     "output_type": "execute_result"
    },
    {
     "data": {
      "text/plain": [
       "['-PRON-', 'bad', 'holiday', 'last', 'year', '-PRON-', 'have', 'just', 'have', 'the', 'bad', 'holiday', 'ever', '.', '-PRON-', 'be', 'too', 'board', '.', '-PRON-', 'lonely', 'sister', 'have', 'get', 'marry', '.', '-PRON-', 'be', 'make', '-PRON-', 'laugh', 'and', 'play', 'with', '-PRON-', '.', 'but', 'now', 'i`m', 'alone', 'with', '-PRON-', 'male', 'brother', '.', '-PRON-', 'can', 'not', 'stand', '-PRON-', '-PRON-', 'be', 'too', 'noisy', '.', 'in', 'the', 'spring', 'holiday', '-PRON-', 'brother', 'and', '-PRON-', 'travel', 'to', 'australia', 'with', '-PRON-', 'parent', '.', '-PRON-', 'be', 'really', 'great', 'and', 'nice', 'place', ',', 'but', '-PRON-', 'didn`t', 'enjoy', '-PRON-', 'because', 'no', 'girl', 'be', 'with', '-PRON-', '.', '-PRON-', 'ask', '-PRON-', 'cousin', 'to', 'come', 'with', '-PRON-', 'but', '-PRON-', 'refuse', 'that', 'because', '-PRON-', 'join', 'a', 'sport', 'club', '.there', 'be', 'alot', 'of', 'strange', 'animal', '.', '-PRON-', 'brother', 'be', 'take', 'photoe', 'for', 'the', 'animal', 'and', '-PRON-', 'be', 'too', 'board', '.', '-PRON-', 'be', 'walk', 'like', 'a', 'sick', 'person', '.', '-PRON-', 'hat', '-PRON-', 'self', 'and', 'pray', 'to', 'go', 'back', 'to', '-PRON-', 'country', 'to', 'see', '-PRON-', 'sister', '.', '-PRON-', 'miss', '-PRON-', 'so', 'much', '.', 'after', 'few', 'day', '-PRON-', 'come', 'back', 'home', 'then', '-PRON-', 'become', 'the', 'happy', 'person', 'in', 'the', 'world', '.']"
      ]
     },
     "execution_count": 60,
     "metadata": {},
     "output_type": "execute_result"
    }
   ],
   "source": [
    "# Making a small version of lemmas\n",
    "small = lemmas[:3]\n",
    "small[0]\n",
    "small[1]"
   ]
  },
  {
   "cell_type": "code",
   "execution_count": 61,
   "metadata": {},
   "outputs": [
    {
     "data": {
      "text/plain": [
       "'now'"
      ]
     },
     "execution_count": 61,
     "metadata": {},
     "output_type": "execute_result"
    },
    {
     "data": {
      "text/plain": [
       "['now', '-PRON-', 'tell', '-PRON-', 'why', '-PRON-', 'bad', 'holiday', 'ever', 'in', 'the', 'last', 'summer', '-PRON-', 'went', 'withe', '-PRON-', 'family', 'in', 'the', 'india', 'and', 'this', 'story', '-PRON-', 'will', 'tell', '-PRON-', 'what', 'happen', 'for', 'the', 'short', 'story', 'when', '-PRON-', 'go', 'the', 'first', 'the', 'weathe', 'be', 'very', 'very', 'rain', 'now', 'bady', 'for', 'the', 'child', 'play', 'out', 'when', '-PRON-', 'go', 'in', 'the', 'hotel', 'all', 'may', 'family', 'be', 'have', 'the', 'headk', 'in', 'there', 'and', 'all', 'be', 'sleep', 'put', 'for', '-PRON-', '-PRON-', 'can;t', 'sleep', 'because', '-PRON-', 'not', 'love', 'the', 'area', 'in', 'the', 'morning', 'all', 'the', '-PRON-', 'family', 'weak', 'up', 'and', 'go', 'irant', 'but', 'be', 'the', 'stree', ',']"
      ]
     },
     "execution_count": 61,
     "metadata": {},
     "output_type": "execute_result"
    }
   ],
   "source": [
    "# checking that this is flat\n",
    "small_flat = [x for y in small for x in y]\n",
    "small_flat[0]\n",
    "small_flat[:100]"
   ]
  },
  {
   "cell_type": "code",
   "execution_count": 62,
   "metadata": {},
   "outputs": [
    {
     "data": {
      "text/plain": [
       "['now', '-PRON-', 'tell', '-PRON-', 'why', '-PRON-', 'bad', 'holiday', 'ever', 'in', 'the', 'last', 'summer', '-PRON-', 'went', 'withe', '-PRON-', 'family', 'in', 'the', 'india', 'and', 'this', 'story', '-PRON-', 'will', 'tell', '-PRON-', 'what', 'happen', 'for', 'the', 'short', 'story', 'when', '-PRON-', 'go', 'the', 'first', 'the', 'weathe', 'be', 'very', 'very', 'rain', 'now', 'bady', 'for', 'the', 'child', 'play', 'out', 'when', '-PRON-', 'go', 'in', 'the', 'hotel', 'all', 'may', 'family', 'be', 'have', 'the', 'headk', 'in', 'there', 'and', 'all', 'be', 'sleep', 'put', 'for', '-PRON-', '-PRON-', 'can;t', 'sleep', 'because', '-PRON-', 'not', 'love', 'the', 'area', 'in', 'the', 'morning', 'all', 'the', '-PRON-', 'family', 'weak', 'up', 'and', 'go', 'irant', 'but', 'be', 'the', 'stree', ',']"
      ]
     },
     "execution_count": 62,
     "metadata": {},
     "output_type": "execute_result"
    },
    {
     "data": {
      "text/plain": [
       "267270"
      ]
     },
     "execution_count": 62,
     "metadata": {},
     "output_type": "execute_result"
    }
   ],
   "source": [
    "# throwing out essays lower than 6 tokens \n",
    "filtered = (cepa_df.token_count >= 6)\n",
    "\n",
    "# flattening all of the lemmas - this will include punctuation and -PRON-\n",
    "all_lemmas_flat = [x for y in cepa_df[filtered].lemmas for x in y]\n",
    "all_lemmas_flat[:100]\n",
    "len(all_lemmas_flat)"
   ]
  },
  {
   "cell_type": "code",
   "execution_count": 63,
   "metadata": {},
   "outputs": [
    {
     "data": {
      "text/plain": [
       "'!\"#$%&\\'()*+,-./:;<=>?@[\\\\]^_`{|}~'"
      ]
     },
     "execution_count": 63,
     "metadata": {},
     "output_type": "execute_result"
    }
   ],
   "source": [
    "# importing string to throw out punctuation from lemmas\n",
    "import string\n",
    "string.punctuation"
   ]
  },
  {
   "cell_type": "code",
   "execution_count": 64,
   "metadata": {},
   "outputs": [
    {
     "data": {
      "text/plain": [
       "['now', '-PRON-', 'tell', '-PRON-', 'why', '-PRON-', 'bad', 'holiday', 'ever', 'in', 'the', 'last', 'summer', '-PRON-', 'went', 'withe', '-PRON-', 'family', 'in', 'the', 'india', 'and', 'this', 'story', '-PRON-', 'will', 'tell', '-PRON-', 'what', 'happen', 'for', 'the', 'short', 'story', 'when', '-PRON-', 'go', 'the', 'first', 'the', 'weathe', 'be', 'very', 'very', 'rain', 'now', 'bady', 'for', 'the', 'child', 'play', 'out', 'when', '-PRON-', 'go', 'in', 'the', 'hotel', 'all', 'may', 'family', 'be', 'have', 'the', 'headk', 'in', 'there', 'and', 'all', 'be', 'sleep', 'put', 'for', '-PRON-', '-PRON-', 'can;t', 'sleep', 'because', '-PRON-', 'not', 'love', 'the', 'area', 'in', 'the', 'morning', 'all', 'the', '-PRON-', 'family', 'weak', 'up', 'and', 'go', 'irant', 'but', 'be', 'the', 'stree', ',']"
      ]
     },
     "execution_count": 64,
     "metadata": {},
     "output_type": "execute_result"
    },
    {
     "data": {
      "text/plain": [
       "['now', 'tell', 'why', 'bad', 'holiday', 'ever', 'in', 'the', 'last', 'summer', 'went', 'withe', 'family', 'in', 'the', 'india', 'and', 'this', 'story', 'will', 'tell', 'what', 'happen', 'for', 'the', 'short', 'story', 'when', 'go', 'the', 'first', 'the', 'weathe', 'be', 'very', 'very', 'rain', 'now', 'bady', 'for', 'the', 'child', 'play', 'out', 'when', 'go', 'in', 'the', 'hotel', 'all', 'may', 'family', 'be', 'have', 'the', 'headk', 'in', 'there', 'and', 'all', 'be', 'sleep', 'put', 'for', 'can;t', 'sleep', 'because', 'not', 'love', 'the', 'area', 'in', 'the', 'morning', 'all', 'the', 'family', 'weak', 'up', 'and', 'go', 'irant', 'but', 'be', 'the', 'stree', 'child', 'and', 'the', 'food', 'be', 'very', 'dearty', 'earia', 'not', 'like', 'becuse', 'be', 'not', 'nice']"
      ]
     },
     "execution_count": 64,
     "metadata": {},
     "output_type": "execute_result"
    }
   ],
   "source": [
    "# creating an empty list \n",
    "filtered_lemmas_flat = []\n",
    "\n",
    "for lem in all_lemmas_flat:\n",
    "    if lem not in string.punctuation:  # ignoring punctuation\n",
    "        if lem != '-PRON-':            # ignoring -PRON-\n",
    "            filtered_lemmas_flat.append(lem)\n",
    "\n",
    "all_lemmas_flat[:100]\n",
    "filtered_lemmas_flat[:100]"
   ]
  },
  {
   "cell_type": "code",
   "execution_count": 65,
   "metadata": {
    "scrolled": false
   },
   "outputs": [
    {
     "data": {
      "text/plain": [
       "267270"
      ]
     },
     "execution_count": 65,
     "metadata": {},
     "output_type": "execute_result"
    },
    {
     "data": {
      "text/plain": [
       "208645"
      ]
     },
     "execution_count": 65,
     "metadata": {},
     "output_type": "execute_result"
    }
   ],
   "source": [
    "len(all_lemmas_flat)\n",
    "len(filtered_lemmas_flat)\n",
    "# So we lost about 60,000 lemmas"
   ]
  },
  {
   "cell_type": "code",
   "execution_count": 66,
   "metadata": {},
   "outputs": [
    {
     "data": {
      "text/plain": [
       "[('the', 13677), ('and', 10492), ('be', 10213), ('to', 8692), ('in', 6122), ('go', 4995), ('a', 3913), ('have', 2823), ('that', 2504), ('of', 2411), ('with', 2404), ('very', 2100), ('holiday', 2067), ('so', 1836), ('for', 1622), ('see', 1582), ('there', 1539), ('not', 1454), ('because', 1447), ('family', 1261), ('do', 1254), ('like', 1168), ('this', 1047), ('can', 1047), ('day', 1028), ('good', 1026), ('but', 994), ('time', 984), ('when', 977), ('all', 898), ('after', 874), ('bad', 863), ('father', 861), ('many', 857), ('on', 850), ('friend', 844), ('one', 788), ('place', 770), ('thing', 741), ('at', 730), ('play', 728), ('people', 724), ('take', 714), ('about', 644), ('will', 621), ('some', 611), ('last', 607), ('happy', 590), ('from', 588), ('ever', 580), ('spend', 580), ('sister', 572), ('nice', 559), ('get', 559), ('come', 555), ('summer', 553), ('wonderful', 550), ('mother', 526), ('also', 524), ('brother', 486), ('enjoy', 485), ('car', 485), ('love', 483), ('film', 471), ('back', 467), ('then', 467), ('visit', 467), ('al', 466), ('xxx', 463), ('what', 451), ('as', 451), ('life', 444), ('want', 437), ('make', 432), ('park', 431), ('by', 429), ('much', 427), ('hotel', 421), ('movie', 412), ('first', 406), ('just', 405), ('really', 401), ('home', 398), ('travel', 395), ('eat', 394), ('country', 391), ('big', 382), ('tell', 367), ('most', 366), ('beautiful', 363), ('which', 351), ('think', 350), ('weekend', 347), ('who', 345), ('stay', 343), ('an', 338), ('perfect', 337), ('dubai', 334), ('know', 330), ('oman', 327)]"
      ]
     },
     "execution_count": 66,
     "metadata": {},
     "output_type": "execute_result"
    }
   ],
   "source": [
    "# looking at a Frequency Distribution\n",
    "filtered_lemma_fd = nltk.FreqDist(filtered_lemmas_flat)\n",
    "filtered_lemma_fd.most_common(100)"
   ]
  },
  {
   "cell_type": "code",
   "execution_count": 67,
   "metadata": {},
   "outputs": [],
   "source": [
    "# making a smaller lemmas\n",
    "small_lemmas = filtered_lemma_fd.most_common(3000)\n",
    "\n",
    "# I couldn't make a pandas dataframe straight from small_lemmas\n",
    "balc_lemmas = [[(lem, count) for (lem, count) in small_lemmas]]"
   ]
  },
  {
   "cell_type": "code",
   "execution_count": 68,
   "metadata": {},
   "outputs": [
    {
     "data": {
      "text/plain": [
       "[[('the', 13677), ('and', 10492), ('be', 10213), ('to', 8692), ('in', 6122), ('go', 4995), ('a', 3913), ('have', 2823), ('that', 2504), ('of', 2411), ('with', 2404), ('very', 2100), ('holiday', 2067), ('so', 1836), ('for', 1622), ('see', 1582), ('there', 1539), ('not', 1454), ('because', 1447), ('family', 1261), ('do', 1254), ('like', 1168), ('this', 1047), ('can', 1047), ('day', 1028), ('good', 1026), ('but', 994), ('time', 984), ('when', 977), ('all', 898), ('after', 874), ('bad', 863), ('father', 861), ('many', 857), ('on', 850), ('friend', 844), ('one', 788), ('place', 770), ('thing', 741), ('at', 730), ('play', 728), ('people', 724), ('take', 714), ('about', 644), ('will', 621), ('some', 611), ('last', 607), ('happy', 590), ('from', 588), ('ever', 580), ('spend', 580), ('sister', 572), ('nice', 559), ('get', 559), ('come', 555), ('summer', 553), ('wonderful', 550), ('mother', 526), ('also', 524), ('brother', 486), ('enjoy', 485), ('car', 485), ('love', 483), ('film', 471), ('back', 467), ('then', 467), ('visit', 467), ('al', 466), ('xxx', 463), ('what', 451), ('as', 451), ('life', 444), ('want', 437), ('make', 432), ('park', 431), ('by', 429), ('much', 427), ('hotel', 421), ('movie', 412), ('first', 406), ('just', 405), ('really', 401), ('home', 398), ('travel', 395), ('eat', 394), ('country', 391), ('big', 382), ('tell', 367), ('most', 366), ('beautiful', 363), ('which', 351), ('think', 350), ('weekend', 347), ('who', 345), ('stay', 343), ('an', 338), ('perfect', 337), ('dubai', 334), ('know', 330), ('oman', 327), ('every', 320), ('where', 317), ('year', 315), ('city', 310), ('week', 308), ('start', 306), ('sea', 301), ('feel', 299), ('two', 295), ('next', 293), ('or', 291), ('other', 288), ('buy', 286), ('lot', 284), ('shopping', 282), ('call', 280), ('could', 278), ('out', 276), ('more', 269), ('mall', 268), ('food', 267), ('say', 267), ('help', 266), ('i', 265), ('no', 264), ('house', 260), ('watch', 255), ('weather', 253), ('ain', 252), ('would', 251), ('live', 251), ('look', 247), ('zoo', 246), ('school', 243), ('fun', 239), ('decide', 237), ('how', 234), ('any', 234), (\"'s\", 228), ('becouse', 220), (' ', 219), ('shop', 218), ('use', 217), ('why', 216), ('up', 215), ('london', 205), ('uae', 203), ('give', 203), ('finally', 201), ('..', 201), ('great', 199), ('arrive', 198), ('room', 196), ('find', 192), ('sleep', 188), ('animal', 188), ('world', 188), ('hour', 187), ('way', 185), ('football', 185), ('old', 183), ('story', 182), ('work', 179), ('happen', 172), ('talk', 172), ('sad', 172), ('trip', 171), ('if', 170), ('new', 167), ('swim', 167), ('beach', 165), ('small', 164), ('game', 163), ('airport', 161), ('always', 160), ('end', 160), ('finish', 157), ('man', 157), ('now', 156), ('hope', 155), ('walk', 154), ('forget', 154), ('than', 151), ('alain', 149), ('india', 148), ('only', 148), ('topic', 147), ('ask', 144), ('uncle', 142), ('too', 139), ('frind', 139), ('night', 139), ('should', 138), ('before', 136), ('swimming', 135), ('never', 134), ('clothe', 131), ('favourite', 130), ('try', 130), ('plan', 130), ('reach', 129), ('water', 125), ('morning', 124), ('important', 124), ('hot', 123), ('mather', 122), ('learn', 121), ('book', 121), ('three', 121), ('possession', 120), ('bag', 120), ('wait', 120), ('child', 119), ('need', 119), ('computer', 119), ('may', 118), ('such', 118), ('set', 118), ('girl', 117), ('again', 116), ('read', 116), ('describe', 115), ('hospital', 115), ('leave', 113), ('long', 113), ('plane', 112), ('lunch', 112), ('keep', 109), ('another', 109), ('well', 109), ('problem', 109), ('meet', 108), ('vacation', 108), ('while', 107), ('different', 107), ('ther', 106), ('around', 106), ('parent', 104), ('name', 104), ('become', 103), ('2', 103), ('gift', 102), ('write', 101), ('cry', 100), ('wish', 99), ('sit', 99), ('amazing', 99), ('mountain', 98), ('kind', 98), ('grand', 98), ('tired', 98), ('green', 97), ('person', 96), ('stop', 96), ('these', 96), ('cinema', 96), ('body', 95), ('cousin', 95), ('holidy', 95), ('over', 94), ('die', 94), ('something', 93), ('move', 93), ('everything', 93), ('didn`t', 92), ('center', 92), ('tree', 91), ('run', 91), ('month', 90), ('near', 90), ('show', 89), ('imagine', 89), ('put', 88), ('picture', 87), ('little', 87), ('even', 87), ('idea', 87), ('cold', 86), ('reason', 85), ('street', 85), ('rest', 84), ('same', 84), ('without', 83), ('remember', 83), ('dinner', 83), ('each', 83), ('full', 82), ('interesting', 80), ('hand', 80), ('desert', 80), ('second', 78), ('fish', 78), ('whole', 78), ('study', 78), ('club', 77), ('lose', 77), ('3', 77), ('return', 76), ('anything', 75), ('rain', 74), ('alot', 74), ('sick', 74), ('abu', 73), ('face', 72), ('actor', 72), ('egypt', 72), ('it`s', 71), ('must', 71), ('down', 71), ('relax', 71), ('lovely', 70), ('grandmother', 70), ('since', 69), ('here', 69), ('change', 69), ('until', 68), ('pass', 68), ('famous', 68), ('during', 68), ('sharjah', 68), ('self', 67), ('english', 67), ('france', 67), ('boy', 67), ('s', 66), ('hear', 66), ('ball', 66), ('police', 66), ('few', 65), ('away', 65), ('together', 65), ('activity', 64), ('drive', 64), ('sport', 63), ('firstly', 63), ('avery', 63), ('brather', 63), ('withe', 61), ('don`t', 59), ('.i', 59), ('prepare', 58), ('paris', 58), ('god', 58), ('doctor', 58), ('cook', 58), ('five', 58), ('money', 58), ('into', 58), ('recently', 58), ('ago', 57), ('pool', 57), ('exam', 57), ('bring', 57), ('dream', 57), ('although', 56), ('dhabi', 56), ('thank', 56), ('part', 56), ('fall', 56), ('foot', 55), ('land', 55), ('grandfather', 55), ('wake', 55), ('area', 54), ('break', 54), ('fast', 54), ('hard', 54), ('beatiful', 54), ('malaysia', 54), ('everyone', 53), ('clean', 52), ('moreover', 52), ('bird', 52), ('iam', 52), ('head', 52), ('bed', 52), ('camel', 52), ('moment', 52), ('alone', 51), ('care', 51), ('relative', 51), ('b', 51), ('kill', 51), ('woman', 51), ('phone', 51), ('i`m', 50), ('becous', 50), ('aunt', 50), ('drink', 50), ('view', 50), ('museum', 49), ('funny', 49), ('resturant', 49), ('still', 49), ('air', 49), ('freind', 49), ('course', 49), ('own', 48), ('experience', 48), ('indian', 48), ('ali', 48), ('early', 48), ('however', 48), ('5', 48), ('open', 48), ('begin', 48), ('sun', 47), ('flight', 47), ('young', 47), ('win', 47), ('pray', 46), ('special', 46), ('accident', 46), ('star', 46), ('off', 46), ('party', 46), ('dad', 46), ('past', 46), ('ready', 45), ('passport', 45), ('huge', 45), ('opinion', 45), ('side', 45), ('germany', 45), ('let', 44), ('cool', 44), ('soon', 44), ('mobile', 44), ('road', 44), ('england', 44), ('wear', 44), ('order', 44), ('flower', 43), ('th', 43), ('sky', 43), ('ticket', 43), ('advise', 43), ('between', 43), ('town', 43), ('group', 43), ('minute', 43), ('internet', 42), ('high', 42), ('lion', 42), ('fire', 42), ('addition', 42), ('australia', 41), ('speak', 41), ('journey', 41), ('taxi', 41), ('u.a.e', 41), ('dress', 41), ('through', 41), ('sand', 41), ('salalah', 41), ('eye', 41), ('war', 41), ('mean', 40), ('under', 40), ('playing', 40), ('fill', 40), ('turn', 40), ('station', 40), ('believe', 39), ('ride', 39), ('far', 39), ('free', 39), ('history', 39), ('word', 39), ('teacher', 39), ('exciting', 38), ('ice', 38), ('excited', 38), ('happend', 38), ('frend', 38), ('later', 38), ('outside', 38), ('train', 38), ('main', 38), ('thailand', 38), ('culture', 38), ('picnic', 38), ('building', 37), ('example', 37), ('fantastic', 37), ('snow', 37), ('island', 37), ('enter', 37), ('italy', 37), ('fact', 37), ('late', 37), ('useful', 36), ('once', 36), ('usually', 36), ('seem', 36), ('tent', 36), ('camera', 36), ('close', 36), ('heart', 36), ('wife', 36), ('sow', 36), ('photo', 35), ('both', 35), ('along', 35), ('bark', 35), ('befor', 35), ('market', 35), ('wen', 35), ('lake', 35), ('eygpt', 35), ('laugh', 34), ('miss', 34), ('breakfast', 34), ('check', 34), ('tower', 34), ('river', 34), ('information', 34), ('ring', 34), ('poor', 34), ('pm', 33), ('vere', 33), ('angry', 33), ('wrong', 33), ('son', 33), ('choose', 33), ('shout', 33), ('mind', 33), ('…', 33), ('farm', 33), ('real', 33), ('student', 33), ('.and', 33), ('boring', 33), ('becuse', 32), ('join', 32), ('afraid', 32), ('feeling', 32), ('evening', 32), ('bus', 32), ('four', 32), ('agree', 32), ('comfortable', 32), ('those', 32), ('store', 32), ('build', 32), ('4', 32), ('boat', 32), ('tv', 32), ('modern', 32), ('horse', 31), ('secondly', 31), ('village', 31), ('m', 31), ('.we', 31), ('hoilday', 31), ('2005', 31), ('birthday', 31), ('driver', 31), ('send', 31), ('site', 31), ('right', 31), ('teach', 31), ('favorite', 31), ('nature', 31), ('becaus', 31), ('top', 31), ('...', 30), ('stand', 30), ('job', 30), ('vist', 30), ('catch', 30), ('bout', 30), ('.the', 30), ('ahmed', 30), ('cover', 30), ('steal', 30), ('cat', 30), ('advice', 30), ('match', 30), ('swam', 30), ('vary', 30), ('fly', 30), ('tall', 30), ('memory', 30), ('lebanon', 30), ('capital', 29), ('bay', 29), ('camp', 29), ('till', 29), ('large', 29), ('search', 29), ('fine', 29), ('ship', 29), ('fathe', 29), ('present', 29), ('invite', 29), ('king', 29), ('can`t', 29), ('.after', 29), ('sometimes', 29), ('fight', 29), ('enjoyable', 28), ('chance', 28), ('wonder', 28), ('rome', 28), ('1', 28), ('restaurant', 28), ('leg', 28), ('arab', 28), ('dog', 28), ('usa', 28), ('finsh', 27), ('camping', 27), ('nothing', 27), ('cam', 27), ('hafeet', 27), ('verey', 27), ('expect', 27), ('sweet', 27), ('chat', 26), ('strong', 26), ('kid', 26), ('surprise', 26), ('instead', 26), ('inside', 26), ('meat', 26), ('third', 26), ('shoe', 26), ('death', 26), ('mom', 26), ('realy', 26), ('baby', 26), ('suddenly', 25), ('10', 25), ('anice', 25), ('someone', 25), ('syria', 25), ('japan', 25), ('arabia', 25), ('matter', 25), ('finaly', 25), ('frand', 25), ('beatch', 25), ('wonderfull', 25), ('toke', 25), ('familly', 25), ('maybe', 25), ('ok', 25), ('oh', 25), ('butiful', 25), ('blue', 25), ('interst', 25), ('laptop', 24), ('famly', 24), ('travell', 24), ('discover', 24), ('sure', 24), ('quality', 24), ('t', 24), ('friendly', 24), ('thi', 24), ('tow', 24), ('dark', 24), ('door', 24), ('news', 24), ('ten', 24), ('anyone', 24), ('couple', 24), ('music', 24), ('thier', 24), ('diving', 24), ('6', 24), ('diary', 24), ('afternoon', 24), ('wich', 23), ('conclusion', 23), ('taj', 23), ('lik', 23), ('rent', 23), ('dangerous', 23), ('mothe', 23), ('smile', 23), ('hold', 23), ('my', 23), ('event', 23), ('delicious', 23), ('nise', 23), ('hem', 22), ('hobby', 22), ('tour', 22), ('behind', 22), ('climb', 22), ('crowded', 22), ('abroad', 22), ('7', 22), ('fresh', 22), ('act', 22), ('action', 22), ('everyday', 22), ('u.a.e.', 22), ('quite', 22), ('scary', 22), ('wood', 22), ('.it', 22), ('pack', 22), ('seven', 22), ('pla', 22), ('plant', 22), ('carry', 22), ('complete', 22), ('almost', 22), ('remind', 22), ('mounten', 22), ('machine', 21), ('yet', 21), ('friends', 21), ('light', 21), ('contry', 21), ('cantry', 21), ('salala', 21), ('famliy', 21), ('enough', 21), ('america', 21), ('clear', 21), ('today', 21), ('able', 21), ('improve', 21), ('al-', 21), ('bear', 21), ('company', 21), ('save', 21), ('wondeful', 21), ('role', 21), ('terrible', 21), ('historical', 21), ('marry', 20), ('hat', 20), ('share', 20), ('beutiful', 20), ('member', 20), ('winter', 20), ('hungry', 20), ('evil', 20), ('anywhere', 20), ('agood', 20), ('tourist', 20), ('qatar', 20), ('united', 20), ('am', 20), ('pick', 20), ('t.v', 20), ('saudi', 20), ('cray', 20), ('treat', 20), ('box', 20), (\"o'clock\", 20), ('draw', 20), ('seat', 20), ('short', 19), ('expensive', 19), ('team', 19), ('daughter', 19), ('listen', 19), ('luck', 19), ('quickly', 19), ('stress', 19), ('suggest', 19), ('feed', 19), ('dudai', 19), ('traditional', 19), ('garden', 19), ('maka', 19), ('evry', 19), ('peace', 19), ('lesson', 19), ('sunny', 19), ('hate', 19), ('europe', 19), ('theis', 19), ('kuwait', 19), ('festival', 19), ('true', 19), ('rid', 19), ('everybody', 19), ('wather', 19), ('harry', 19), ('fraind', 19), ('centre', 19), ('wedding', 19), ('nile', 19), ('tha', 19), ('spring', 18), ('reson', 18), ('future', 18), ('easy', 18), ('crowd', 18), ('meal', 18), ('sorry', 18), ('hatta', 18), ('cow', 18), ('stuff', 18), ('bored', 18), ('step', 18), ('normal', 18), ('comedy', 18), ('deal', 18), ('fruit', 18), ('gold', 18), ('especially', 18), ('joy', 18), ('though', 18), ('becase', 18), ('famile', 18), ('moll', 18), ('actually', 18), ('omra', 18), ('rich', 18), ('cartoon', 18), ('dirty', 18), ('famaly', 18), ('famely', 18), ('landan', 18), ('ski', 18), ('necklace', 18), ('strange', 17), ('language', 17), ('healthy', 17), ('throw', 17), ('husband', 17), ('wor', 17), ('include', 17), ('untill', 17), ('sara', 17), ('tierd', 17), ('intrest', 17), ('quran', 17), ('warm', 17), ('type', 17), ('contain', 17), ('forward', 17), ('hide', 17), ('art', 17), ('sell', 17), ('firend', 17), ('zayed', 17), ('crash', 17), ('china', 17), ('wether', 17), ('song', 17), ('personal', 17), ('heat', 17), ('black', 17), ('director', 17), ('tom', 17), ('troy', 17), ('board', 16), ('.my', 16), ('hop', 16), ('frin', 16), ('holeday', 16), ('paper', 16), ('least', 16), ('12', 16), ('point', 16), ('due', 16), ('already', 16), ('white', 16), ('natural', 16), ('thir', 16), ('situation', 16), ('wath', 16), ('realize', 16), ('simple', 16), ('pleace', 16), ('lady', 16), ('red', 16), ('sae', 16), ('sing', 16), ('notice', 16), ('italian', 16), ('ill', 16), ('library', 16), ('took', 16), ('brad', 16), ('peach', 16), ('switzerland', 16), ('bady', 15), ('fainally', 15), ('noisy', 15), ('cute', 15), ('please', 15), ('answer', 15), ('mahal', 15), ('fishing', 15), ('.in', 15), ('horrible', 15), ('scared', 15), ('policeman', 15), ('six', 15), ('pretty', 15), ('bat', 15), ('prefer', 15), ('cut', 15), ('toy', 15), ('gather', 15), ('snake', 15), ('dear', 15), ('dubia', 15), ('shocked', 15), ('n', 15), ('beuteful', 15), ('hang', 15), ('8', 15), ('letter', 15), ('ver', 15), ('cruise', 15), ('university', 15), ('beside', 15), ('unfortunately', 15), ('class', 15), ('test', 14), ('finesh', 14), ('summar', 14), ('wasn`t', 14), ('scene', 14), ('towards', 14), ('lie', 14), ('net', 14), ('blood', 14), ('beause', 14), ('busy', 14), ('sound', 14), ('cooking', 14), ('friday', 14), ('final', 14), ('.when', 14), ('bit', 14), ('understand', 14), ('traveld', 14), ('milan', 14), ('york', 14), ('san', 14), ('state', 14), ('holy', 14), ('kan', 14), ('essay', 14), (\"i'am\", 14), ('tiger', 14), ('treasure', 14), ('9', 14), ('belive', 14), ('filme', 14), ('frinde', 14), ('desart', 14), ('human', 14), ('monkey', 14), ('unhappy', 14), ('character', 14), ('consider', 14), ('pay', 14), ('sharja', 14), ('bake', 14), ('deny', 14), ('musiam', 14), ('muslim', 14), ('mecca', 14), ('floor', 14), ('create', 14), ('africa', 14), ('couldn`t', 14), ('form', 14), ('ksa', 14), ('writing', 13), ('mark', 13), ('mathe', 13), ('rice', 13), ('flat', 13), ('chocolate', 13), ('ar', 13), ('rush', 13), ('color', 13), ('sight', 13), ('disney', 13), ('adventure', 13), ('kaba', 13), ('case', 13), ('vegetable', 13), ('race', 13), ('suitcase', 13), ('prefect', 13), ('touch', 13), ('wither', 13), ('oll', 13), ('collect', 13), ('dubi', 13), ('ear', 13), ('health', 13), ('som', 13), ('soldier', 13), ('allah', 13), ('age', 13), ('roma', 13), ('shock', 13), ('travil', 13), ('mistake', 13), ('global', 13), ('pyramid', 13), ('ground', 13), ('amd', 13), ('togather', 13), ('robot', 13), ('subject', 13), ('elephant', 13), ('plase', 13), ('20', 13), ('remmber', 13), ('dead', 13), ('perfume', 13), ('geneva', 13), ('everywhere', 13), ('port', 13), ('protect', 13), ('nanny', 13), ('brothe', 13), ('half', 13), ('card', 12), ('beginning', 12), ('ajman', 12), ('video', 12), ('buteful', 12), ('line', 12), ('safe', 12), ('destination', 12), ('cost', 12), ('mosque', 12), ('rainy', 12), ('polite', 12), ('retern', 12), ('mohammed', 12), ('stai', 12), ('zoom', 12), ('habby', 12), ('bast', 12), ('japanese', 12), ('eventually', 12), ('madina', 12), ('guide', 12), ('hous', 12), ('hotil', 12), ('tradition', 12), ('number', 12), ('active', 12), ('cause', 12), ('nobody', 12), ('30', 12), ('soo', 12), ('jordan', 12), ('exactly', 12), ('mountin', 12), ('better', 12), ('exit', 12), ('gulf', 12), ('nd', 12), ('explore', 12), ('.also', 12), ('several', 12), ('diffrent', 12), ('speed', 12), ('restorant', 12), ('slalah', 12), ('thie', 12), ('pizza', 12), ('hottel', 12), ('ran', 12), ('theme', 12), ('mountine', 12), ('grandparent', 12), ('coll', 12), ('faimly', 12), ('criminal', 12), ('wiht', 12), ('happiness', 12), ('else', 12), ('middle', 12), ('photograph', 12), ('scream', 12), ('yo', 12), ('emirates', 12), ('wash', 12), ('fimaly', 12), ('leader', 12), ('ful', 12), ('solve', 12), ('beacuse', 12), ('sistar', 12), ('refuse', 11), ('forever', 11), ('wet', 11), ('mane', 11), ('blay', 11), ('helpful', 11), ('gran', 11), ('exercise', 11), ('moon', 11), ('traffic', 11), ('delicous', 11), ('surprised', 11), ('omrah', 11), ('makah', 11), ('childhood', 11), ('anth', 11), ('pain', 11), ('mention', 11), ('personality', 11), ('spot', 11), ('aftar', 11), ('butifull', 11), ('quit', 11), ('films', 11), ('tennis', 11), ('thise', 11), ('whenever', 11), ('forest', 11), ('breath', 11), ('secret', 11), ('hair', 11), ('bore', 11), ('that`s', 11), ('visite', 11), ('period', 11), ('precious', 11), ('education', 11), ('connect', 11), ('wat', 11), ('front', 11), ('funy', 11), ('wild', 11), ('table', 11), ('journy', 11), ('ras', 11), ('hurt', 11), ('entertainment', 11), ('respect', 11), ('happ', 11), ('cinter', 11), ('thim', 11), ('castle', 11), ('interested', 11), ('available', 11), ('bak', 11), ('effect', 11), ('frome', 11), ('iran', 11), ('cheap', 11), ('bracelet', 11), ('shape', 11), ('cream', 11), ('tripe', 11), ('worried', 11), ('result', 11), ('fail', 11), ('pen', 11), ('hole', 11), ('whith', 11), ('allow', 11), ('army', 11), ('gardan', 11), ('weak', 10), ('design', 10), ('surf', 10), ('relationship', 10), ('cepa', 10), ('loud', 10), ('their', 10), ('fort', 10), ('weakend', 10), ('fater', 10), ('holday', 10), ('shoop', 10), ('noise', 10), ('e', 10), ('worry', 10), ('thursday', 10), ('voice', 10), ('popular', 10), ('hyde', 10), ('ail', 10), ('grill', 10), ('welcome', 10), ('p.m.', 10), ('certain', 10), ('coold', 10), ('grow', 10), ('prison', 10), ('games', 10), ('airplane', 10), ('sadness', 10), ('continue', 10), ('homework', 10), ('rather', 10), ('deep', 10), ('importance', 10), ('bahrain', 10), ('surround', 10), ('meaning', 10), ('skill', 10), ('grass', 10), ('turkey', 10), ('aftr', 10), ('ant', 10), ('peaple', 10), ('cultural', 10), ('famouse', 10), ('wall', 10), ('ray', 10), ('therefore', 10), ('coffee', 10), ('develop', 10), ('w', 10), ('beg', 10), ('promise', 10), ('image', 10), ('frined', 10), ('dance', 10), ('sometime', 10), ('against', 10), ('pepole', 10), ('kong', 10), ('dry', 10), ('above', 10), ('magic', 10), ('rak', 10), ('french', 10), ('magnificent', 10), ('proud', 10), ('puteful', 10), ('smell', 10), ('magical', 10), ('malysia', 10), ('soudia', 10), ('secound', 10), ('badly', 10), ('mr', 10), ('salalh', 10), ('calm', 10), ('single', 10), ('anyway', 10), ('cenima', 10), ('date', 10), ('window', 10), ('peple', 10), ('jabal', 10), ('franch', 10), ('perant', 10), ('energy', 10), ('landen', 10), ('rohet', 10), ('weathe', 9), ('photoe', 9), ('trainer', 9), ('fit', 9), ('sester', 9), ('larg', 9), ('consist', 9), ('wind', 9), ('crazy', 9), ('sheet', 9), ('cinma', 9), ('tim', 9), ('bet', 9), ('infront', 9), ('mum', 9), ('intresting', 9), ('relaxing', 9), ('peaceful', 9), ('wer', 9), ('clock', 9), ('villa', 9), ('dive', 9), ('qater', 9), ('unte', 9), ('yes', 9), ('ariv', 9), ('pleased', 9), ('earth', 9), ('tailand', 9), ('joke', 9), ('count', 9), ('captain', 9), ('mool', 9), ('stud', 9), ('hourse', 9), ('uk', 9), ('coast', 9), ('nearly', 9), ('math', 9), ('desid', 9), ('manage', 9), ('guess', 9), ('daily', 9), ('fimly', 9), ('guy', 9), ('beauty', 9), ('saw', 9), ('july', 9), ('nightmare', 9), ('safa', 9), ('a.m.', 9), ('fathar', 9), ('lord', 9), ('lead', 9), ('ilike', 9), ('fatima', 9), ('littel', 9), ('taste', 9), ('note', 9), ('labtop', 9), ('tea', 9), ('wide', 9), ('saad', 9), ('cup', 9), ('50', 9), ('o', 9), ('cherish', 9), ('receive', 9), ('lock', 9), ('mona', 9), ('hit', 9), ('whit', 9), ('bathroom', 9), ('dabai', 9), ('colour', 9), ('question', 9), ('worst', 9), ('anew', 9), ('ben', 9), ('bank', 9), (\"i'v\", 9), ('cairo', 9), ('beautifull', 9), ('liwa', 9), ('communicate', 9), ('basketball', 9), ('lucky', 9), ('malls', 9), ('choice', 9), ('whatev', 9), ('becose', 9), ('bother', 9), ('footboll', 9), ('abad', 9), ('clup', 9), ('waste', 9), ('left', 9), ('ather', 9), ('tire', 9), ('sead', 9), ('anther', 9), ('fary', 9), ('chess', 9), ('drawing', 9), ('bin', 9), ('safari', 9), ('abig', 9), ('ahmad', 9), ('stick', 9), ('factory', 9), ('queen', 9), ('viset', 9), ('calendar', 9), ('went', 8), ('benefit', 8), ('skate', 8), ('sammar', 8), ('prath', 8), ('happe', 8), ('footbool', 8), ('blow', 8), ('explain', 8), ('locate', 8), ('wafi', 8), ('agra', 8), ('shoping', 8), ('mouse', 8), ('despite', 8), ('wher', 8), ('cloudy', 8), ('panic', 8), ('mama', 8), ('apark', 8), ('ocean', 8), ('mad', 8), ('easily', 8), ('luckily', 8), ('tird', 8), ('beutifull', 8), ('often', 8), ('states', 8), ('golden', 8), ('gate', 8), ('sunset', 8), ('fan', 8), ('drama', 8), ('international', 8), ('dig', 8), ('com', 8), ('eating', 8), ('poeple', 8), ('century', 8), ('alia', 8), ('sunday', 8), ('space', 8), ('tought', 8), ('restrant', 8), ('value', 8), ('either', 8), ('....', 8), ('imagin', 8), ('arabic', 8), ('item', 8), ('feature', 8), ('shore', 8), ('thire', 8), ('2004', 8), ('society', 8), ('summary', 8), ('vication', 8), ('cancer', 8), ('day`s', 8), ('maney', 8), ('rock', 8), ('beloved', 8), ('cancel', 8), ('actress', 8), ('base', 8), ('message', 8), ('attention', 8), ('accedent', 8), ('mail', 8), ('trap', 8), ('furthermore', 8), ('painting', 8), ('icecream', 8), ('besides', 8), ('chinese', 8), ('.so', 8), ('cd', 8), ('excellent', 8), ('plae', 8), ('among', 8), ('childern', 8), ('got', 8), ('imagination', 8), ('munich', 8), ('pink', 8), ('nowadays', 8), ('travl', 8), ('latifa', 8), ('iwent', 8), ('.they', 8), ('egyption', 8), ('wander', 8), ('hero', 8), ('immediately', 8), ('canter', 8), ('goto', 8), ('personally', 8), ('decied', 8), ('everytime', 8), ('awful', 8), ('t.v.', 8), ('.but', 8), ('ancient', 8), ('cusin', 8), ('clouth', 8), ('becue', 8), ('agine', 8), ('worke', 8), ('valuable', 8), ('apartment', 8), ('olso', 8), ('grade', 8), ('trouble', 8), ('tak', 8), ('mush', 8), ('accord', 8), ('kindly', 8), ('gam', 8), ('burn', 8), ('burj', 8), ('direct', 8), ('super', 8), ('aet', 8), ('fel', 8), ('pitt', 8), ('animel', 8), ('sa', 8), ('round', 8), ('admire', 8), ('nic', 8), ('musuem', 8), ('truly', 8), ('parke', 8), ('suppose', 8), ('windy', 8), ('climp', 8), ('.then', 8), ('jamie', 8), ('fever', 8), ('cousine', 8), ('safely', 8), ('dicid', 8), ('pest', 8), ('malisya', 8), ('felm', 8), ('ay', 8), ('fujairah', 8), ('pepol', 8), ('marina', 8), ('salem', 8), ('bike', 8), ('islam', 8), ('samurai', 8), ('dubiy', 8), ('jackson', 8), ('cood', 7), ('program', 7), ('programme', 7), ('10:00', 7), ('plea', 7), ('disappointed', 7), ('mostly', 7), ('omen', 7), ('.he', 7), ('punish', 7), ('freeze', 7), ('vaction', 7), ('entire', 7), ('11', 7), ('june', 7), ('slowly', 7), ('reading', 7), ('difficult', 7), ('duck', 7), ('except', 7), ('ruin', 7), ('thus', 7), ('chair', 7), ('ware', 7), ('statue', 7), ('haram', 7), ('kabah', 7), ('haj', 7), ('breeze', 7), ('wint', 7), ('mobail', 7), ('survive', 7), ('weird', 7), ('whom', 7), ('glass', 7), ('memorable', 7), ('battle', 7), ('alin', 7), ('whene', 7), ('witch', 7), ('goat', 7), ('duty', 7), ('anybody', 7), ('interest', 7), ('nem', 7), ('rare', 7), ('zoro', 7), ('describle', 7), ('smoll', 7), ('writ', 7), ('mounth', 7), ('frish', 7), ('specially', 7), ('wort', 7), ('sign', 7), ('wanderful', 7), ('bright', 7), ('sew', 7), ('upon', 7), ('ane', 7), ('goo', 7), ('monky', 7), ('document', 7), ('flay', 7), ('artist', 7), ('west', 7), ('romantic', 7), ('fat', 7), ('paly', 7), ('fotball', 7), ('cinama', 7), ('londen', 7), ('unique', 7), ('ending', 7), ('historic', 7), ('quiet', 7), ('unfortunatly', 7), ('thes', 7), ('gear', 7), ('injoy', 7), ('petrol', 7), ('fantastk', 7), ('destroy', 7), ('jail', 7), ('shower', 7), ('r', 7), ('milk', 7), ('ate', 7), ('igo', 7), ('bool', 7), ('mathar', 7), ('nervous', 7), ('beco', 7), ('staff', 7), ('fry', 7), ('17', 7), ('anti', 7), ('illness', 7), ('hug', 7), ('gain', 7), ('a.m', 7), ('se', 7), ('power', 7), ('maid', 7), ('won`t', 7), ('fountain', 7), ('amaiz', 7), ('corner', 7), ('jump', 7), ('happily', 7), ('fo', 7), ('rubbish', 7), ('fantasy', 7), ('fourth', 7), ('tournament', 7), ('cross', 7), ('force', 7), ('stone', 7), ('ibn', 7), ('mountian', 7), ('musium', 7), ('londan', 7), ('hill', 7), ('tear', 7), ('extra', 7), ('lanch', 7), ('inthe', 7), ('classic', 7), ('indai', 7), ('marwa', 7), ('mol', 7), ('hom', 7), ('nine', 7), ('perfact', 7), ('wok', 7), ('hurry', 7), ('mach', 7), ('hyena', 7), ('divide', 7), ('sydney', 7), ('alon', 7), ('empty', 7), ('thirdly', 7), ('egept', 7), ('favourit', 7), ('alkuwit', 7), ('desk', 7), ('luggage', 7), ('follow', 7), ('magine', 7), ('hapy', 7), ('cloth', 7), ('maryam', 7), ('cinima', 7), ('cantre', 7), ('pocket', 7), ('shooping', 7), ('treatment', 7), ('rise', 7), ('vecation', 7), ('none', 7), ('beautifal', 7), ('lay', 7), ('storm', 7), ('belgium', 7), ('prize', 7), ('operation', 7), ('hamda', 7), ('size', 7), ('john', 7), ('apple', 7), ('ha', 7), ('verry', 7), ('donkey', 7), ('service', 7), ('whe', 7), ('possesion', 7), ('veer', 7), ('zara', 7), ('mam', 6), ('introduce', 6), ('skating', 6), ('wednesday', 6), ('ot', 6), ('mahel', 6), ('travill', 6), ('landon', 6), ('slala', 6), ('scare', 6), ('climate', 6), ('shot', 6), ('hospitel', 6), ('kick', 6), ('condition', 6), ('within', 6), ('piece', 6), ('extremely', 6), ('incident', 6), ('sail', 6), ('amna', 6), ('bough', 6), ('amazed', 6), ('location', 6), ('aday', 6), ('electronic', 6), ('wit', 6), ('hose', 6), ('farther', 6), ('ime', 6), ('geisha', 6), ('friendship', 6), ('fascinating', 6), ('gorgeous', 6), ('recommend', 6), ('organize', 6), ('neer', 6), ('unknown', 6), ('freedom', 6), ('revenge', 6), ('yesterday', 6), ('hav', 6), ('globe', 6), ('gun', 6), (\"did'nt\", 6), ('heavy', 6), ('fear', 6), ('18', 6), ('award', 6), ('comfort', 6), ('sudenly', 6), ('hert', 6), ('anb', 6), ('realise', 6), ('increase', 6), ('delay', 6), ('august', 6), ('farend', 6), ('maha', 6), ('palm', 6), ('skiing', 6), ('colorful', 6), ('church', 6), ('prophet', 6), ('grandmather', 6), ('2006', 6), ('drop', 6), ('doubt', 6), ('writer', 6), ('appear', 6), ('grab', 6), ('sum', 6), ('amany', 6), ('criy', 6), ('hotal', 6), ('sort', 6), ('‘', 6), ('thin', 6), ('hoppy', 6), ('d', 6), ('simply', 6), ('lack', 6), ('freand', 6), ('opportunity', 6), ('bedroom', 6), ('control', 6), ('generation', 6), ('dancing', 6), ('player', 6), ('basket', 6), ('unt', 6), ('preper', 6), ('unless', 6), ('12:00', 6), ('famlay', 6), ('potter', 6), ('cent', 6), ('sik', 6), ('push', 6), ('judge', 6), ('eager', 6), ('beat', 6), ('mainly', 6), ('soul', 6), ('various', 6), ('insist', 6), ('fancy', 6), ('american', 6), ('irport', 6), ('p.m', 6), ('husbend', 6), ('acter', 6), ('humen', 6), ('fond', 6), ('online', 6), ('ancle', 6), ('wa', 6), ('volleyball', 6), ('magazine', 6), ('interisting', 6), ('1999', 6), ('hogwarts', 6), ('capture', 6), ('produce', 6), ('belonging', 6), ('spectacular', 6), ('whose', 6), ('shake', 6), ('throughout', 6), ('whatch', 6), ('chicken', 6), ('y', 6), ('thinking', 6), ('serious', 6), ('spain', 6), ('arabian', 6), ('naice', 6), ('8:00', 6), ('beautful', 6), ('abha', 6), ('kaaba', 6), ('scarf', 6), ('sahara', 6), ('zone', 6), ('disert', 6), ('oclock', 6), ('proplem', 6), ('sudia', 6), ('surgery', 6), ('pc', 6), ('7th', 6), ('hafet', 6), ('wonderland', 6), ('relate', 6), ('wave', 6), ('dabia', 6), ('docter', 6), ('brok', 6), ('aboute', 6), ('hoiday', 6), ('keen', 6), ('dabi', 6), ('un', 6), ('mess', 6), ('hotle', 6), ('butterfly', 6), ('mine', 6), ('relly', 6), ('ra', 6), ('twin', 6), ('hunt', 6), ('plain', 6), ('pencil', 6), ('faith', 6), ('buetiful', 6), ('happay', 6), ('fir', 6), ('maximos', 6), ('fatar', 6), ('samer', 6), ('.because', 6), ('suffer', 6), ('diamond', 6), ('rashid', 6), ('placess', 6), ('exhaust', 6), ('seeing', 6), ('gacehun', 6), ('osaka', 6), ('fotbool', 6), ('resterant', 6), ('saturday', 6), ('whent', 6), ('saty', 6), ('boston', 6), ('senter', 6), ('doughter', 6), ('bridge', 6), ('hell', 6), ('minut', 6), ('oxford', 6), ('inform', 6), ('fix', 6), ('smill', 6), ('vimpyr', 6), ('dibba', 6), ('sudai', 6), ('don', 6), ('east', 6), ('parant', 6), ('beth', 6), ('spicy', 6), ('canada', 6), ('accept', 6), ('eight', 6), ('wondrfful', 6), ('amisha', 6), ('nora', 6), ('kl', 6), ('cand', 6), ('rajo', 6), ('eggpt', 6), ('nerve', 5), ('lonely', 5), ('programe', 5), ('project', 5), ('variety', 5), ('successful', 5), ('sammer', 5), ('cantrey', 5), ('l', 5), ('noon', 5), ('singing', 5), ('farmer', 5), ('remamber', 5), ('nex', 5), ('habit', 5), ('smoke', 5), ('nai', 5), ('nay', 5), ('lest', 5), ('wonderfal', 5), ('religion', 5), ('rainn', 5), ('comp', 5), ('sty', 5), ('indeed', 5), ('depressed', 5), ('baba', 5), ('resort', 5), ('pople', 5), ('huda', 5), ('popcorn', 5), ('ungry', 5), ('9:00', 5), ('miserable', 5), ('washington', 5), ('masjed', 5), ('sandy', 5), ('bar', 5), ('struggle', 5), ('alkaba', 5), ('horror', 5), ('technology', 5), ('sailor', 5), ('seek', 5), ('purpose', 5), ('ca', 5), ('bread', 5), ('map', 5), ('rarely', 5), ('college', 5), ('cycle', 5), ('bach', 5), ('faster', 5), ('source', 5), ('release', 5), ('cave', 5), ('patience', 5), ('jon', 5), ('mary', 5), ('weath', 5), ('u.s.a.', 5), ('reflect', 5), ('living', 5), ('cinme', 5), ('upset', 5), ('toward', 5), ('bath', 5), ('directly', 5), ('specialy', 5), ('honestly', 5), ('cloud', 5), ('wathe', 5), ('hight', 5), ('sean', 5), ('whet', 5), ('creature', 5), ('straight', 5), ('key', 5), ('belong', 5), ('musum', 5), ('further', 5), ('desire', 5), ('mohamed', 5), ('hir', 5), ('adore', 5), ('persone', 5), ('theater', 5), ('distroy', 5), ('tech', 5), ('common', 5), ('unity', 5), ('plot', 5), ('perform', 5), ('el', 5), ('escape', 5), ('tack', 5), ('ii', 5), ('fashion', 5), ('bass', 5), ('serve', 5), ('fery', 5), ('thet', 5), ('culb', 5), ('walking', 5), ('afra', 5), ('salt', 5), ('barely', 5), ('us', 5), ('shos', 5), ('scar', 5), ('cure', 5), ('wan', 5), ('fimely', 5), ('bard', 5), ('sheep', 5), ('dish', 5), ('clim', 5), ('camil', 5), ('barj', 5), ('cary', 5), ('ham', 5), ('swimm', 5), ('brown', 5), ('goblet', 5), ('ignore', 5), ('leat', 5), ('trafic', 5), ('wate', 5), ('angre', 5), ('dubie', 5), ('repair', 5), ('othe', 5), ('clud', 5), ('cantery', 5), ('tray', 5), ('nor', 5), ('issue', 5), ('entertain', 5), ('moral', 5), ('exist', 5), ('pillow', 5), ('ti', 5), ('pressure', 5), ('saster', 5), ('shy', 5), ('conversation', 5), ('retur', 5), ('juice', 5), ('ac', 5), ('achieve', 5), ('asia', 5), ('relaxed', 5), ('mony', 5), ('cake', 5), ('hotell', 5), ('orlando', 5), ('frodo', 5), ('snak', 5), ('agen', 5), ('stable', 5), ('secoundly', 5), ('creative', 5), ('apart', 5), ('hall', 5), ('thear', 5), ('polic', 5), ('enjoyment', 5), ('horn', 5), ('refreshing', 5), ('object', 5), ('avoid', 5), ('deliver', 5), ('excitement', 5), ('careful', 5), ('wadi', 5), ('chiken', 5), ('gang', 5), ('contact', 5), ('tink', 5), ('cell', 5), ('bangkok', 5), ('purchase', 5), ('uncel', 5), ('hafit', 5), ('enjo', 5), ('handball', 5), ('ths', 5), ('swiss', 5), ('becus', 5), ('naic', 5), ('beutful', 5), ('interist', 5), ('sunrise', 5), ('fainlly', 5), ('totally', 5), ('clook', 5), ('becauce', 5), ('remmeber', 5), ('nicely', 5), ('c', 5), ('fastival', 5), ('relation', 5), ('macca', 5), ('begining', 5), ('2003', 5), ('asleep', 5), ('boss', 5), ('plenty', 5), ('nevertheless', 5), ('hundred', 5), ('sop', 5), ('slope', 5), ('sightseeing', 5), ('wnt', 5), ('funniest', 5), ('sultan', 5), ('page', 5), ('adress', 5), ('cast', 5), ('married', 5), ('sumer', 5), ('londone', 5), ('f', 5), ('brain', 5), ('leisure', 5), ('parking', 5), ('abdulla', 5), ('.at', 5), ('kuwit', 5), ('mai', 5), ('monday', 5), ('drow', 5), ('moza', 5), ('o`clock', 5), ('imagen', 5), ('paint', 5), ('travll', 5), ('annoying', 5), ('combine', 5), ('trust', 5), ('sale', 5), ('aisha', 5), ('omer', 5), ('bo', 5), ('animale', 5), ('african', 5), ('attend', 5), ('fran', 5), ('manth', 5), ('ment', 5), ('soft', 5), ('x', 5), ('youer', 5), ('settle', 5), ('abook', 5), ('hove', 5), ('faiut', 5), ('sam', 5), ('weekand', 5), ('dobai', 5), ('success', 5), ('diffirent', 5), ('classmate', 5), ('mosqe', 5), ('afri', 5), ('occur', 5), ('meny', 5), ('islamic', 5), ('goal', 5), ('hollyday', 5), ('inorder', 5), ('moore', 5), ('butefull', 5), ('er', 5), ('sate', 5), ('palace', 5), ('presentation', 5), ('sarah', 5), ('kitchen', 5), ('fathier', 5), ('muh', 5), ('diffcult', 5), ('mak', 5), ('you', 5), ('accessory', 5), ('becaue', 5), ('ancal', 5), ('poster', 5), ('tanzania', 5), ('terry', 5), ('worset', 5), ('contrie', 5), ('playstation', 5), ('rusell', 5), ('d15', 5), ('confused', 5), ('palestinian', 5), ('salam', 5), ('guideman', 5), ('forst', 5), ('duadi', 5), ('sharukhan', 5), ('rifle', 5), ('fared', 5), ('stree', 4), ('shold', 4), ('litter', 4), ('institute', 4), ('riding', 4), ('professional', 4), ('famli', 4), ('23', 4), ('beging', 4), ('avrey', 4), ('practice', 4), ('mumbai', 4), ('attractive', 4), ('forword', 4), ('vry', 4), ('smmer', 4), ('wach', 4), ('organise', 4), ('shoud', 4), ('becoue', 4), ('swmming', 4), ('manke', 4), ('.she', 4), ('mickey', 4), ('  ', 4), ('hapend', 4), ('tool', 4), ('plate', 4), ('support', 4), ('surprisingly', 4), ('blame', 4), ('booking', 4), ('disneyland', 4), ('lover', 4), ('hours', 4), ('mud', 4), ('reem', 4), ('seychelles', 4), ('bicycle', 4), ('provide', 4), ('funtastic', 4), ('cousen', 4), ('agin', 4), ('holidays', 4), ('los', 4), ('sin', 4), ('region', 4), ('singer', 4), ('atmosphere', 4), ('becouz', 4), ('sinter', 4), ('noore', 4), ('pak', 4), ('directing', 4), ('tie', 4), ('zamzam', 4), ('thriller', 4), ('fiance', 4), ('fake', 4), ('fifteen', 4), ('swime', 4), ('minet', 4), ('drank', 4), ('alhili', 4), ('played', 4), ('babys', 4), ('streat', 4), ('englis', 4), ('hen', 4), ('afride', 4), ('helthy', 4), ('drag', 4), ('scenery', 4), ('local', 4), ('educational', 4), ('canda', 4), ('louvre', 4), ('suit', 4), ('frinds', 4), ('salim', 4), ('add', 4), ('farst', 4), ('sword', 4), ('alive', 4), ('attract', 4), ('masirah', 4), ('colourful', 4), ('ou', 4), ('ferst', 4), ('tomb', 4), ('massive', 4), ('cab', 4), ('reservation', 4), ('metal', 4), ('shirt', 4), ('falim', 4), ('plac', 4), ('mor', 4), ('beacause', 4), ('loss', 4), ('mimzer', 4), ('ara', 4), ('cenema', 4), ('countre', 4), ('famaliy', 4), ('fin', 4), ('mi', 4), ('beatful', 4), ('fourteen', 4), ('toll', 4), ('prepair', 4), ('sue', 4), ('social', 4), ('oscar', 4), ('beache', 4), ('monke', 4), ('emarat', 4), ('clamp', 4), ('foreign', 4), ('nae', 4), ('wekend', 4), ('kidnap', 4), ('mood', 4), ('thousand', 4), ('isee', 4), ('baut', 4), ('recall', 4), ('whin', 4), ('prather', 4), ('caw', 4), ('twenty', 4), ('15th', 4), ('rule', 4), ('universe', 4), ('rings', 4), ('worth', 4), ('fins', 4), ('vilige', 4), ('anger', 4), ('anemal', 4), ('becuose', 4), ('feeld', 4), ('deid', 4), ('sailing', 4), ('roud', 4), ('cultur', 4), ('novel', 4), ('mohamm', 4), ('emirate', 4), ('grean', 4), ('summur', 4), ('brathe', 4), ('tayer', 4), ('encourage', 4), ('seed', 4), ('agent', 4), ('muslims', 4), ('arabs', 4), ('rose', 4), ('priest', 4), ('possess', 4), ('demon', 4), ('permission', 4), ('warn', 4), ('somewhere', 4), ('mariam', 4), ('medical', 4), ('knowledge', 4), ('remove', 4), ('medicine', 4), ('afew', 4), ('musume', 4), ('nada', 4), ('isaw', 4), ('afther', 4), ('custom', 4), ('tourism', 4), ('thair', 4), ('toye', 4), ('café', 4), ('mome', 4), ('fainaly', 4), ('pad', 4), ('eid', 4), ('import', 4), ('5:00', 4), ('oure', 4), ('file', 4), ('heaven', 4), ('houme', 4), ('travelling', 4), ('north', 4), ('borrow', 4), ('arm', 4), ('thre', 4), ('alexandria', 4), ('gloomy', 4), ('motel', 4), ('famaily', 4), ('colleg', 4), ('longer', 4), ('brothr', 4), ('connection', 4), ('j', 4), ('cock', 4), ('fair', 4), ('lave', 4), ('pictur', 4), ('list', 4), ('thought', 4), ('beath', 4), ('disapoint', 4), ('our', 4), ('temple', 4), ('3:00', 4), ('hata', 4), ('laughter', 4), ('perfectly', 4), ('countinu', 4), ('closer', 4), ('tal', 4), ('anymore', 4), ('clearly', 4), ('bougth', 4), ('december', 4), ('dosent', 4), ('reader', 4), ('stol', 4), ('g', 4), ('climbing', 4), ('usefull', 4), ('nap', 4), ('best', 4), ('feell', 4), ('geam', 4), ('sastar', 4), ('ho', 4), ('remmember', 4), ('siter', 4), ('damage', 4), ('manager', 4), ('injure', 4), ('murder', 4), ('sk', 4), ('u.k', 4), ('jabl', 4), ('monten', 4), ('2002', 4), ('courchevel', 4), ('brand', 4), ('television', 4), ('glad', 4), ('emam', 4), ('veare', 4), ('stard', 4), ('veary', 4), ('notebook', 4), ('south', 4), ('abdabi', 4), ('tag', 4), ('hime', 4), ('lote', 4), ('business', 4), ('monthe', 4), ('smith', 4), ('unforgetable', 4), ('lione', 4), ('dudie', 4), ('office', 4), ('si', 4), ('ad', 4), ('skit', 4), ('mc', 4), ('phee', 4), ('roam', 4), ('disaster', 4), ('visitor', 4), ('aswell', 4), ('ancul', 4), ('memorise', 4), ('wy', 4), ('franc', 4), ('impossible', 4), ('accompany', 4), ('pleasure', 4), ('unforgettable', 4), ('zebra', 4), ('satisfied', 4), ('vocation', 4), ('st', 4), ('southern', 4), ('describ', 4), ('forgat', 4), ('ab', 4), ('samr', 4), ('whan', 4), ('officer', 4), ('truth', 4), ('untel', 4), ('cheerful', 4), ('anather', 4), ('sitey', 4), ('diecid', 4), ('toe', 4), ('silly', 4), ('non', 4), ('siad', 4), ('ambulance', 4), ('patient', 4), ('fraiday', 4), ('awake', 4), ('flow', 4), ('primary', 4), ('bigan', 4), ('ren', 4), ('aba', 4), ('kingdom', 4), ('woter', 4), ('eara', 4), ('abudabi', 4), ('activetie', 4), ('wady', 4), ('poetry', 4), ('butifal', 4), ('hopy', 4), ('inspire', 4), ('appreciate', 4), ('smoking', 4), ('failm', 4), ('wenderful', 4), ('wonerful', 4), ('soil', 4), ('ply', 4), ('ina', 4), ('flim', 4), ('wondrful', 4), ('liar', 4), ('regret', 4), ('und', 4), ('brether', 4), ('awonderful', 4), ('sade', 4), ('ahotel', 4), ('pearl', 4), ('yacht', 4), ('infact', 4), ('eld', 4), ('doy', 4), ('midnight', 4), ('barke', 4), ('specific', 4), ('affect', 4), ('contribute', 4), ('million', 4), ('nationality', 4), ('hep', 4), ('hart', 4), ('barlk', 4), ('attack', 4), ('faruch', 4), ('areally', 4), ('restuarant', 4), ('antel', 4), ('whether', 4), ('skirt', 4), ('dvd', 4), ('stady', 4), ('denar', 4), ('sey', 4), ('beacous', 4), ('amal', 4), ('hind', 4), ('ie', 4), ('musim', 4), ('bangkook', 4), ('bite', 4), ('harrods', 4), ('boll', 4), ('onto', 4), ('thirty', 4), ('tam', 4), ('lok', 4), ('–', 4), ('mobazara', 4), ('pley', 4), ('hotiel', 4), ('forrest', 4), ('drug', 4), ('idia', 4), ('adel', 4), ('eirport', 4), ('abd', 4), ('hosbitel', 4), ('ner', 4), ('halthy', 4), ('ache', 4), ('score', 4), ('makkah', 4), ('previous', 4), ('egg', 4), ('reserve', 4), ('aclock', 4), ('transform', 4), ('sistere', 4), ('quter', 4), ('tofaha', 4), ('boyfriend', 4), ('masafi', 4), ('barther', 4), ('activite', 4), ('theree', 4), ('rember', 4), ('coffe', 4), ('nintendo', 4), ('carpet', 4), ('awar', 4), ('jast', 4), ('vennice', 4), ('um', 4), ('fog', 4), ('yeman', 4), ('lost', 4), ('khaima', 4), ('similar', 4), ('mountion', 4), ('rescue', 4), ('emarits', 4), ('hong', 4), ('etc', 4), ('rase', 4), ('gierl', 4), ('watr', 4), ('honest', 4), ('detail', 4), ('cluld', 4), ('supermarket', 4), ('jungle', 4), ('jop', 4), ('toilet', 4), ('mohammad', 4), ('auncle', 4), ('houston', 4), ('quicly', 4), ('clever', 4), ('amongst', 4), ('rean', 4), ('kalba', 4), ('greet', 4), ('dabbi', 4), ('volley', 4), ('khan', 4), ('acar', 4), ('madena', 4), ('saudia', 4), ('deseart', 4), ('samar', 4), ('dide', 4), ('crystal', 4), ('plying', 4), ('e70', 4), ('brathar', 4), ('stell', 4), ('seck', 4), ('brussels', 4), ('shadow', 4), ('opend', 4), ('giev', 4), ('bizou', 4), ('singapore', 4), ('moma', 4), ('profet', 4), ('furniture', 4), ('research', 4), ('excercic', 4), ('luxurious', 4), ('bestre', 4), ('amarican', 4), ('wad', 4), ('mater', 4), ('lindy', 4), ('hospittal', 4), ('jasmin', 4), ('rollerblade', 4), ('jun', 4), ('desairt', 4), ('antey', 4), ('hssne', 4), ('bangladesh', 4), ('mac', 4), ('shek', 4), ('sharm', 4), ('pecoze', 4), ('dearty', 3), ('earia', 3), ('maby', 3), ('.there', 3), ('vedio', 3), ('field', 3), ('concentrate', 3), ('section', 3), ('shoot', 3), ('fren', 3), ('headache', 3), ('noty', 3), ('bahrin', 3), ('cher', 3), ('tina', 3), ('disturb', 3), ('refresh', 3), ('dudi', 3), ('ster', 3), ('borther', 3), ('hape', 3), ('thired', 3), ('re', 3), ('saven', 3), ('bomb', 3), ('slep', 3), ('gril', 3), ('swimmg', 3), ('whoyou', 3), ('wounderland', 3), ('aunty', 3), ('luckly', 3), ('terrify', 3), ('\\x1e', 3), ('¦', 3), ('fruite', 3), ('hwo', 3), ('ta', 3), ('bee', 3), ('snap', 3), ('slip', 3), ('islands', 3), ('fantactic', 3), ('recognize', 3), ('dwon', 3), ('sould', 3), ('hor', 3), ('amusement', 3), ('ahead', 3), ('amusing', 3), ('national', 3), ('routine', 3), ('liberty', 3), ('la', 3), ('brothers', 3), ('universal', 3), ('dolphin', 3), ('snik', 3), ('fimily', 3), ('suadia', 3), ('lovly', 3), ('planet', 3), ('tokyo', 3), ('ig', 3), ('yer', 3), ('frenid', 3), ('rough', 3), ('acting', 3), ('possible', 3), ('bt', 3), ('secand', 3), ('monte', 3), ('importantly', 3), ('identity', 3), ('waite', 3), ('maive', 3), ('jone', 3), ('studing', 3), ('medicen', 3), ('gome', 3), ('exame', 3), ('entrance', 3), ('cafe', 3), ('exhausted', 3), ('preplem', 3), ('agane', 3), ('pole', 3), ('bage', 3), ('bal', 3), ('wnderful', 3), ('gree', 3), ('accedint', 3), ('frustrated', 3), ('places', 3), ('afun', 3), ('skateboard', 3), ('surface', 3), ('recover', 3), ('ability', 3), ('twice', 3), ('attempt', 3), ('trick', 3), ('farmar', 3), ('eivel', 3), ('buitful', 3), ('handle', 3), ('defend', 3), ('particular', 3), ('greatly', 3), ('strike', 3), ('mothar', 3), ('brank', 3), ('frande', 3), ('fistival', 3), ('matar', 3), ('hely', 3), ('aboard', 3), ('inspite', 3), ('usual', 3), ('lousy', 3), ('concert', 3), ('thif', 3), ('tiered', 3), ('betch', 3), ('famity', 3), ('anothe', 3), ('paradise', 3), ('austria', 3), ('transportation', 3), ('poland', 3), ('distance', 3), ('hote', 3), ('maisor', 3), ('mohammd', 3), ('jet', 3), ('relaxation', 3), ('swimmig', 3), ('duabi', 3), ('28th', 3), ('istanbul', 3), ('fnish', 3), ('shall', 3), ('setting', 3), ('ne', 3), ('fter', 3), ('roman', 3), ('sisiter', 3), ('mode', 3), ('tirde', 3), ('gress', 3), ('mar', 3), ('importan', 3), ('naise', 3), ('twelve', 3), ('loose', 3), ('liv', 3), ('senma', 3), ('nominate', 3), ('plaza', 3), ('snack', 3), ('mombai', 3), ('bly', 3), ('everday', 3), ('let`s', 3), ('wot', 3), ('sh', 3), ('swiming', 3), ('drea', 3), ('holidey', 3), ('hence', 3), ('mission', 3), ('definitely', 3), ('beacus', 3), ('keept', 3), ('khalid', 3), ('saeed', 3), ('roller', 3), ('coaster', 3), ('arcade', 3), ('beateful', 3), ('diver', 3), ('cour', 3), ('license', 3), ('thy', 3), ('il', 3), ('ithe', 3), ('sissy', 3), ('smelly', 3), ('prayer', 3), ('impact', 3), ('mutch', 3), ('email', 3), ('pull', 3), ('volly', 3), ('worm', 3), ('comedian', 3), ('guard', 3), ('accomplish', 3), ('uncomfortable', 3), ('lesen', 3), ('bod', 3), ('zoon', 3), ('defrent', 3), ('thenk', 3), ('tiland', 3), ('salad', 3), ('couse', 3), ('term', 3), ('cosen', 3), ('hospetal', 3), ('yellow', 3), ('boot', 3), ('comptition', 3), ('seventeen', 3), ('following', 3), ('taim', 3), ('dat', 3), ('activety', 3), ('machin', 3), ('thng', 3), ('begaining', 3), ('hay', 3), ('hangry', 3), ('mate', 3), ('clous', 3), ('israeli', 3), ('recent', 3), ('spirit', 3), ('wise', 3), ('inst', 3), ('harb', 3), ('eiffel', 3), ('aspect', 3), ('being', 3), ('ia', 3), ('resist', 3), ('somebody', 3), ('shark', 3), ('heir', 3), ('perent', 3), ('shin', 3), ('ourself', 3), ('arabi', 3), ('nous', 3), ('afried', 3), ('economy', 3), ('kindness', 3), ('depend', 3), ('friand', 3), ('mobil', 3), ('geat', 3), ('hollywood', 3), ('bloom', 3), ('devil', 3), ('deser', 3), ('gev', 3), ('onther', 3), ('hoildy', 3), ('salal', 3), ('howe', 3), ('occupy', 3), ('anthor', 3), ('tress', 3), ('wonderfol', 3), ('closed', 3), ('triwizard', 3), ('champion', 3), ('graphic', 3), ('deci', 3), ('untile', 3), ('teenager', 3), ('broke', 3), ('vaccation', 3), ('description', 3), ('wallet', 3), ('plice', 3), ('trovel', 3), ('responsible', 3)]]"
      ]
     },
     "execution_count": 68,
     "metadata": {},
     "output_type": "execute_result"
    }
   ],
   "source": [
    "# looking at the thing\n",
    "balc_lemmas"
   ]
  },
  {
   "cell_type": "code",
   "execution_count": 69,
   "metadata": {},
   "outputs": [
    {
     "data": {
      "text/html": [
       "<div>\n",
       "<style scoped>\n",
       "    .dataframe tbody tr th:only-of-type {\n",
       "        vertical-align: middle;\n",
       "    }\n",
       "\n",
       "    .dataframe tbody tr th {\n",
       "        vertical-align: top;\n",
       "    }\n",
       "\n",
       "    .dataframe thead th {\n",
       "        text-align: right;\n",
       "    }\n",
       "</style>\n",
       "<table border=\"1\" class=\"dataframe\">\n",
       "  <thead>\n",
       "    <tr style=\"text-align: right;\">\n",
       "      <th></th>\n",
       "      <th>pair</th>\n",
       "    </tr>\n",
       "  </thead>\n",
       "  <tbody>\n",
       "    <tr>\n",
       "      <th>0</th>\n",
       "      <td>(the, 13677)</td>\n",
       "    </tr>\n",
       "    <tr>\n",
       "      <th>1</th>\n",
       "      <td>(and, 10492)</td>\n",
       "    </tr>\n",
       "    <tr>\n",
       "      <th>2</th>\n",
       "      <td>(be, 10213)</td>\n",
       "    </tr>\n",
       "    <tr>\n",
       "      <th>3</th>\n",
       "      <td>(to, 8692)</td>\n",
       "    </tr>\n",
       "    <tr>\n",
       "      <th>4</th>\n",
       "      <td>(in, 6122)</td>\n",
       "    </tr>\n",
       "  </tbody>\n",
       "</table>\n",
       "</div>"
      ],
      "text/plain": [
       "           pair\n",
       "0  (the, 13677)\n",
       "1  (and, 10492)\n",
       "2   (be, 10213)\n",
       "3    (to, 8692)\n",
       "4    (in, 6122)"
      ]
     },
     "execution_count": 69,
     "metadata": {},
     "output_type": "execute_result"
    }
   ],
   "source": [
    "# creating a pandas dataframe with the tuples of (lem, count)\n",
    "lemma_counts = pd.DataFrame(balc_lemmas, index=[0]).T\n",
    "lemma_counts.columns = ['pair']\n",
    "lemma_counts.head()"
   ]
  },
  {
   "cell_type": "code",
   "execution_count": 70,
   "metadata": {},
   "outputs": [
    {
     "data": {
      "text/plain": [
       "'the'"
      ]
     },
     "execution_count": 70,
     "metadata": {},
     "output_type": "execute_result"
    },
    {
     "data": {
      "text/plain": [
       "13677"
      ]
     },
     "execution_count": 70,
     "metadata": {},
     "output_type": "execute_result"
    }
   ],
   "source": [
    "# get the lemma \n",
    "def get_lem(x):\n",
    "    return x[0]\n",
    "\n",
    "# get the count\n",
    "def get_ct(x):\n",
    "    return x[1]\n",
    "\n",
    "# test\n",
    "get_lem(('the', 13677))\n",
    "get_ct(('the', 13677))"
   ]
  },
  {
   "cell_type": "code",
   "execution_count": 71,
   "metadata": {},
   "outputs": [
    {
     "data": {
      "text/html": [
       "<div>\n",
       "<style scoped>\n",
       "    .dataframe tbody tr th:only-of-type {\n",
       "        vertical-align: middle;\n",
       "    }\n",
       "\n",
       "    .dataframe tbody tr th {\n",
       "        vertical-align: top;\n",
       "    }\n",
       "\n",
       "    .dataframe thead th {\n",
       "        text-align: right;\n",
       "    }\n",
       "</style>\n",
       "<table border=\"1\" class=\"dataframe\">\n",
       "  <thead>\n",
       "    <tr style=\"text-align: right;\">\n",
       "      <th></th>\n",
       "      <th>pair</th>\n",
       "      <th>lemma</th>\n",
       "      <th>counts</th>\n",
       "    </tr>\n",
       "  </thead>\n",
       "  <tbody>\n",
       "    <tr>\n",
       "      <th>0</th>\n",
       "      <td>(the, 13677)</td>\n",
       "      <td>the</td>\n",
       "      <td>13677</td>\n",
       "    </tr>\n",
       "    <tr>\n",
       "      <th>1</th>\n",
       "      <td>(and, 10492)</td>\n",
       "      <td>and</td>\n",
       "      <td>10492</td>\n",
       "    </tr>\n",
       "    <tr>\n",
       "      <th>2</th>\n",
       "      <td>(be, 10213)</td>\n",
       "      <td>be</td>\n",
       "      <td>10213</td>\n",
       "    </tr>\n",
       "    <tr>\n",
       "      <th>3</th>\n",
       "      <td>(to, 8692)</td>\n",
       "      <td>to</td>\n",
       "      <td>8692</td>\n",
       "    </tr>\n",
       "    <tr>\n",
       "      <th>4</th>\n",
       "      <td>(in, 6122)</td>\n",
       "      <td>in</td>\n",
       "      <td>6122</td>\n",
       "    </tr>\n",
       "  </tbody>\n",
       "</table>\n",
       "</div>"
      ],
      "text/plain": [
       "           pair lemma  counts\n",
       "0  (the, 13677)   the   13677\n",
       "1  (and, 10492)   and   10492\n",
       "2   (be, 10213)    be   10213\n",
       "3    (to, 8692)    to    8692\n",
       "4    (in, 6122)    in    6122"
      ]
     },
     "execution_count": 71,
     "metadata": {},
     "output_type": "execute_result"
    }
   ],
   "source": [
    "# create new columns\n",
    "lemma_counts['lemma'] = lemma_counts.pair.map(get_lem)\n",
    "lemma_counts['counts'] = lemma_counts.pair.map(get_ct)\n",
    "lemma_counts.head()"
   ]
  },
  {
   "cell_type": "code",
   "execution_count": 72,
   "metadata": {},
   "outputs": [
    {
     "data": {
      "text/html": [
       "<div>\n",
       "<style scoped>\n",
       "    .dataframe tbody tr th:only-of-type {\n",
       "        vertical-align: middle;\n",
       "    }\n",
       "\n",
       "    .dataframe tbody tr th {\n",
       "        vertical-align: top;\n",
       "    }\n",
       "\n",
       "    .dataframe thead th {\n",
       "        text-align: right;\n",
       "    }\n",
       "</style>\n",
       "<table border=\"1\" class=\"dataframe\">\n",
       "  <thead>\n",
       "    <tr style=\"text-align: right;\">\n",
       "      <th></th>\n",
       "      <th>lemma</th>\n",
       "      <th>counts</th>\n",
       "    </tr>\n",
       "  </thead>\n",
       "  <tbody>\n",
       "    <tr>\n",
       "      <th>0</th>\n",
       "      <td>the</td>\n",
       "      <td>13677</td>\n",
       "    </tr>\n",
       "    <tr>\n",
       "      <th>1</th>\n",
       "      <td>and</td>\n",
       "      <td>10492</td>\n",
       "    </tr>\n",
       "    <tr>\n",
       "      <th>2</th>\n",
       "      <td>be</td>\n",
       "      <td>10213</td>\n",
       "    </tr>\n",
       "    <tr>\n",
       "      <th>3</th>\n",
       "      <td>to</td>\n",
       "      <td>8692</td>\n",
       "    </tr>\n",
       "    <tr>\n",
       "      <th>4</th>\n",
       "      <td>in</td>\n",
       "      <td>6122</td>\n",
       "    </tr>\n",
       "  </tbody>\n",
       "</table>\n",
       "</div>"
      ],
      "text/plain": [
       "  lemma  counts\n",
       "0   the   13677\n",
       "1   and   10492\n",
       "2    be   10213\n",
       "3    to    8692\n",
       "4    in    6122"
      ]
     },
     "execution_count": 72,
     "metadata": {},
     "output_type": "execute_result"
    }
   ],
   "source": [
    "# drop 'pair' column\n",
    "lemma_counts = lemma_counts.drop(columns=['pair'])\n",
    "lemma_counts.head()"
   ]
  },
  {
   "cell_type": "code",
   "execution_count": 73,
   "metadata": {},
   "outputs": [],
   "source": [
    "# saving lemma counts out to a csv file for later use\n",
    "lemma_counts.to_csv(\"../private/filtered_balc_lemmas.csv\")"
   ]
  },
  {
   "cell_type": "code",
   "execution_count": 79,
   "metadata": {},
   "outputs": [],
   "source": [
    "# saving cepa files out to csv file in the private folder\n",
    "cepa_df.to_csv(\"../private/cepa.csv\")"
   ]
  }
 ],
 "metadata": {
  "kernelspec": {
   "display_name": "Python 3",
   "language": "python",
   "name": "python3"
  },
  "language_info": {
   "codemirror_mode": {
    "name": "ipython",
    "version": 3
   },
   "file_extension": ".py",
   "mimetype": "text/x-python",
   "name": "python",
   "nbconvert_exporter": "python",
   "pygments_lexer": "ipython3",
   "version": "3.7.2"
  }
 },
 "nbformat": 4,
 "nbformat_minor": 2
}
